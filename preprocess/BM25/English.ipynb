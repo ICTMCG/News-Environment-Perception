{
 "cells": [
  {
   "cell_type": "markdown",
   "metadata": {},
   "source": [
    "# Loading"
   ]
  },
  {
   "cell_type": "code",
   "execution_count": 1,
   "metadata": {
    "ExecuteTime": {
     "end_time": "2022-06-04T15:57:58.416874Z",
     "start_time": "2022-06-04T15:57:57.944550Z"
    }
   },
   "outputs": [],
   "source": [
    "import json\n",
    "import random\n",
    "import sys\n",
    "import bm25\n",
    "import numpy as np\n",
    "from tqdm import tqdm"
   ]
  },
  {
   "cell_type": "code",
   "execution_count": 2,
   "metadata": {
    "ExecuteTime": {
     "end_time": "2022-06-04T15:57:58.893543Z",
     "start_time": "2022-06-04T15:57:58.870886Z"
    }
   },
   "outputs": [
    {
     "name": "stdout",
     "output_type": "stream",
     "text": [
      "3900\n",
      "1294\n",
      "1289\n"
     ]
    }
   ],
   "source": [
    "datasets = []\n",
    "\n",
    "for t in ['train', 'val', 'test']:\n",
    "    with open('../../dataset/English/post/{}.json'.format(t), 'r') as f:\n",
    "        pieces = json.load(f)\n",
    "        print(len(pieces))\n",
    "        datasets.append(pieces)"
   ]
  },
  {
   "cell_type": "code",
   "execution_count": 3,
   "metadata": {
    "ExecuteTime": {
     "end_time": "2022-06-04T15:58:00.440655Z",
     "start_time": "2022-06-04T15:58:00.424367Z"
    }
   },
   "outputs": [
    {
     "data": {
      "text/plain": [
       "{'content': 'We’ve got close to 7 million Americans who have access to health care for the first time because of Medicaid expansion.',\n",
       " 'time': '2014-02-20 00:00:00',\n",
       " 'label': 'fake',\n",
       " 'source': 'MFC'}"
      ]
     },
     "execution_count": 3,
     "metadata": {},
     "output_type": "execute_result"
    }
   ],
   "source": [
    "datasets[-1][-10]"
   ]
  },
  {
   "cell_type": "code",
   "execution_count": 4,
   "metadata": {
    "ExecuteTime": {
     "end_time": "2022-06-04T15:58:09.603606Z",
     "start_time": "2022-06-04T15:58:08.881504Z"
    }
   },
   "outputs": [
    {
     "data": {
      "text/plain": [
       "8084"
      ]
     },
     "execution_count": 4,
     "metadata": {},
     "output_type": "execute_result"
    }
   ],
   "source": [
    "with open('../../dataset/English/articles/articles.json', 'r') as f:\n",
    "    raw_articles = json.load(f)\n",
    "len(raw_articles)"
   ]
  },
  {
   "cell_type": "code",
   "execution_count": 5,
   "metadata": {
    "ExecuteTime": {
     "end_time": "2022-06-04T15:58:10.003416Z",
     "start_time": "2022-06-04T15:58:09.996695Z"
    }
   },
   "outputs": [
    {
     "data": {
      "text/plain": [
       "{'date': '2018-05-26',\n",
       " 'url': 'https://www.snopes.com/fact-check/tim-tebow-kneel-anthem/',\n",
       " 'title': 'Did Tim Tebow Kneel During the National Anthem in Protest of Abortion?',\n",
       " 'subtitle': 'Tim Tebow and Colin Kaepernick are both famous for kneeling during football games, but in dramatically different contexts.',\n",
       " 'claim': 'Former NFL quarterback Tim Tebow knelt on the field during the national anthem as a protest against abortion.',\n",
       " 'content': 'Former NFL quarterback Colin Kaepernick (“former” because he is a free agent currently unsigned by any NFL team) is most famous among football fans — and a good many people who don’t follow football at all — as the one who kicked off a trend among NFL players in 2016 of refusing to stand to attention during the playing of the American national anthem prior to the start of games as a form of protest: Kaepernick decided to either remain seated or kneel during renditions of the Star Spangled Banner in support of Black Lives Matter and to protest police violence against black people. He explains, “I am not going to stand up to show pride in a flag for a country that oppresses black people and people of color. To me, this is bigger than football and it would be selfish on my part to look the other way. There are bodies in the street and people getting paid leave and getting away with murder.” He vowed to continue to protest until he feels like “[the American flag] represents what it’s supposed to represent.” You know what happened next, right? Kaepernick was voted the “most disliked” player in the NFL. People posted videos of them burning his jerseys. He was called “an embarrassment” and “a traitor.” He was blamed for a significant drop in NFL television ratings, with fans boycotting the NFL because of his protest. He received death threats. Another former NFL quarterback, Tim Tebow (“former” because he is currently pursing a career as a professional baseball player), is perhaps best known for displaying his Christian faith on the gridiron, including his practice of kneeling in silent prayer on the field, a practice that came to be known as “Tebowing”: He has been outspoken about his pro-life stance, and his commitment to abstinence from sex before marriage. He has preached in churches, prisons, schools, youth groups and a welter of evangelical conferences. And he is well known for his signature move — dropping to one knee on the field, his head bowed in prayer, his arm resting on his bent knee — known throughout the world as Tebowing. So indeed, Colin Kaepernick and Tim Tebow are both former NFL quarterbacks who are outwardly religious and became household figures for kneeling on football fields.  Although that last aspect (the kneeling) has sparked very different responses from the public in each case, that difference is not the hypocritical one that the following meme would have viewers believe:   Tim Tebow’s pro-life stance is well known, but he didn’t “take a knee” during the national anthem. And when Tebow did kneel on the gridiron, his actions were those of private prayer conducted during incidental moments surrounding a game and not, as Colin Kapernick’s were, a form of public protest purposefully tied to the playing of the U.S. national anthem. Fans may, of course, disagree over how these two quarterbacks’ extracurricular displays on the football field have been (or should have been) received by the public and by NFL officials, but the two cases had significant distinctions ; they weren’t equivalent actions that were hypocritically regarded in very different ways by different groups: Regardless of whether you’re more supportive of Kaepernick or Tebow, it’s pretty misleading to compare society’s reaction to either player without noting they kneeled in completely different contexts. If Tebow had taken to kneeling during the national anthem as a form of political protest, and especially as a form of protest against police officers, it’s not a stretch at all to say people would have been upset with him as well. That one player kneeled in prayer without the intentions of making an overt political statement while the other kneeled during the national anthem for an expressly political purpose is obviously an important detail to note when analyzing the public’s responses to both.'}"
      ]
     },
     "execution_count": 5,
     "metadata": {},
     "output_type": "execute_result"
    }
   ],
   "source": [
    "random.sample(raw_articles, 1)[0]"
   ]
  },
  {
   "cell_type": "code",
   "execution_count": 6,
   "metadata": {
    "ExecuteTime": {
     "end_time": "2022-06-04T15:58:10.963374Z",
     "start_time": "2022-06-04T15:58:10.908487Z"
    }
   },
   "outputs": [
    {
     "data": {
      "text/plain": [
       "8084"
      ]
     },
     "execution_count": 6,
     "metadata": {},
     "output_type": "execute_result"
    }
   ],
   "source": [
    "corpus = [' '.join([a['title'], a['subtitle'], a['claim'], a['content']])\n",
    "          for a in raw_articles]\n",
    "len(corpus)"
   ]
  },
  {
   "cell_type": "code",
   "execution_count": 7,
   "metadata": {
    "ExecuteTime": {
     "end_time": "2022-06-04T15:58:13.095030Z",
     "start_time": "2022-06-04T15:58:13.087747Z"
    }
   },
   "outputs": [
    {
     "data": {
      "text/plain": [
       "\"Did Mitch McConnell Vow to Block the Appointment of a Russia Investigation Special Prosecutor? Reports grossly misrepresent the Senate Majority Leader's actual statements. Mitch McConnell said he would block the appointment of a special counsel to investigate Russian election interference On 10 May 2017, Addicting Info reported that Republican Senate Majority Leader Mitch McConnell had vowed to\\xa0block the appointment of an independent counsel\\xa0to investigate Russian efforts to interfere in the United States’ 2016 elections, along with\\xa0alleged collusion between the Trump campaign team and Russia: Siding with Trump’s Attorney General Jeff Sessions and Trump’s spokesperson, McConnell told America from the floor of the Senate that he sees no reason to assign an independent special prosecutor or create a bipartisan committee to get to the bottom of Trump’s relationship to Russia. The story was published the day after President Donald Trump fired Federal Bureau of Investigation director James Comey, and a week before Deputy Attorney General Rod Rosenstein ultimately appointed former FBI director Robert Mueller as special counsel. The Addicting Info article does not actually include a quote from Mitch McConnell, but does allude to his remarks in the Senate on 10 May.\\xa0The relevant statement can be read here , and watched here : This is the only point at which McConnell addresses the prospect of a new investigation into Russian election interference (of the kind ultimately started\\xa0by Robert Mueller): Two investigations are currently ongoing: The Senate Intelligence Committee’s review of Russian active measures and intelligence activities and the FBI investigation disclosed by Director Comey. Today we will no doubt hear calls for a new investigation, which could only serve to impede the current work being done to not only discover what the Russians may have done but also to let this body and the national security community develop the countermeasures ad warfighting doctrine to see that it doesn’t occur again. Partisan calls should not delay the considerable work of Chairman Burr and Vice Chairman Warner [of the Senate Intelligence Committee]. Too much is at stake. These remarks make it clear that McConnell opposes setting up another investigation, and\\xa0although he didn’t explicitly refer to a special prosecutor or special counsel, it would be a reasonable interpretation of his remarks to say he would also oppose the appointment of a special counsel, given the many calls for such an investigation. However, he did not say he would “obstruct any effort to hire an independent special prosecutor,” or any words to that effect. Furthermore, it’s not clear how Mitch McConnell would have even had the capacity to block efforts to hire a special prosecutor,\\xa0a position now properly referred to as a “special counsel.” By law , the Attorney General or Deputy Attorney General is authorized to appoint a special counsel —\\xa0who does not have to be vetted or confirmed by the Senate or House of Representatives. And that is exactly what happened: Deputy Attorney General Rod Rosenstein, acting in lieu of\\xa0Attorney General Jeff Sessions, who has recused himself\\xa0from the Russia investigation, named former FBI Director Robert Mueller as special counsel on 17 May 2017. The Addicting Info article accurately describes Mitch McConnell’s opposition to a new Russia investigation, following the firing of James Comey. \\xa0However, it offers nothing to support the claim, in its headline, that the Senate Majority Leader had said he would “obstruct any effort” to appoint a special counsel, because the Senate Majority Leader never said that.\""
      ]
     },
     "execution_count": 7,
     "metadata": {},
     "output_type": "execute_result"
    }
   ],
   "source": [
    "random.sample(corpus, 1)[0]"
   ]
  },
  {
   "cell_type": "code",
   "execution_count": 8,
   "metadata": {
    "ExecuteTime": {
     "end_time": "2022-06-04T15:58:16.497301Z",
     "start_time": "2022-06-04T15:58:14.054401Z"
    }
   },
   "outputs": [],
   "source": [
    "model = bm25.init_model(corpus)"
   ]
  },
  {
   "cell_type": "markdown",
   "metadata": {},
   "source": [
    "## Example"
   ]
  },
  {
   "cell_type": "code",
   "execution_count": 18,
   "metadata": {
    "ExecuteTime": {
     "end_time": "2021-11-11T06:52:09.826383Z",
     "start_time": "2021-11-11T06:52:09.510712Z"
    }
   },
   "outputs": [
    {
     "name": "stdout",
     "output_type": "stream",
     "text": [
      "Every Republican Senate candidate has now announced whether or not they support the Senate taking up the Supreme Court vacancy…except for Congressman Heck. fake 2016-02-23 00:00:00\n",
      "\n",
      "========== Top: 0 , Score = 670.6296338984752 ========== \n",
      "\n",
      "2004-10-14\n",
      "American Cancer Society Hoax Will the American Cancer Society donate three cents to cancer research for every e-mail forwarded? For every forwarded copy of an e-mail received, the American Cancer Society will donate three cents to cancer research. It sounds too easy to be true: forward an e-mail, rack up some cancer research money. And it is. Too easy to be true, that is. This “dying child chain letter” hoax now circulating on the net victimizes the American Cancer Society. In the name of a fictitious little girl, people are exhorted to forward the letter on because each forward drops more money into the research coffers. Such an offer is hard to resist because it’s a painless good deed, a way to enjoy a self-congratulatory pat on the back for “making a difference” without actually having to do anything. After all, it’s being underwritten by the American Cancer Society and nameless corporate sponsors, right? Uh, wrong. You see, there is no Jessica Mydek, and there is no such program to score up some easy cancer research money. What there is, however, is the long-suffering American Cancer Society who have been left holding the bag. But let’s take a look at what’s actually being bounced around the net, eh? Cancer research money, guys . . . not much effort.LITTLE JESSICA MYDEK IS SEVEN YEARS OLD AND IS SUFFERING FROM AN ACUTE AND VERY RARE CASE OF CEREBRAL CARCINOMA. THIS CONDITION CAUSES SEVERE MALIGNANT BRAIN TUMORS AND IS A TERMINAL ILLNESS. THE DOCTORS HAVE GIVEN HER SIX MONTHS TO LIVE. AS PART OF HER DYING WISH, SHE WANTED TO START A CHAIN LETTER TO INFORM PEOPLE OF THIS CONDITION AND TO SEND PEOPLE THE MESSAGE TO LIVE LIFE TO THE FULLEST AND ENJOY EVERY MOMENT, A CHANCE THAT SHE WILL NEVER HAVE. FURTHERMORE, THE AMERICAN CANCER SOCIETY AND SEVERAL CORPORATE SPONSORS HAVE AGREED TO DONATE THREE CENTS TOWARD CONTINUING CANCER RESEARCH FOR EVERY NEW PERSON THAT GETS FORWARDED THIS MESSAGE. PLEASE GIVE JESSICA AND ALL CANCER VICTIMS A CHANCE. SEND A COPY OF THIS TO EVERYONE YOU KNOW AND ONE TO THE AMERICAN CANCER SOCIETY AT ACS@AOL.COM. That was the original version. Since January 1997, this “3 cent” e-mail hoax has undergone numerous major transformations: For every new person that this is passed on to The American Cancer Society will donate 3 cents to cancer research. Please help us. Forward this to everyone you know. Also add to your list ACS@aol.com. Thanks for helping!! o.k. you guys . . . this isn’t a chain letter, but a choice for all of us to save a little girl that’s dying of a serious and fatal form of cancer. please send this to everyone you know…or don’t know at that. this little girl has 6 months left to live her life, and as her dying wish, she wanted to send a chain letter telling everyone to live their life to the fullest, since she never will. she’ll never make it to prom, graduate from high school, or get married and have a family of her own. but by you sending this to as many people as possible, you can give her and her family a little hope, because with every name that this is sent to, the american cancer society will donate 3 cents per name to her treatment and recovery plan. one guy sent this to 500 people !!!! so, i know that we can send it to at least 5 or 6. come on you guys…. and here’s 2 great reasons to take 5-10 minutes to forward this to ANYONE:1) It’s a an awesome way to rack up POSITIVE karma points :) 2) just think, she could be you one day . . . and in addition there’s no need to send any form of money, just your time. So how about it? Thanks in advance! I LOVE YOU GUYS!!! By November 1997 the Tamara Martin e-mail had returned, this time with the ante upped to 6 cents per forward but copies still directed to <cool12@aol.com> . By January 1998, copies of this new 6 cent e-mail were being directed to <christmas@vasia.com> . HI! This is Dave Matthews from The Dave Matthews Band (duh). I got America Online just a little while ago and my screenname will be sent to you if you pass this on. I get a list of the people who send this to at least another 5 people online and my secratary will send all of you my screenname.I go online at least once a week. The reason I am doing this is because this little girl needs our help and I thought that I could use my fame to help out this sick little girl. Ok Listen I Just Spent 13 hours Getting Screen Names Just So that I Could Help a Little Girl So Read The bottom This isn’t a chain letter. Look you guys….. This isn’t a chain letter, but a choice for all of us to save a little girl that’s dying of a serious and fatal form of cancer. Please send this to everyone you know…or don’t know at that. This little girl has 6 months left to live, and as her dying wish, she wanted to send a Chain letter telling everyone to live their life to the fullest, since she never will. She’ll never make it to prom, graduate from high school, or get married and have a family of her own. But by you sending this to as many people as possible, you can give her and her family a little hope, because with every name that this is sent to, the American Cancer Society will donate 3 cents per name to her treatment and recovery plan. One guy sent this to 500 people!!!! So, I know that we can send it to at least 5 or 6. Come on you guys…. And if you’re too damn selfish to waste  Love, Greg Harduk Hello. My name is Tamara Martin and I have severe lung cancer due to second hand smoke.This chain was a final attend to get me healthy again. Every letter sent gets 6 cents. Please send this to 10 people. (by the way for those who take 2 minutes to send this, what comes around goes around. Slow DanceHave you ever watched kids / on a merry-go-round / Or listened to the rain / slapping on the ground? Ever followed a butterfly’s / erratic flight / Or gazed at the sun into / the fading night? You better slow down / Don’t dance so fast / Time is short / The music won’t last Do you run through each day / on the fly / When you ask “How are you?” / do you hear the reply? When the day is done / do you lie in your bed / With the next hundred chores / running through your head? You better slow down / Don’t dance so fast / Time is short / The music won’t last Ever told your child / We’ll do it tomorrow / And in your haste / not see his sorrow? Ever lost touch / Let a good friendship die / ‘Cause you never had time / to call and say “Hi”? You better slow down / Don’t dance so fast / Time is short / The music won’t last When you run so fast / to get somewhere / You miss half the fun / of getting there. When you worry and hurry / through your day / It is like an unopened gift / thrown away… Life is not a race / Do take it slower / Hear the music / before the song is over. Hi, my name is Amy Bruce. I am 7 years old, and I have severe lung cancer from second hand smoke. I also have a large tumor in my brain, from repeated beatings. The doctors say I will die soon if this isn’t fixed, and my family can’t pay the bills. The Make A Wish Foundation, has agreed to donate 7 cents for every name on this list. For those of you who send this along, I thank you so much, but for those who don’t send it, what goes around comes around. Have a Heart, please send this. The Make-A-Wish Foundation helps the dreams of terminally ill children come true. By the time a child is brought to its attention, everything medically possible has already been done. It’s not a matter of collecting donations to pay for a child’s care; it’s about making final days special days. Make-A-Wish did not take kindly to being included in someone’s idea of a rousing good jest. They tracked down the person who’d started this particular version of the game. They also put up a web page denying that they had anything to do with this e-mail. Some of the numerous versions in circulation contain an exhortation from Dr. Dennis Shields of the Department of Developmental and Molecular Biology at the Albert Einstein College of Medicine of Yeshiva University. Like many others in the history of Internet lore, his name mysteriously came to be attached to a hoax. As he said about it: Unfortunately, this letter is a complete hoax; it has nothing to do with me, my Institution or the American Cancer Society. Several versions of this letter are now circulating, so please ignore all of them and DO NOT PASS IT ON. Thank God the American Cancer Society doesn’t have an America Online address, else by now they’d be swamped with copies of forwarded messages from well-meaning but terribly misguided people. (As is becoming the norm for large organizations, the ACS has its own domain name: www.cancer.org). Even so, the various ACS offices around the country have been hit with calls asking about this most touching e-mail, and manpower that could be put to much better use ended up staffing phones and answering e-mail. (It’s ironic, that. The families of real dying seven-year-olds end up getting the short end of the stick because of this outpouring of love for a fictitious child.) The ACS position is quite simple: they “do not endorse the use of chain letters.” Ever. They’ve also told me that this particular “use of the Society’s name is unauthorized.” Also, they don’t know any Jessica Mydek. Indeed, they’re doing their level best to investigate where this wild e-mail came from. It certainly wasn’t from them. (Check out what they have to say about it at the ACS web site.) Above and beyond the information obtained from my conversations with the ACS, common sense alone should show this up for the hoax it is. Think about it for a second. One of the primary purposes of the American Cancer Society is the direction of funds to cancer research. (The ACS is good at this: since its inception in the 1950s, it has directed $1.7 billion to the cause.) The concept of the ACS “donating” funds towards cancer research is akin to the notion of a hockey player “donating” all the goals he scores to his team. Then there is the matter of unnamed corporate sponsors; there just ain’t any such critters. Companies donate monies to worthy causes, and their reward for doing so is becoming identified in the public’s mind not only with that particular cause but also with the larger concepts of service to one’s community and a sense of social responsibility. These are powerful images to plant in the minds of consumers, far too powerful to just be thrown away by remaining anonymous. It all adds up to hoax. Even the child’s name provides a further clue: As has been pointed out by a few people, “Jessica Mydek” is nearly homophonous with a rudely-phrased request for oral sex (think about it), and the mentality that would create this chain letter would also get sniggering pleasure out of the thought of concealed dirty words being unknowingly e-mailed all over the globe by well-intentioned people. Likely as not the perpetrator of the original hoax had no idea of the havoc his creation could wreak. Perhaps he gave in to the urge that prompts some of us to reach for the spray paint upon sighting a prominent and ever-so-grafittable rockface. Urge for immortality and all that. Not immortality for a dying seven-year-old, you understand — immortality for the prankster. So please, if you get it, don’t forward it. You’re giving the wrong person immortality.\n",
      "\n",
      "========== Top: 1 , Score = 670.611515713371 ========== \n",
      "\n",
      "2018-10-02\n",
      "Is Christine Blasey Ford ‘Deeply Tied’ to the Central Intelligence Agency? Conspiracy theorists outdid themselves in attempting to create connections between the CIA and Brett Kavanaugh's principal accuser. Christine Blasey Ford is closely linked to the CIA, and her sexual assault allegations against Brett Kavanaugh are part of a CIA plot. Dr. Christine Blasey Ford faced a torrent of personal attacks and conspiracy theories in September and October 2018, after she publicly accused federal judge Brett Kavanaugh, President Donald Trump’s Supreme Court nominee, of sexually assaulting her when they were both high school students in Maryland in the early 1980s. In late September 2018, a conspiracy theory emerged holding that Blasey Ford was closely linked to the Central Intelligence Agency (CIA), and that her allegations were false and part of a CIA plot to block Kavanaugh’s confirmation and disrupt President Trump’s agenda. One meme which spread the conspiracy-mongering read as follows: Her grandfather, Nicholas Deak, was a well known CIA agent for decades. Her father Ralph Blasey II ran three CIA-front companies Red Coats Inc., Datawatch, and Admiral Security Systems. And her brother Ralph Blasey II [sic] once worked for the law firm Baker Hostetler which was behind the creation of Fusion GPS and subsequently the dossier used to start the Russian collusion investigation. Get the picture?  Another meme emerged from a tweet and blog post published by conservative radio host Michael Savage on 27 September 2018: WELL, BESIDES BEING A “PROFESSOR” AT THE OFF BRAND UNIVERSITY, SHE ALSO WORKS AT A MAJOR UNIVERSITY DOWN THE STREET FROM PALO ALTO. SHE JUST SO HAPPENS TO HEAD UP THE CIA UNDERGRADUATE INTERNSHIP PROGRAM AT STANFORD UNIVERSITY. CHRISTINE BLASEY’S BROTHER, RALPH THE THIRD, USED TO WORK FOR THE INTERNATIONAL LAW FIRM OF BAKER, HOSTETLER. THE FIRM CREATED FUSION GPS, THE COMPANY WHO WROTE THE RUSSIAN “DOSSIER”. THEY LATER ADMITTED IT WAS ONLY A COLLECTION OF FIELD INTERVIEWS. BAKER HOSTETLER IS LOCATED IN THE SAME BUILDING WHERE THE CIA OPERATES THREE COMPANIES CALLED:   CHRISTINE AND RALPH III’S GRANDFATHER WAS NICHOLAS DEAK. FORMER CIA DIRECTOR WILLIAM CASEY ACKNOWLEDGED DEAK’S DECADES OF SERVICE TO THE CIA. IS DR. FORD DEEPLY TIED TO THE CIA? pic.twitter.com/QcRLchqGGn — Michael Savage (@ASavageNation) September 27, 2018   The theory that Blasey Ford, in making her allegations against Kavanaugh, is acting on behalf of the CIA or as part of a CIA plot against him has three basic components: This theory, and its component strands, were written about and promoted on several non-mainstream web sites during September 2018, including What Does It Mean , the BrassBalls blog, ZeroHedge , Before It’s News , and in a segment on Alex Jones’ InfoWars show (in which Jones claimed Blasey Ford and her family were part of the “leftist arm of the CIA,” whose function is “to create transgender children,” among other pronouncements). On 17 September, WhatDoesItMean.com’s “Sorcha Faal” outlined this somewhat complicated web of claims: WhatDoesItMean.com has a long history of fabricating evidence, quotations, and stories, as noted by RationalWiki : The primary audience of Sorcha Faal’s reports and the only ones who take them seriously are usually other conspiracy theorists … Each report resembles a news story in its style, but usually includes a sensational headline barely related to reality (e.g. “American Rebel Forces Attack Gas Pipelines, Explode Trains As US Civil War Nears”) and quotes authoritative high-level Russian sources (such as the Russian Federal Security Service in the same article) to support its most outrageous claims. Except for the stuff attributed to unverifiable sources, the reports don’t contain much original material. They are usually based on various news items from the mainstream media and/or whatever the clogosphere is currently hyperventilating about, with each item shoehorned into the conspiracy narrative the report is trying to establish. The Stanford Connection Stanford University does not operate or manage its own “CIA Undergraduate Internship Program,” but rather promotes that internship (which is operated by the CIA itself in Washington, D.C.) to its students, along with several other fellowships and professional opportunities, under the auspices of the university’s Haas Center for Public Service. Christine Blasey Ford is a research psychologist at Stanford, not a CIA internship program administrator. None of the posts claiming she directs, leads, or is in charge of the internship program provided any evidence to that effect, and none of them explained or acknowledged that the internship is an external one, run by the CIA itself thousands of miles away from Stanford’s campus. The Haas Center for Public Service lists four staff members responsible for advising students on internships and fellowship. including the CIA’s undergraduate internship, and Blasey Ford is not one of them. This claim of a direct personal link between Blasey Ford and the CIA, via Stanford University, therefore falls down. However, as an institution Stanford does have a history of working with the CIA, especially as part of Project MKUltra , a shadowy CIA-sponsored program in the 1950s and 1960s in which scientists and researchers, especially in the field of psychology, used drugs and other techniques to experiment with behavior modification and mind control. Stanford was just one of dozens of universities, research institutions, and hospitals across the United States that served as venues for such experimentation, which was at times illegal and unethical for using human beings as subjects, sometimes without their knowledge or consent. (Famously, the “Unabomber” Ted Kaczynski was subjected to brutal psychological experimentation, suspected to have been part of an MKUltra sub-project, while he was a promising mathematics student at Harvard in the late 1950s.) In January 1973, CIA Technical Services Director Sidney Gottlieb — the infamous poisons expert who oversaw the MKUltra program — destroyed many documents relating to the substance of the experiments  upon the order of then CIA Director Richard Helms, the U.S Senate would later hear . However, in 1977 a Freedom of Information Act request uncovered a trove of material, mostly invoices and other financial documents, relating to the program. Among that trove were hundreds of pages establishing the fact that Stanford University had been one of the dozens of institutions where MKUltra experimentation took place. The documents are now available on the web site of the university itself and indicate that MKUltra activities occurred at Stanford from around 1953 to 1964, with many of the orders and invoices signed by Gottlieb himself. Ralph Blasey III Here’s how the BrassBalls blog explained this strand of the conspiracy theory: Christine Blasey’s brother [Ralph] used to work for the international law firm of Baker Hostetler. The firm created Fusion GPS, the company who wrote the Russian “dossier”. They later admitted it was only a collection of field interviews. Baker Hostetler is located in the same building where the CIA operates three companies called Red Coats Inc., Admiral Security Services, and Datawatch. They are operated by Ralph Blasey II. He is the father of Christine and Ralph III. This component of the overall theory is riddled with factual errors, fabrications, and logical failures. According to his LinkedIn profile, Ralph Blasey III (Christine’s brother, and the son of Ralph Blasey Jr.) did indeed once work as a litigation partner for Baker Hostetler in the firm’s Washington, D.C. office. But Baker Hostetler did not “create” Fusion GPS, as the blog post claims. Rather, in 2017 Fusion GPS told the Washington Post that they had performed some work as a subcontractor for Baker Hostetler, who were representing a Russian holding company in a money laundering case brought by the U.S. Justice Department. (More information about Fusion GPS’ place in the ongoing investigation into Russian interference in the 2016 elections can be viewed here .) However, Fusion GPS told the Post that their work for Baker Hostetler began in 2013, while Ralph Blasey III stopped working for the law firm in 2004, nine years before they engaged Fusion GPS. Baker Hostetler’s Washington, D.C. address is 1050 Connecticut Avenue Northwest. None of the three companies listed in the conspiracy theory as CIA fronts run by Ralph Blasey Jr. (Christine’s father) has offices at that address. Ralph Blasey Jr. is listed as Vice President for Business Development of one of them, Red Coats, Inc., a Bethesda, Maryland-based cleaning company. Admiral Security Services (which provides security guard and concierge services) is a division of Red Coats, and Datawatch Systems is owned and operated by the same people but located at a different address (albeit within walking distance in Bethesda.) Ralph Blasey Jr. works for only one of those three companies, none of which shares an address with Baker Hostetler (the law firm which Ralph Blasey III, in any case, left in 2004) or has been shown by any evidence whatsoever to be “operated” by the CIA. Like many other companies in the Washington, D.C. area, Datawatch Systems, which provides doorway and access security services, does have contracts with several federal government departments and agencies, as does Red Coats, Inc. , and Admiral Security Services . However, none of them has a contract with the CIA. This attempt to link Christine Blasey Ford to the CIA through her brother Ralph therefore fails on several fronts. Nick Deak Before we get to the substance of this part of the conspiracy theory, it’s worth pointing out the profound logical flaw at the heart of it. The underlying premise here is that, if Christine Blasey Ford’s grandfather was an intelligence agent, she herself must therefore be steeped in spycraft and have the same interests, temperament, and profession as her grandfather. Anyone with a different personality or career to that of their grandfather will instinctively recognize this assumption as nonsensical. In any event, the claim here is that Blasey Ford’s grandfather was the legendary CIA-linked currency trader Nicholas “Nick” Deak. Without offering any evidence of a familial relationship, the BrassBalls blog stated that “Christine and Ralph III’s grandfather was Nicholas Deak. Former CIA Director William Casey acknowledged Deak’s decades of service to the CIA.” Deak has been the subject of speculation and fascination for decades. In 1964, Time magazine called him “the James Bond of the world of money,” writing: Born in Hungary 58 years ago, Deak holds a doctorate in economics, can talk money in five languages, used to work for the League of Nations. A naturalized American, he spent World War II as an [Office of Strategic Services] agent parachuting into Burmese jungles to search for Japanese prisoners. On a postwar assignment, he sneaked Hungarian boxcars past the Russian occupiers to help rebuild West Germany’s railways. Deak still keeps in OSS trim with a vegetarian diet, daily sprints around his own suburban running track, and ski trips with his Viennese wife. From a paneled office (cable address: Deaknick) overlooking lower Manhattan harbor, he supervises more than 100 agents working for Deak & Co., one of the world’s biggest dealers in foreign currencies. In 1985, Deak was shot dead (along with his receptionist Frances Lauder) at his office in Lower Manhattan by Lois Lang, a homeless woman with a history of mental illness. Because of Deak’s life-long connections to the CIA and a recent scandal which had implicated his firm in money laundering on behalf of international crime organizations, theories have been put forth that Lang was not merely motivated by her own delusions , as investigators concluded, but was acting under the direction of nefarious and organized forces, criminal or governmental. In 2012, Arkadi Kuhlmann, who replaced Deak as CEO of his firm, told Salon of his own skepticism about the official account of his predecessor’s murder: “I never believed that the whole thing was random,” said Kuhlmann, in an interview with Salon. Ditto the government inquiry that triggered the collapse preceding Lang’s rampage. “We were the CIA’s paymaster, and that got to be a little bit embarrassing for them,” he said. “Our time had passed and the usefulness of doing things our way had vanished. The world was changing in the ’80s; you couldn’t just accept bags of cash. Deak was slow at making those changes. And when you lose your sponsorship, you’re out of the game.” Whatever the truth about the death of Nicholas Deak, one thing is clear: he was not Christine Blasey Ford’s grandfather. Multiple  news  articles before and after his death stipulated that he had only one child, a son named Robert Leslie, also known as “Les.” This information obviously rules out the possibility that Deak was Blasey Ford’s maternal grandfather, and since we know her father is Ralph Blasey Jr., we can say with certainty that Deak was not her paternal grandfather either. This eliminates the third and final component of the conspiracy theory, as articulated by Michael Savage and others. Interestingly, the WhatDoesItMean.com does not claim that Deak was Blasey Ford’s grandfather, but rather connects the two by way of another figure from a bygone era, Dr. Frederick Melges: The claims that Lang had been treated by Dr. Melges, and that Melges was associated with the MKUltra project, was written about in Salon ‘s 2012 account of Deak’s death: In August 1975, records show that Lang was discovered naked and catatonic in a Santa Clara motel room … Police responding to the motel room took Lang to nearby Santa Clara Valley Medical Center. For the next month, she was put under the care of Dr. Frederick Melges, a psychiatrist associated with the Stanford Research Institute. One of Dr. Melges’ main areas of research: drug-aided hypnosis. A few years after Lang was put in Melges’ care, the New York Times exposed the Stanford Research Institute as a center for CIA research into “brain-washing” and “mind-control” experiments in which unwitting subjects were dosed with hallucinogenic drugs and subjected to hypnosis … The Stanford Research Institute received CIA funding, and Dr. Melges published work about using drugs and hypnosis to create “disassociative states,” i.e., induced schizophrenia. One of Melges’ partners on these experiments was a doctor named Leo E. Hollister, who first dosed Ken Kesey with LSD as part of an Army experiment in 1960. He later admitted to author John Marks that he conducted drug research for the CIA … In other words, the doctor who cared for Lang in Santa Clara was a senior figure at one of the CIA’s top institutional grantees. He worked side-by-side with a self-identified CIA collaborator, and conducted research into the kind of drug-induced behavior modification that the agency is known to have funded. We were unable to verify the claim that Dr. Melges took Lang into his care in 1975, or what that treatment might have entailed. Frederick Towne Melges (known as “ Rusty “) was a psychiatrist from Battle Creek, Michigan, who received his medical degree from Columbia University before working at the University of Rochester and Duke University in later years. In the late 1960s and early 1970s, Melges worked at Stanford University, researching the perception of time. He conducted studies into the effects of cannabis and alcohol on time perception, personal perceptions of the future, persecutory delusion among people with acute mental illness, and several subjects related to human emotion. Some of his research involved administering doses of THC (the hallucinatory component in cannabis) as well as alcohol. We were not able to verify the claim that Melges worked at the Stanford Research Institute, and it is unclear whether he ever took part in any MKUltra-related experimentation. However, even if one accepts for the sake of argument the claims made by WhatDoesItMean.com and Salon , no meaningful link exists between Dr. Melges and Christine Blasey Ford. Melges, who suffered from diabetes, died at the age of 52 in Durham, North Carolina, in July 1988, having worked at Duke University since 1977. Blasey Ford got her undergraduate degree from the University of North Carolina at Chapel Hill in 1988, then received a master’s in clinical psychology from Pepperdine University in 1991, a PhD in educational psychology from the University of Southern California in 1996, and a master’s in epidemiology from Stanford University in 2009. She and Melges never attended or worked at the same university contemporaneously. The earliest record we could find of Blasey Ford’s working at Stanford was in the year 2000 , by which time Melges had been dead for 12 years (and had left Stanford more than a decade before that). Even if Melges were associated with the MKUltra program, the fact of Christine Blasey Ford’s attendance and employment at Stanford several decades later does not even come close to establishing a link between the two.\n",
      "\n",
      "========== Top: 2 , Score = 670.4063157209201 ========== \n",
      "\n",
      "2009-12-31\n",
      "Is Facebook Implementing User Fees? \"Facebook is a free site and will never require that you pay to continue using the site.\" Facebook has announced plans to start charging fees to users of the social network. In December 2009, Facebook users were hit with yet another hoax when messages began circulating advising them that on 30 June 2010 the popular social networking site would be instituting a monthly charge of $4.99 and entreating them to visit a particular Facebook group supposedly set up to protest the impending charge: Now it’s official! It has been published in the media. Facebook has just released the entry price: £5.99 ($9.10) to keep the subscription of your status to be set to “private”. If you paste this message on your page, it will be offered free (I said paste not share) if not tomorrow, all your posts can become public. Even the messages that have been deleted or the photos not allowed. After all, it does not cost anything for a simple copy and paste. FACEBOOK JUST RELEASED THEIR PRICE GRID FOR MEMBERSHIP. $9.99 PER MONTH FOR GOLD MEMBER SERVICES, $6.99 PER MONTH FOR SILVER MEMBER SERVICES, $3.99 PER MONTH FOR BRONZE MEMBER SERVICES, FREE IF YOU COPY AND PASTE THIS MESSAGE BEFORE MIDNIGHT TONIGHT. WHEN YOU SIGN ON TOMORROW MORNING YOU WILL BE PROMPTED FOR PAYMENT INFO… IT IS OFFICIAL IT WAS EVEN ON THE NEWS. FACEBOOK WILL START CHARGING DUE TO THE NEW PROFILE CHANGES. IF YOU COPY THIS ON YOUR WALL YOUR ICON WILL TURN BLUE AND FACEBOOK WILL BE FREE FOR YOU. PLEASE PASS THIS MESSAGE ON IF NOT YOUR ACCOUNT WILL BE DELETED IF YOU DO NOT PAY! FACEBOOK JUST RELEASED THEIR PRICE GRID FOR MEMBERSHIP. $9.99 PER MONTH FOR GOLD MEMBER SERVICES, $6.99 PER MONTH FOR SILVER MEMBER SERVICES, $3.99 PER MONTH FOR BRONZE MEMBER SERVICES, FREE IF YOU COPY AND PASTE THIS MESSAGE BEFORE MIDNIGHT TONIGHT. WHEN YOU SIGN ON TOMORROW MORNING YOU WILL BE PROMPTED FOR PAYMENT INFO… IT IS OFFICIAL IT WAS EVEN ON THE NEWS. FACEBOOK WILL START CHARGING DUE TO THE NEW PROFILE CHANGES. IF YOU COPY THIS ON YOUR WALL YOUR ICON WILL TURN BLUE AND FACEBOOK WILL BE FREE FOR YOU. PLEASE PASS THIS MESSAGE ON IF NOT YOUR ACCOUNT WILL BE DELETED IF YOU DO NOT PAY! It is official it was even on the news. Facebook will start charging due to the new profile changes. If you copy this on your wall your icon will turn blue and facebook will be free for you. please pass this message on if not your account will be deleted if you don’t pay From Saturday morning facebook will become chargeable. If you have at least 10 contacts send them this message. In this way we will see that you are an avid user and your logo will become blue (?) and will remain free. (As discussed in the paper today. Facebook will cost 0.01ps per message. Send this message to 10 people. When you do the light will turn blue otherwise facebook will activate billing. Some of these messages were just hoaxes; others pointed users to protest page that was a trap for the unwary: clicking on certain elements of it initiated a script that hijacked users’ computers. Some of those who did venture a click had their computers taken over by a series of highly objectionable images while malware simultaneously attempted to install itself onto their computers. The claim that Facebook would be initiating user charges was but the bait to lure people to the protest page and its hidden malicious payload; there are no plans afoot to require payment from those who use the site. Regarding the issue of whether Facebook would ever charge users for its social networking services, that company’s chief operating officer, Sheryl Sandberg, said in an April 2009 Business Week interview that: “The answer is no, we are not planning on charging a basic fee for our basic services. Once again, that question stems from people thinking we’re growing so quickly, we’re running out of money. We’re growing really quickly, but we can finance that growth. We’re not going to charge for our basic services.” In their Help Center section, the social network says in answer to the query “Will Facebook ever charge for service?” quite plainly “No. We will always keep Facebook a free service for everyone.” In early July 2011, the spread of yet another “Facebook is about to start charging its users” canard (driven by a fictional Weekly World News  article ) was fueled by the promise contained in that version of the hoax that users who posted the rumor as their status would be spared the levy. Those who attempted to exempt themselves from the charge thereby spread the lie even further, thus doing the leg work of the hoaxsters. (The logical disconnect of the practical joke seemed to evade many: If Facebook were bent upon extracting fees from its users, why would it choose to exempt any of them?) In late September 2011, the “post as your status to get out of being charged and make the icon turn blue” hoax ran rampant yet again, this time accompanied by claims that Facebook would be implementing a tiered membership system. The same hoax reappeared in May 2012 and again in July 2013. In September 2014 the fake news site National Report piled on to this tired hoax meme by publishing a fictitious article positing that Facebook would begin charging users $2.99 per month starting 1 November 2014: At a press conference this morning, Facebook rolled out their new monthly service plan which begins November 1st of this year. The social media giant says they will start charging members $2.99/mo to use the services that the site has to offer. “After thinking long and hard about this decision, at the end of the day, we were forced to add this monthly fee,” Facebook founder and CEO Mark Zuckerberg told reporters. “If we don’t do something about our rising costs now, Facebook could cease to exist in the near future.” As of September 2017 the hoax remained in broad circulation via Facebook. A version attributed to “Mark, the Director of Facebook” suggested that it “seems that all the warnings are real” and “Facebook use will cost money”: I’m Mark, the Director of Facebook. Hello everyone, it seems that all the warnings are real. Facebook use will cost money. If you send this string to 18 different from your list, your icon will be blue and it will be free for you. If you do not believe me, tomorrow at 6 pm Facebook will be closed and to open it you will have to pay. This is all by law. This message is to inform all our users that our servers have recently been very congested. We are asking for your help to solve this problem. We require that our active users forward this message to each of the people in your contact list in order to confirm our active facebook users. If you do not send this message to all your facebook contacts, then your account will remain inactive with the consequence of losing all your contacts without the transmission of this message. Your SmartPhone will be updated within the next 24 hours, will have a new design and a new color for the chat. Dear Facebook users, we are going to do an update for Facebook from 23:00 p.m. until 05:00 a.m. on this day. If you do not send this to all your contacts, the update will be cancelled. You will not have the possibility to chat with your facebook messages. You will have to pay the rate unless you are a frequent user. If you have at least 10 contacts, send this SMS and the logo will turn red to indicate that you are a user Confirmed … We finish it for free. Tomorrow they start to collect the messages for facebook at 0.37 cents. Forward this message to more than your 9 contacts and it will be free for life for you. Watch and the ball will turn green. Do it and you will see Facebook is now free. Send to 10 people to reactivate your service again without cost. However, as of September 2017, a Facebook help page answered the question “Does it cost money to use Facebook? Is it true that Facebook is going to charge to use the site?” in this way: No. Facebook is a free site and will never require that you pay to continue using the site. In April 2018 Facebook CEO Mark Zuckerberg said during congressional testimony that “there will always be a version of Facebook that is free,” a comment which suggested that the social media company has at least considered a paid (possibly ad-free) version of their platform, but no such version has been announced or demonstrated.\n",
      "\n",
      "========== Top: 3 , Score = 670.3896555976712 ========== \n",
      "\n",
      "2016-10-22\n",
      "Did Hillary Clinton Throw a Tantrum with Matt Lauer? An unfounded rumor held that Hillary Clinton threw a tantrum, and a water glass, after NBC's \"Commander-in-Chief\" Forum in September 2016. Hillary Clinton threw a tantrum, and a water glass, after NBC's \"Commander-in-Chief\" Forum in September 2016. Rumors holding that Hillary Clinton had a “meltdown,” threw a water glass at a staffer, and engaged in a curse-filled tirade following NBC’s Commander-in-Chief Forum with host Matt Lauer have been circulating since the Democratic presidential nominee participated in that forum, which aired on 7 September 2016. While these rumors did seem to be rooted in a little truth — the Clinton campaign was not happy with the questions Lauer asked (or didn’t ask) during the event — claims that Clinton threw a “hissy fit” over it were unfounded.   The website Victurus Libertas was the first to promulgate this rumor, publishing an article headlined “Temper! Temper! Hillary Goes on Rampage for Over An Hour — Throwing Glass at Staffer’s Head.” Although Victurus Libertas linked to credible reports from NY Mag and Yahoo! News detailing that Clinton’s campaign was miffed with Lauer for not fact-checking Republican candidate Donald Trump during the event, they cited Politico as their source for the claim that Clinton had thrown a water glass at a staffer: And Politico‘s headlines read:  “Liberals Lash Out at Lauer, NBC“. It seems to me, no one is “lashing out” but Hillary. Hillary’s meltdown included throwing a water glass at a staffer — narrowly missing her head , and demanding Matt Lauer be fired! She was overheard threatening executives at NBC saying “ If I lose, we all go down and that Fascist Fuck will have us swinging from nooses! What the fuck is wrong with you idiots ?” None of this information appeared in the cited Politico report, however. Politico  published an article headlined “Liberals Lash Out at Lauer, NBC,” reporting that Clinton’s campaign and supporters were upset with interviewer Lauer for posing “unbalanced questions”: At an event that saw both Clinton and conservative challenger Donald Trump challenged on their stances toward national defense and foreign policy, liberal operatives and Clinton supporters took exception to what they perceived as unbalanced questions, criticizing Lauer for failing to push back on false statements by Trump and for spending a significant amount of time on Clinton’s email scandal. But Politico did not report that Hillary Clinton threw a water glass at anyone’s head, threatened the firing of Matt Lauer, or called Donald Trump a “fascist fuck.” All of that was invented by Victurus Libertas in an apparent attempt to smear the Democratic candidate, and it served as the basis for a longer, highly embellished version of the rumor that began circulating via e-mail in October 2016: Subject: Matt Lauer & Hillary what REALLY happened…. WHAT REALLY HAPPENED AT THE NBC PRESIDENTIAL FORUM WITH MATT LAUER? DEMOCRAT HILLARY CLINTON’S BEHIND THE SCENES TIRADE AFTER NBC’s MATT LAUER ASKED CLINTON ONE QUESTION SHE HAD NOT PRE-APPROVED. VETERAN NBC CAMERAMAN: ‘YOU REALLY HAD TO SEE THIS TO BELIEVE IT … SHE CAME APART – LITERALLY UNGLUED; SHE IS THE MOST FOUL-MOUTHED WOMAN I’VE EVER HEARD … AND THAT VOICE AT SCREECH LEVEL … AWFUL!’ “SHE LOOKED SO ENRAGED THAT WE ALL THOUGHT HER HEAD WOULD EXPLODE … IT WAS A FULL-ON MELT-DOWN, AND THEN SHE SCREAMED SHE’D GET THAT F–––ING LAUER FIRED FOR THIS. IT WENT ON FOR AT LEAST A HALF HOUR; WE ALL THOUGHT THE EMS WOULD BE THE NEXT CALL.” NBC Associate Producer of Forum: Behind the scenes, NBC technicians and cameramen at the Wednesday night, Commander-in-Chief Forum (Sept 7) report that Hillary Clinton was so angry and incensed that she had been ‘blind-sided’ by one question she was not prepared for and had not approved in advance. “When her time in front of the cameras ended, Clinton shook the hand Lauer extended to her and smiled once more for the wide camera shot and then Hillary proceeded to pick up a full glass of water and threw it at the face of her assistant and the screaming started. She was in a full meltdown and no one on her staff dared speak with her — she went kind of manic and didn’t have any control over herself at that point. How these people work with this woman is amazing to me. Most of the small military audience were cordoned off, their seating not close to Mrs. Clinton, but certainly they heard her screaming because it was loud … and she really didn’t seem to care who heard any of it.” Republican Donald Trump also appeared, in a separate telecast from Hillary Clinton’s and arrived with his two sons but no entourage or assistants in tow. The NBC cameramen involved in his segment said he was a ‘true gentleman’ and Trump and his sons spoke to everyone and thanked them for inviting him to speak: “It was a pleasure to answer your questions Matt.” Hillary Clinton’s segment was much different. According to people working on the sidelines, “When Matt posed the one legitimate question about the FBI investigation concerning her homemade server and the unsecured emails, we could see she was beginning to boil and her eyes looked to pop.” “It was toward the end of her interview so she was becoming unglued by the time Lauer finished with questioning. Hillary went ballistic, throwing a huge tantrum and screaming at her staff, “you f–––ing idiots, you were supposed to have this thing set up for me and you’ve screwed it up! If that fucking bastard wins we all hang from nooses! Lauer’s finished … and if I lose it’s all on you ass—-s for screwing this up.” Clinton finally stormed off the military ‘set’ and the assistant producer said she was screaming that she wanted to talk to “the idiot who set this mess up … you do not blindside me – ever!” and continued to demand to speak with executives at Comcast, parent company to NBC Universal. Her dozen or more aides were visibly disturbed and tried to calm her down when she started shaking uncontrollably. That did not stop her from demanding an executive “on the phone, now!” She was told the executive-in-charge of the forum was ready to talk with her and she was led away by two rather large aides who appeared to help her walk. The TV executives got the message with all of the censuring headlines that followed over the next couple of days when it seemed the entire media turned on Matt Lauer for behaving in a “partisan” manner and “being grossly unfair and critical of the former secretary of state.” Matt Lauer was heavily criticized on air by the Clinton campaign the rest of the week with most of the mainstream media joining in. The media appeared to frame Matt’s one serious question as the Clinton campaign was doing…”an unfair and partisan attack on Mrs. Clinton.” Matt Lauer is still facing major backlash following his 23 minutes with Hillary Clinton. Privately, many reporters said Matt handed the Democrat nominee the expected softball questions, but made the decision to ask about the emails because, “the American people deserve an answer from the former secretary of state.” Calls were made to New York Times, Washington Post and Huffington Post and Twitter executives with orders to “Crush Matt Lauer”. As you can easily see with all the headlines from these MSM sources, they did as they were told by the Clinton campaign. Hillary also screamed that she would be “treated with respect at the debates or heads will roll.” Staffers at the Clinton campaign report that they fear her wrath and uncontrollable outbursts, and one described Hillary as “an egotistical psychopath”. Since Hillary does not allow any staff to have cell phones when she is in their presence, no footage is available, but Hillary will never let this rest. She has made it clear that she wants Matt Lauer to be “persona non grata – for putting her on the spot.” Interim DNC chairman Donna Brazile, the first black woman to hold the position, was singled out by Hillary during the rant.   She screamed at Donna, “I’m so sick of your face. You stare at the wall like a brain dead buffalo, while letting that f–––ing Lauer get away with this. What are you good for, really? Get the f––– to work janitoring this mess — do I make myself clear?” A female NBC executive said that Donna Brazile looked at Mrs. Clinton and never flinched, which seemed to enrage Hillary all the more.  The executive continued, “It was the most awful and terrible…and racist display — such a profane meltdown I have ever witnessed from anyone, and I will never forget it. That woman should never see the inside of the oval office I can tell you that. She was unhinged and just continued to verbally abuse everyone — she was out of control.” The earliest iteration of that longer narrative we could uncover was posted to the message board of the web site MTStars, where it was presented without citations, source information, audio, video, or any other documentation that the described these events actually transpired. It should also be noted that no credible news outlets reported that Clinton went on a cursed-filled tirade after the Commander-in-Chief Forum, or that she threw a water glass at a staffer’s head. Rumors that Clinton threw a “tantrum” after NBC’s Commander-in-Chief Forum started with a fictitious quote, and that narrative was later expanded with more fake quotes from other anonymous sources. Meanwhile, no actual evidence has surfaced to prove that any of these events actually transpired.\n",
      "\n",
      "========== Top: 4 , Score = 669.9187590412132 ========== \n",
      "\n",
      "2009-03-17\n",
      "Andrea Wilson, Facebook Friend Request Hacker Warning Accepting a Facebook friend request from a stranger will not provide hackers with access to your computer and online accounts. Accepting a friend request from a stranger will provide hackers with access to your computer and online accounts. A long-running hoax warns readers not to allow contact from a particular person or group because dire consequences will result. The basic form of these hoax warnings is typically drawn from the following template: One recent example reads: Be careful: I got a message from you or it shown on your wall here.. Please tell all the contacts in your messenger list not to accept friendship request from Andrea Wilson . She is a hacker and has the system connected to your Facebook account. If one of your contacts accepts it, you will also be hacked, so make sure that all your friends know it. Thanks. Forwarded as received. Hold your finger down on the message. At the bottom in the middle it will say forward. Hit that then click on the names of those in your list and it will send to them THIS Is REAL Variants of these messages are circulated endlessly, with different names swapped in and out (see more examples below). Another warns of account “cloning.” Of course, it’s not outside the realm of possibility that an email message or a link posted on Facebook might carry a virus payload which could infect your computer and allow it be controlled by a botnet , but virus warnings that correspond to the patterns detailed below can be safely dismissed as japes, while other, greater security issues should remain on our radar. Additional examples: Please tell all the contacts in your messenger list not to accept anything from Fabrizio Brambilla . He has a foto with a dog. He is a hacker and has the system connected to your messanger account. If one of your contacts accepts it, you will also be hacked, so make sure that all your friends know it. Thanks. Forwarded as received. Please tell all the contacts in your messenger list not to accept Jayden K. Smith friendship request. He is a hacker and has the system connected to your Facebook account. If one of your contacts accepts it, you will also be hacked, so make sure that all your friends know it. Please tell all the contacts in your Messenger list not to accept Anwar Jitou ‘s [Anwar Jitu’s] contact, it’s a hacker that has the computer connected to your Facebook account. If one of your contacts accepts it, you will also be hacked, so make sure that all your friends know it. Si prega di dire a tutti i contatti della tua lista Messenger, di non accettare il contatto di Anwar Jitou [Anwar Jitu], è un hacker che ha il computer collegato nel tuo account Facebook. Se uno dei tuoi contatti lo accetta, sarai anche hackerato, così fai in modo, che tutti i tuoi amici lo sappiano. If you get a request from Sunny Boyie do not except, he is a kidnapper. Send this to all your friends. Hello we are the company Facebook. You must send this to 20 people to stay active. If you don’t you will be disconnected from Facebook. If you think this is fake check the customer service. ALERT!!!!! ALERT!!!!! Don’t accept a friend request from Maggie from Sweden , she is a HACKER.Tell everyone on your list cause if someone on your list adds her then she will be on yours too. She will figure out your computer ID and address, so send this to everyone on your list even if you don’t care for them cause if she hacks them, she hacks YOU too. She is also noted for repeated sexual harrasment and indecent private chatting. PB: BEWARE!!! DO NOT ACCEPT A FRIEND REQUEST FROM TANNER DWYER, CHRISTOPHER BUTTERFIELD, STEFANIA COLAC AND ALEJANDO SPILJNER . THESE ARE HACKERS SO PUT IT ON YOUR WALL. IF SOMEONE ADD’S THEM THEY TAKE YOUR CONTACTS, EMPTY YOUR COMPUTER AND ADDRESSES, SO COPY AND PASTE THIS ON YOUR WALL. WARNING!!!!! DO NOT ACCEPT FRIEND REQUESTS FROM ~~~ BOBBY ROBERTS ~~~ Profile picture is four colored picture ~~ A hacker and fake name!!!! the name will DESTROY EVERYTHING!!! Please… COPY THIS TEXT ON YOUR STATUS SO THAT YOUR  ATTENTION ATTENTION !!! ATTENTION !!! ATTENTION ALL FACEBOOK USERS**… DO NOT ADD * JASON ALLEN *, ALSO IF SOMEBODY CALLED *AMY ALLEN* ADDS YOU, DON’T ACCEPT… IT IS A VIRUS. TELL EVERYBODY, BECAUSE IF SOMEBODY ON YOUR LIST ADDS THEM, YOU GET THE VIRUS TOO. **COPY AND PASTE AND PLEASE RE POST* THIS HAS BEEN CONFIRMED BY FACEBOOK AND SNOPES ATTENTION **ALL FACEBOOK USERS ** .. DO NOT ADD “ LINDA SMITH “, also IF SOMEBODY CALLED “JASON LEE”, ADDS YOU, DON’T ACCEPT IT.. IT IS A VIRUS. TELL EVERYBODY, BECAUSE IF SOMEBODY ON YOUR LIST ADDS THEM , YOU GET THE VIRUS TOO . COPY AND PASTE AND PLEASE RE-POST – THIS HAS BEEN CONFIRMED BY FB DO NOT ACCEPT ANY FRIENDSHIP INQUIRIES FROM: ROLAND DREYER , MATTHIAS DAMBERGER, MARIO SOMMER, FABIAN BERNEDER OR FRANK BECKER !!!!! THESE ARE HACKERS!!!!! THEY CAN DESTROY THE HARD DISK!!!!!!…PLEASE …COPY TEXT ON YOUR BULLETIN BOARD!!!…SO THAT YOUR FRIENDS ARE PROTECTED Don’t add anyone named rehana n 27 years from leicister .she is a hacker. Tell everyone on your buddy list because if someone on your buddy list adds her, she’ll be on your list too. She’ll figure out your computer ID and address. So copy and paste this message to everyone on your buddy list because if she hacks them your next. I sent to everyone on my list so please send to everyone on your list FROM NEWS FEED: DO NOT ADD HER!!! IF SOMEBODY CALLED “SMARTGRRL15”, ADDS YOU, DON’T ACCEPT IT…IT IS A VIRUS. TELL EVERYBODY, BECAUSE IF SOMEBODY ON UR LIST ADDS THEM, U GET THE VIRUS TOO. COPY AND PASTE AND PLEASE REPOST ATTENTION:::::::DO NOT ACCEPT FRIEND REQUEST FROM CHRISTOPHER DAVIES AND JESSICA DAVIES , THEY ARE HACKERS. TELL EVERY 1 ON YOUR LIST, BECAUSE IF SOMEBODY ON YOUR LIST ADDS THEM, THEY WILL BE ON YOUR LIST TOO. HE’LL FIGURE OUT YOUR COMPUTER’S ID AND ADDRESS, SO COPY & PASTE THIS MESSAGE…… EVEN IF YOU DON’T CARE.. PLEASE ***ATTENTION!!!*** Do not accept a friend request from a CHRISTOPHER BUTTERFIELD he is a hacker. Tell everyone on your list because if somebody on your list adds him u get him on your list too and he’ll figure out your computer’s ID and address, so copy and paste this message to everyone even if u don’t care for them cause if he hacks their email he hacks your mail too! FORWARD ONTO all!!! IF A PERSON CALLED SIMON ASHTON (SIMON25@HOTMAIL.CO.UK) CONTACTS YOU THROUGH EMAIL DON’T OPEN THE MESSAGE. DELETE IT BECAUSE HE IS A HACKER!! TELL EVERYONE ON YOUR LIST BECAUSE IF SOMEBODY ON YOUR LIST ADDS HIM THEN YOU WILL GET HIM ON YOUR LIST. HE WILL FIGURE OUT YOUR ID COMPUTER ADDRESS, SO COPY AND PASTE THIS MESSAGE TO EVERYONE EVEN IF YOU DONT CARE FOR THEM AND FAST BECAUSE IF HE HACKS THEIR EMAIL HE HACKS YOUR MAIL TOO!!!!!… Can you tell me anything about this that has been going around:          Please tell all the contacts in your messenger list not to accept friendship request from james wood . He is a hacker and has the system connected to your Facebook account. If one of your contacts accepts it, you will also be hacked, so make sure that all your friends know it. Thanks. Forwarded as received.  New Hacker warning on FB messenger but did not see it here when I checked for validity. I usually shit these down with a link from Snopes. But there is nothing so here is what I received:  Fabrizio Brambill a. He has a foto with a dog. He is a hacker and has the system connected to your messanger account. If one of your contacts accepts it, you will also be hacked, so make sure that all your friends know it. Thanks. Forwarded as received.  Please tell all the contacts in your messenger list not to accept friendship request from Andrea Wilson . She is a hacker and has the system connected to your Facebook account. If one of your contacts accepts it, you will also be hacked, so make sure that all your friends know it. Thanks. Please tell all contacts in your messenger list not to accept Dominique Amblard ‘s request for friendship. He is a hacker who has a system connected to your Facebook account. If one of your contacts accepts it, you will also be hacked. Make sure that all your contacts know it.   Please tell all the contacts in your messenger list not to accept bright Victor, Desmond kelechi or Sharon Emeka or Okechukwu Anni friendship request is one person using different account and with people’s pictures. He is a hacker and has the system connected to your Facebook account. If one of your contacts accepts it, you will also be hacked, so make sure that all your friends know it. “Please tell all the contacts in your messenger list not to accept friendship request from sherman stuurman . he is a hacker and has the system connected to your Facebook account. If one of your contacts accepts it, you will also be hacked, so make sure that all your friends know it. Thanks. Forwarded as received. Please tell all the contacts in your messenger list not to accept anything from Lucia Hernandez (Luciana) . She has a picture of her sitting by the water)She is a hacker and has the system connected to your messanger account. If one of your contacts accepts it, you will also be hacked, so make sure that all your friends know it. Thanks. Forwarded as received.\n",
      "\n",
      "========== Top: 5 , Score = 669.8187124139894 ========== \n",
      "\n",
      "2020-06-15\n",
      "Did DOJ Say Christian Employers Should Be Allowed to Force Women to Wear Skirts? A left-leaning website took the U.S. Department of Justice to task for its intervention in a sex-discrimination case before the Supreme Court. In a brief before the U.S. Supreme Court in Harris Homes v. EEOC, the Department of Justice argued that employers should be allowed to force female employees to wear skirts, if the employer was Christian. On Aug. 19, 2019, the left-leaning website Shareblue Media published an article with the headline “[Department of Justice] Says Christian Employers Should Be Allowed to Make Women Wear Skirts,” which reported that: This term, the Supreme Court will hear a case, R.G. & G.R. Harris Funeral Homes Inc. v. Equal Employment Opportunity Commission (EEOC), to determine whether trans employees can be fired simply for being trans…Currently, the case is before the Supreme Court, to be heard in the 2019-2020 term, and the government has flipped sides. Last week, the Department of Justice wrote a brief arguing the case that the EEOC won in the appellate court should now be reversed, urging the Court to hand a victory to the Christian funeral home owner. The DOJ’s stance is so appalling that the EEOC refused to sign onto the brief. The argument of Solicitor General Noel Francisco, a Trump nominee, is that Title VII is limited only to discrimination based on “biological sex” only and therefore doesn’t cover the firing of Stephens for being transgender. Put another way, the DOJ is arguing that Title VII applies when, say, women are treated worse at a job then men are, but not when transgender workers are treated worse at work than non-transgender workers. It gets worse. The DOJ brief endorses the view of the funeral home owner, Thomas Rost, who said “the Bible teaches that it is wrong for a biological male to deny his sex by dressing as a woman or for a biological female to deny her sex by dressing as a man” and that he would fire any woman who refused to wear a skirt while at work. You read that right. It’s 2019, and the government is arguing that businesses should be allowed to force women to wear skirts at work as long as a Christian business owner demands it. We received multiple inquiries from readers about the accuracy of Shareblue’s claim that the DOJ had articulated or supported the view that Christian employers should be legally allowed to force female employees to wear a skirt at work. The U.S. Supreme Court accepted the case in question for consideration in July 2018. As of August 2019, it was scheduled for oral arguments in October. Based on accounts filed by the employer Harris Funeral Homes , the employee Aimee Stephens , and the DOJ , as well as an earlier Court of Appeals opinion , the following is the rough sequence of events at the heart of this important but at times complicated case. Employment and termination In 2007, Stephens was hired by Harris Homes, which has three funeral-home locations in Michigan. Stephens had been born biologically male and assigned that gender at birth, was given the name William Anthony Beasley Stephens, and went by “Anthony.” In 2013, she informed her employer that she intended to live as a woman, which she had regarded for a long time as her true gender identity, and that as part of that transition, she intended to have gender-reassignment surgery. That would require living and working as a woman for a year first, and Stephens told Harris Homes she would take a vacation, and would “return to work as [her] true self,” with the intention of presenting herself as a woman and complying with the company’s dress code for women by wearing a skirt and suit jacket at work. Male employees were required to wear a suit and tie. Before she took that vacation, the owner of the company, Thomas Rost, terminated Stephens’ employment. Stephens filed  a sex-discrimination complaint with the federal Equality Employment Opportunity Commission (EEOC), alleging that Rost had fired her “due to her sex and gender identity.” (The EEOC also found the company had discriminated against female employees by providing suits for male workers, free of charge, but not providing an equal allowance to women. Harris Homes changed that particular policy in 2014 and now provides all workers a clothing allowance.) EEOC and the U.S. District Court The EEOC investigated Stephens’ complaint and ultimately decided to apply to the U.S. District Court for the Eastern District of Michigan in 2014, seeking an injunction against Harris Funeral Homes. The agency alleged that — in violation of federal non-discrimination law —  the company had “fired Stephens because Stephens is transgender, because of Stephens’s transition from male to female, and/or because Stephens did not conform to [Harris Homes’] sex- or gender-based preferences, expectations or stereotypes.” The company applied to have the case dismissed, but the District Court denied that motion. However, the court said the EEOC could not claim Title VII discrimination (after Title VII of the 1964 Civil Rights Act) solely on the basis of Stephens’ status as a transgender person, because gender identity was not one of the types of discrimination prohibited by law. (They are : race, religion, sex, national origin, age, disability and pregnancy.) However, the District Court said the EEOC could bring a claim that alleged Harris Homes had engaged in impermissible “sex stereotyping,” based on the fact that Stephens’ firing was related to her stated intention to not wear the clothes prescribed under the company’s male dress code. (In a precedent-setting 1988 case called “Price Waterhouse v. Hopkins,” the U.S. Court of Appeals for the D.C. Circuit said evidence of workplace discrimination based on sex and gender stereotypes could be regarded as de facto evidence of sex-based discrimination. That case revolved around a woman who was denied a partnership at the firm, partly because some decision-makers viewed her behavior and demeanor to be insufficiently “ladylike.” The court found that while the discrimination was not, strictly-speaking, based on the mere fact of her sex, it was inextricably linked to her sex, and could not, by definition, have taken place without reference to her sex. As such, the court concluded, it amounted to legally prohibited sex discrimination.) In the end, the District Court concluded that Harris Homes had indeed engaged in sex discrimination against Stephens on the basis of the “sex stereotyping” claim, but said the company was exempt from federal non-discrimination law based on the protections provided through the Religious Freedom Restoration Act (RFRA), which was signed into law by President Bill Clinton in 1993. (In the Stephens case, company owner Rost, a devout Christian, posited a religious objection to continuing to employ a person who would use a dress code different from that of an assigned, biological sex at birth, stating : “… The Bible teaches that it is wrong for a biological male to deny his sex by dressing as a woman or for a biological female to deny her sex by dressing as a man.”) The EEOC appealed the District Court’s decision before the U.S. Court of Appeals for the Sixth Circuit. Court of Appeals In March 2018, the Court of Appeals reversed the District Court’s ruling, finding that Harris Homes did engage in impermissible “sex stereotyping” sex discrimination, and rejecting the company’s claim that sex stereotyping was only impermissible discrimination if it had a disproportionately negative impact on one gender class of employees. The court also found that Rost had a legitimate right to a religious objection to employing Stephens, but that even the legislation which codified that constitutional right (RFRA) allowed for “greater good” exceptions, where the state has an overriding interest in protecting someone from discrimination, which the court saw as being the case here. Thirdly, and perhaps most notably, the Court of Appeals also contradicted the District Court’s ruling that the EEOC could not proceed against Harris Homes on the basis of a “pure” discrimination claim. According to the Court of Appeals, gender identity was, in fact, a grounds for a discrimination claim, under federal non-discrimination laws. In the court’s published opinion, Judge Karen Nelson Moore wrote : “We also hold that discrimination on the basis of transgender and transitioning status violates Title VII … First, it is analytically impossible to fire an employee based on that employee’s status as a transgender person without being motivated, at least in part, by the employee’s sex … We ask whether Stephens would have been fired if Stephens had been a [biological] woman who sought to comply with the women’s dress code. The answer quite obviously is no. This, in and of itself, confirms that Stephens’s sex impermissibly affected Rost’s decision to fire Stephens. “… Second, discrimination against transgender persons necessarily implicates Title VII’s proscriptions against sex stereotyping … an employer cannot discriminate on the basis of transgender status without imposing its stereotypical notions of how sexual organs and gender identity ought to align. There is no way to disaggregate discrimination on the basis of transgender status from discrimination on the basis of gender non-conformity, and we see no reason to try.” In July 2018, the U.S. Supreme Court agreed to consider the case and was scheduled to hear oral arguments in early October 2019. Stephens died in May 2020. One month later, the U.S. Supreme Court issued a landmark ruling , saying that federal law did indeed bar employment discrimination based on sexual orientation or gender identity as impermissible sex discrimination. The court reached that decision in a 6-3 vote, explicitly taking into account the Harris Funeral Homes case as well as two other similar cases, which we have examined in greater depth elsewhere . DOJ Stance On Aug. 16, 2019, the DOJ filed a brief before the Supreme Court, arguing on behalf of the federal government that the court should reverse the Court of Appeals decision, thus ruling in favor of Harris Homes and against the EEOC. Despite being the federal respondent to the company’s appeal, the EEOC did not sign on to the government’s (that is, the DOJ’s) Supreme Court brief. The District Court based its ruling on several grounds, as did the Court of Appeals, so it’s important to understand the reasons put forward by the DOJ for asking the Supreme Court to reverse the Court of Appeals decision. After all, the DOJ might be calling for the same outcome as the funeral home, but that doesn’t mean they agree on all issues, and they might be advocating the same outcome for differing reasons. As outlined in the Aug. 16 brief , the following is a rough summary of the DOJ’s arguments: As of Aug. 23, oral arguments had not taken place, but so far at least, the DOJ hasn’t argued that “Christian employers should be allowed to make women wear skirts,” as Shareblue’s headline claimed. In fact, the “religious objection” exemption that the District Court afforded Harris Homes and its owner Rost has not formed part of the DOJ’s arguments. Shareblue claimed that: “The DOJ brief endorses the view of the funeral home owner, Thomas Rost, who said ‘the Bible teaches that it is wrong for a biological male to deny his sex by dressing as a woman or for a biological female to deny her sex by dressing as a man’ and that he would fire any woman who refused to wear a skirt while at work.” That is not accurate. The DOJ brief mentions the fact that Rost said this, but does not endorse that view. The actual point the DOJ makes about this, which Shareblue omitted, is that the fact Rost would be equally willing to fire both a biological man and biological woman who both refused to dress under the dress code of their assigned gender shows (in the DOJ’s opinion) that the policy does not favor one sex over the other, meaning it is permissible under federal non-discrimination law. The DOJ has not endorsed or supported Rost’s biblically founded viewpoint on gender or attire, nor his company’s specific dress code policy. Rather, the DOJ has quite narrowly and specifically argued that the policy does not unfairly favor or burden workers of one sex over the other, and so does not violate non-discrimination law. Shareblue went on to claim : “You read that right. It’s 2019, and the government is arguing that businesses should be allowed to force women to wear skirts at work as long as a Christian business owner demands it.” This is very misleading. Again, the DOJ did not make a religious exemption argument in its Supreme Court brief, and its argument that Harris Homes’ dress code does not unfairly burden one sex over the other is not contingent upon the particular religious faith of the employer. So the conditional statement “as long as a Christian business owner demands it,” is a highly misleading representation of what the DOJ has actually argued. Is the DOJ arguing that any business owner, regardless of religious faith (or absence thereof) “should be allowed to force women to wear skirts at work”? Not exactly, but the DOJ is arguing that this is what the law already allows, under certain conditions. The DOJ is not making an argument from a moral viewpoint, saying what “should” be allowed and what should not be allowed. As is the norm for briefs before the U.S. Supreme Court, the DOJ is arguing what it perceives existing law to require — taking into account the text of legislation, the precedents set in past federal court decisions, as well as the intentions and understandings of lawmakers when they wrote the legislation in question. These are legal arguments, not moral ones, and they are arguments based on what the DOJ understands is the case, not what the DOJ thinks should be the case. In this particular instance, the DOJ is arguing that the existing body of non-discrimination law does not recognize transgender status as one of the grounds for a “pure” discrimination claim (like race, sex, religion, and so on); and that existing law does not regard a workplace policy as impermissible if it merely takes into account sex, rather than unfairly favoring or burdening one sex over the other. Therefore, the DOJ is in effect arguing that existing law already allows an employer to impose different dress codes for male and female workers, provided those dress codes don’t unfairly burden or favor one sex over the other. In this narrow sense, Shareblue’s headline has an element of truth — having different dress codes for men and women could involve obliging female employees to wear skirts (or pantsuits, or scarves, or dresses, and so on.) But that headline is woefully incomplete and therefore misleads readers about the DOJ’s actual argument, because having different dress codes for men and women would equally involve obliging male employees to wear trousers, suits, ties, and so on. So for Shareblue to cherry-pick only one side of the implications of the DOJ’s argument, by focusing, in its headline, on “women” and “skirts,” misleads readers while also missing the very point the DOJ made in that argument: that once the burden from sex-specific policies like dress codes is equally shared by men and women, the law allows that policy.\n",
      "\n",
      "========== Top: 6 , Score = 669.6760205922471 ========== \n",
      "\n",
      "2009-09-24\n",
      "Is Congress Voting Against Social Security COLA Increases? Any lack of COLA increases in Social Security isn't due a stubborn Congress or the cost of Obamacare. Congress will not allow Social Security recipients to get a COLA increase, while Obamacare raises the cost of Medicare premiums. Since the mid-1970s, the Social Security Administration (SSA) has provided for cost-of-living adjustments ( COLAs ) in order to help keep benefits in line with the rate of inflation. During several years of the last decade COLA increases were small or non-existent, but the most recent increase boosted Social Security benefits for 2018 by 2.8%:           Years with no COLA increases are a worrisome prospect for many retirees (and other Social Security recipients) living on fixed incomes. However, expressing anger with Congress over this circumstance is misplacing the blame, as Congress has no say over COLAs — that body cannot decide whether or not to “allow” COLAs, nor can it pre-empt COLAs by spending the money that would have been used to pay for them on something else (such as “Obamacare”) as suggested in the following examples: Pass this on According to The Trustees for the Social Security Administration, THERE WILL NOT BE A COST OF LIVING INCREASE FOR THE NEXT TWO YEARS IN SOCIAL SECURITY BENEFITS. They, the Congress (BOTH REPUBLICAN AND DEMOCRATS TOGETHER) say no increase is warranted because of the losses in gross national product and other cute things.. NOW SPORTS FANS THIS IS THE ONE THAT WILL FLIP YOU OUT!! THE SOCIAL SECURITY ADMINISTRATION IS FUNDING TWENTY FOUR MILLION DOLLARS — LET ME REPEAT THAT AMOUNT … SO YOU UNDERSTAND IT $ 24,000,000.00 DOLLARS FOR NEW ELECTRONIC MEDICAL RECORDS PROCESSING FOR OUR CONGRESSMEN AND SENATORS THEY ARE OBTAINING THESE FUNDS And I QUOTE DIRECTLY FROM THE SOCIAL SECURITY WEBSITE… THIS MONEY WILL BE COMING FROM THE SAVINGS TO BE GENERATED FROM WITHHOLDING COST OF LIVING INCREASES FOR 2010 & 2011 In SOCIAL SECURITY BENEFITS FOR THE ELDERLY AND A $2.00 INCREASE ON ALL MEDICARE RX BENEFIT CO-PAY Please pass this to ALL your friends and have them PROTEST TO THE IDIOTS WE ELECTED TO CONGRESS Who by the way, have just voted themselves ANOTHER 3% SALARY INCREASE!!! We must put a stop to this outright thievery! It is THE HOUSE AND THESENATE, BOTH REPUBLICAN AND DEMOCRATS, WECAN’T FIRE THEM, BUT WE SURE CANNOT RE-ELECT THEM, And WE CAN IMPEACH THEM Or DEMAND RECALL ELECTIONS!!! HOW ABOUT WE ALL GET TOGETHER AND DUMP THESE CLOWNS.  [Collected via e-mail, September 2009] For the first time in history, the Democratic Congress will not allow an increase in the social security COLA (cost of living adjustment). In fact, The Henry J. Kaiser Family Foundation predicts there may not be any COLA for the next three years. However, the per person monthly Medicare insurance premium will be increased from the 2009 premium of $96.40 to $104.20 in 2010 and to $120.20 for the year 2011. Send this to all seniors that you know. Remind them to not vote for the incumbent senators and congressmen in the 2010 and the 2012 elections.  [Collected via e-mail, March 2011] MEDICARE PAY INCREASE For those of you who are on Medicare (or will be soon), read the short article below. It is about the monthly amount of money you are going to pay into Medicare in 2011, 2012 and the huge increase you will pay in 2013. You will pay it. Social Security Congress will not allow an increase in the social security COLA (cost of living adjustment). However, the per person monthly Medicare insurance premium will be increased from the 2009 premium of $96.40 to $104.20 in 2010, $120.20 for the year 2011, AND a yearly increase to a wonderful $247.00 in 2014. Thank You Obamacare! In the meantime, Congress gave themselves a $3,000 a month Cost of Living Adjustment! Send this to all seniors that you know. REMEMBER IN NOVEMBER 2012 Under federal law, Social Security COLA increases are based solely on a formula which is tied to specific economic indices (primarily the Consumer Price Index for Urban Wage Earners and Clerical Workers), and the application of that formula under the economic conditions of the last few years has not called for an increase: Social Security payments increased by 5.8 percent in 2009, the largest increase in 27 years, after energy prices spiked in 2008. But energy prices quickly dropped. For example, average gasoline prices topped $4 a gallon in the summer of 2008. But by January 2009, they had fallen below $2. Today, the national average is roughly $2.70 a gallon. As a result, Social Security recipients got an increase in 2009 that was far larger than actual inflation. However, they won’t get another increase until inflation exceeds the level measured in 2008. The Social Security trustees project that will happen [in 2011], resulting in a small increase in benefits for 2012. Social Security spokesman Mark Lassiter said the agency has no leeway to increase payments if the inflation measurement doesn’t call for it. The Social Security Administration projects no cost-of-living increases for the next two years because the adjustments are pegged to inflation, which has been negative this year, largely because energy prices are below 2008 levels. The statement in the above-cited example about Congress’ having spent $24 million of Social Security money on an “electronic medical records processing” system for themselves is a grossly distorted version of an expenditure that was neither funded by the SSA’s “withholding cost of living increases” (or an increase on all Medicare pharmacy benefit co-payments), nor made for the benefit of Congress itself. The SSA announced in August 2009 that it was making available $24 million in contracts with the aim of implementing an information technology (IT) system to improve the efficiency of its disability programs: Michael J. Astrue, Commissioner of Social Security, announced the availability of $24 million in contracts to provide the agency with electronic medical records to improve the efficiency of its disability programs. Social Security is looking for health care providers, provider networks, and health information exchanges to participate in its Medical Evidence Gathering and Analysis through Health Information Technology (IT) program.Social Security is seeing a significant increase in disability applications as a result of the current recession. The agency expects to receive more than 3.3 million applications in fiscal year (FY) 2010, a 27 percent increase over FY 2008. To process these applications, the agency sends more than 15 million requests for medical records to health care providers. The use of health IT will vastly improve the efficiency of this process, which currently is largely paper-bound. As well, the announcement noted that the $24 million cost of the contract program was funded through the American Recovery and Reinvestment Act (commonly known as the “economic stimulus package” passed by Congress in February 2009), not paid for out of the Social Security general fund. (Moreover, $24 million is a minuscule amount compared to what even a modest COLA increase would entail — that sum of money wouldn’t be sufficient to pay every Social Security recipient a mere one cent extra per week in 2011.) Also, Congress has not “just voted themselves another 3% salary increase.” In 2009, and again in 2010, members of Congress voted not to receive their automatic cost-of-living salary increases.\n",
      "\n",
      "========== Top: 7 , Score = 669.5515862254983 ========== \n",
      "\n",
      "2001-08-17\n",
      "Nigerian (419) Scam Scammers offer to give away free money for helping them move large sums to American banks. A wealthy foreigner who needs help moving millions of dollars from his homeland promises a hefty percentage of this fortune as a reward for assisting him. Example: REQUEST FOR URGENT BUSINESS RELATIONSHIP FIRST, I MUST SOLICIT YOUR STRICTEST CONFIDENCE IN THIS TRANSACTION. THIS IS BY VIRTUE OF ITS NATURE AS BEING UTTERLY CONFIDENTIAL AND ‘TOP SECRET’. I AM SURE AND HAVE CONFIDENCE OF YOUR ABILITY AND RELIABILITY TO PROSECUTE A TRANSACTION OF THIS GREAT MAGNITUDE INVOLVING A PENDING TRANSACTION REQUIRING MAXIIMUM CONFIDENCE. WE ARE TOP OFFICIAL OF THE FEDERAL GOVERNMENT CONTRACT REVIEW PANEL WHO ARE INTERESTED IN IMPORATION OF GOODS INTO OUR COUNTRY WITH FUNDS WHICH ARE PRESENTLY TRAPPED IN NIGERIA. IN ORDER TO COMMENCE THIS BUSINESS WE SOLICIT YOUR ASSISTANCE TO ENABLE US TRANSFER INTO YOUR ACCOUNT THE SAID TRAPPED FUNDS. THE SOURCE OF THIS FUND IS AS FOLLOWS; DURING THE LAST MILITARY REGIME HERE IN NIGERIA, THE GOVERNMENT OFFICIALS SET UP COMPANIES AND AWARDED THEMSELVES CONTRACTS WHICH WERE GROSSLY OVER-INVOICED IN VARIOUS MINISTRIES. THE PRESENT CIVILIAN GOVERNMENT SET UP A CONTRACT REVIEW PANEL AND WE HAVE IDENTIFIED A LOT OF INFLATED CONTRACT FUNDS WHICH ARE PRESENTLY FLOATING IN THE CENTRAL BANK OF NIGERIA READY FOR PAYMENT. HOWEVER, BY VIRTUE OF OUR POSITION AS CIVIL SERVANTS AND MEMBERS OF THIS PANEL, WE CANNOT ACQUIRE THIS MONEY IN OUR NAMES. I HAVE THEREFORE, BEEN DELEGATED AS A MATTER OF TRUST BY MY COLLEAGUES OF THE PANEL TO LOOK FOR AN OVERSEAS PARTNER INTO WHOSE ACCOUNT WE WOULD TRANSFER THE SUM OF US$21,320,000.00(TWENTY ONE MILLION, THREE HUNDRED AND TWENTY THOUSAND U.S DOLLARS). HENCE WE ARE WRITING YOU THIS LETTER. WE HAVE AGREED TO SHARE THE MONEY THUS; 1. 20% FOR THE ACCOUNT OWNER 2. 70% FOR US (THE OFFICIALS) 3. 10% TO BE USED IN SETTLING TAXATION AND ALL LOCAL AND FOREIGN EXPENSES. IT IS FROM THE 70% THAT WE WISH TO COMMENCE THE IMPORTATION BUSINESS. PLEASE,NOTE THAT THIS TRANSACTION IS 100% SAFE AND WE HOPE TO COMMENCE THE TRANSFER LATEST SEVEN (7) BANKING DAYS FROM THE DATE OF THE RECEIPT OF THE FOLLOWING INFORMATIOM BY TEL/FAX; 234-1-7740449, YOUR COMPANY’S SIGNED, AND STAMPED LETTERHEAD PAPER THE ABOVE INFORMATION WILL ENABLE US WRITE LETTERS OF CLAIM AND JOB DESCRIPTION RESPECTIVELY. THIS WAY WE WILL USE YOUR COMPANY’S NAME TO APPLY FOR PAYMENT AND RE-AWARD THE CONTRACT IN YOUR COMPANY’S NAME. WE ARE LOOKING FORWARD TO DOING THIS BUSINESS WITH YOU AND SOLICIT YOUR CONFIDENTIALITY IN THIS TRANSATION. PLEASE ACKNOWLEDGE THE RECEIPT OF THIS LETTER USING THE ABOVE TEL/FAX NUMBERS. I WILL SEND YOU DETAILED INFORMATION OF THIS PENDING PROJECT WHEN I HAVE HEARD FROM YOU. YOURS FAITHFULLY, DR CLEMENT OKON NOTE; PLEASE QUOTE THIS REFERENCE NUMBER (VE/S/09/99) IN ALL YOUR RESPONSES. Even as you read this, the world famous Nigerian Scam (also known as a “4-1-9” or “Advance Fee Fraud” scheme) is parting yet more of the ‘something for nothing’ crowd from their money. Here’s how it works: Letters (or, nowadays, e-mail messages) postmarked from Nigeria (or Sierra Leone, or the Ivory Coast, or almost any other foreign nation) are sent to addresses taken from large mailing lists. The letters promise rich rewards for helping officials of that government (or bank, or quasi-government agency or sometimes just members of a particular family) out of an embarrassment or a legal problem. Typically, the pitch includes mention of multi-million dollar sums, with the open promise that you will be permitted to keep a startling percentage of the funds you’re going to aid in squirreling away for these disadvantaged foreigners. If you’re not saying “scam” by now, you should be. Should you agree to participate in this international bail-out, something will go wrong. Paperwork will be delayed. Questions will be asked. Officials will need to be bribed. Money from you — an insignificant sum, really, in light of the windfall about to land in your lap — will be required to get things back on track. You pay, you wait for the transfer … and all you’ll get in return are more excuses about why the funds are being held up and assurances that everything can be straightened out if you’ll just send a bit more cash to help the process along. Once your bank account has been sucked dry or you start making threats, you’ll never hear from these Nigerians again. As for the money you’ve thrown at this, it’s gone forever. In a nutshell, the con works by blinding the victim with promises of an unimaginable fortune. Once the sucker is sufficiently glittery-eyed over the prospect of becoming fabulously rich, he is squeezed for however much money he has. This he parts with willingly, thinking “What’s $5,000 here or $10,000 there when I’m going to end up with $2 million when this is all done?” He fails to realize during the sting that he’s never going to get the promised fortune; all of this messing around is designed to part him from his money. In another form taken by the Nigerian scam, a church or religious organization is contacted by a wealthy foreigner who says he desires nothing more than to leave his considerable fortune to that particular group. Maybe he says he’s led a life of sin and is now trying to make good, or maybe he claims that as a devout Christian he heard about their good works and wants to leave his money to help continue them, but whatever the backstory, it’s just a tale. Once again, there will be delays, each of them necessitating the “beneficiary” to spend a few thousand here and a few thousand there in an effort to collect money that never materializes. In a 2002 version of the con, the victim is informed he has just won an important prize in a foreign lottery he doesn’t remember entering. Only when he tries to collect the money is he approached for payment of facilitation fees to get his winnings to him. It’s the same con, with just a few elements unimportant to the execution of the thievery changed about. The scam is known as the Nigerian scam, but many countries are routinely named as the homelands the appeals originate from. Likewise, the backstory, the tale that supposedly explains how these people came into possession of this incredible sum and why they now need help getting it out of wherever, changes from one e-mail to the next. There are hundreds of versions in existence, each naming different people, describing different situations, and coming from a myriad of far-flung countries. Forget about matching one backstory to another or being suspicious of e-mails from Nigerians but not applying the same caution to approaches from folks from other places — grasp instead the general principle of the scam: Someone from someplace far away wants to give you (or your church) millions of dollars but needs your help in moving the money from there to here. It doesn’t matter if the letter says it came from Sri Lanka and the “funds” that need moving are gold bricks or uncut diamonds — it’s the Nigerian scam. Don’t let the naming blind you to that. Once the scam is explained, it seems so obvious a con that you’d wonder who would fall for it. Yet fall for it people do because they’re mesmerized by the wealth that will soon be theirs. They also fail to realize there’s a hook hanging just out of sight; at first all they see is that someone wants to give them something, thus they’re ill-prepared to mentally shift gears when that person turns the tables. Because the premise of “I’m going to get millions of dollars” is wholeheartedly swallowed early on, it’s not at a later point questioned when things begin to go wrong with the transaction and the dupes who have been targeted are asked to dig up some funds to help move things along. The Nigerian scam is hugely successful. According to a 1997 newspaper article: “We have confirmed losses just in the United States of over $100 million in the last 15 months,” said Special Agent James Caldwell, of the Secret Service financial crimes division. “And that’s just the ones we know of. We figure a lot of people don’t report them.” But this is a new scam, right? People are falling for it because they’ve yet to catch on? Wrong. Very, very wrong. The Nigerian Scam has been emptying the pockets of victims for decades — first through letters, then with faxes, and now via e-mail. In its earliest incarnation, which dates to at least the 1920s , it was known as ‘The Spanish Prisoner’ con. In that long-ago version, businessmen were contacted by someone trying to smuggle the scion of a wealthy family out of a prison in Spain. But of course the wealthy family would shower with riches those who helped secure the release of the boy. Those who were suckered into this paid for one failed rescue attempt after another, with the fictitious prisoner continuing to languish in his non-existent dungeon, always just one more bribe, one more scheme, one more try, away from being released. These days it’s trapped funds not errant sons of well-to-do families that are the objects of these global wild goose chases, but the con is the same. The undisputed headquarters of the scam is Nigeria, with some of the cons progressing so far as to have the victims fly to that country to meet with the “officials” they are purportedly assisting. Things got so out of hand, in fact, that in 1991 the Nigerian government felt compelled to issue a statement disavowing its participation in this scheme: The Central Bank of Nigeria (CBN) said on Thursday that swindlers using Nigerian names had extorted millions of dollars from people in the United States, Asia and Europe under the guise of transferring cash abroad.The elaborate fraud involves fake official approval to transfer up to 15 million dollars in excess claims on bogus Nigerian contracts as well as pledges to cut the claims amount for help in the use of offshore bank accounts. A CBN statement warned foreign companies and businessmen not to fall for the confidence trick, saying that the bank had been surprised and embarrassed by enquiries relating to the fraud. “The bank has no knowledge or record whatsoever of the purported claims or transfers, or even the related alleged contracts,” it said. Ah, but is it the same scheme? You tell me: British companies are being warned against a get-rich-quick scam involving thousands of letters sent from firms based in Nigeria.The letters ask UK firms to assist in the transfer of funds from Nigeria to Britain — by sending signed headed paper, invoices and bank account details — in return for a cut of the sum transferred. Instead of transferring sums, the UK firm’s money is removed by the fraudsters. Scotland Yard says that some companies have lost thousands of pounds in this way. About 25,000 letters are circulating in the UK. But the scale of the losses — which could run to many millions according to the Confederation of British Industry — is masked because some victims are ashamed to admit that they took part in such schemes in the first place. The real Central Bank of Nigeria tries to warn people about this scam, but it’s a case of the guy with the broom following the elephant — the elephant always gets there first. They even placed a half-page ad explaining the scam and warning off those who might be tempted to fall for it in major U.S. newspapers, such as the 27 October 1998 issue of the Los Angeles Times . That ad mentioned some new variations on the old scheme: A recent variation of the scam directed primarily at charitable organisations and religious bodies overseas involves bogus inheritance under a will. Again the sole aim is to collect the ‘advance fees’ already described above. A new strategy that has also been used to defraud the ‘victims’ is to offer to use chemicals to transform ordinary paper into United States dollar bills, which would be subsequently shared by the parties. Should you have occasion to feel something’s not quite right about a deal being offered, drop by the websites of both the Better Business Bureau ( BBB ) and the National Fraud Information Center ( NFIC ). Salon.com editor Douglas Cruickshank also penned “I crave your distinguished indulgence (and all your cash),” a wonderful textual analysis of Nigerian fraud messages. The Secret Service asks if you have been victimized by the Nigerian scam to forward appropriate written documentation to the United States Secret Service, Financial Crimes Division, 950 H Street, NW, Washington, D.C. 20223, or telephone (202) 406-5850, or contact by e-mail. Per their automated response system, they no longer want faxed copies of the various Nigerian scams. However, it needs to be pointed out there is only so much the Secret Service or any law enforcement agency can do if the perpetrators of the scam are not within their jurisdiction. Your local police department cannot send officers to Nigeria to arrest the fellows who are attempting to con you out of your life savings any more than Nigerian police could show up on your doorstep to put the handcuffs on you. Folks angered by Nigerian scam come-ons often want to see justice done and done quickly, yet often there is little that can be done because those behind the thefts are in other parts of the world. Ergo, the best protection is an awareness that the laws of your country are not always enforceable in other lands, so it behooves you to always proceed with caution when dealing with people or business entities in foreign locales. Additional information: Advisory Regarding “Advance Fee Fraud” Schemes (U.S. Secret Service)  The “Nigerian” Scam: Costly Compassion (Federal Trade Commission)  Consumers Now Target of Nigerian Scam Letters (Better Business Bureau)  Nigerian Letter Scams Go Hi-Tech (Better Business Bureau)\n",
      "\n",
      "========== Top: 8 , Score = 669.5033053990205 ========== \n",
      "\n",
      "2001-07-30\n",
      "Congressional Pensions Are Congressmen exempt from paying into Social Security? Members of Congress can receive lavish pensions after only one term in office and are not required to contribute to the Social Security fund. This piece about Congressional pensions and Social Security contributions has been circulating in various forms since at least April 2000: Examples: [Collected via e-mail, 2003] 2004 Election Issue !! GET A BILL STARTED TO PLACE ALL POLITICIANS ON SOC. SEC.  SOCIAL SECURITY: (This is worth reading. It is short and to the point.) Perhaps we are asking the wrong questions during election years. Our Senators and Congresswomen do not pay into Social Security and, of course, they do not collect from it. You see, Social Security benefits were not suitable for persons of their rare elevation in society. They felt they should have a special plan for themselves. So, many years ago they voted in their own benefit plan. In more recent years, no congressperson has felt the need to change it. After all, it is a great plan. For all practical purposes their plan works like this: When they retire, they continue to draw the same pay until they die. Except it may increase from time to time for cost of living adjustments. For example, former Senator Byrd and Congressman White and their wives may expect to draw $7,800,000.00 (that’s Seven Million, Eight-Hundred Thousand Dollars), with their wives drawing $275,000.00 during the last years of their lives. This is calculated on an average life span for each of those two Dignitaries. Younger Dignitaries who retire at an early age, will receive much more during the rest of their lives. Their cost for this excellent plan is $0.00. NADA…. ZILCH…. This little perk they voted for themselves is free to them. You and I pick up the tab for this plan. The funds for this fine retirement plan come directly from the General Funds; “OUR TAX DOLLARS AT WORK”! From our own Social Security Plan, which you and I pay (or have paid) into, — every payday until we retire (which amount is matched by our employer) — we can expect to get an average of $1,000 per month after retirement. Or, in other words, we would have to collect our average of $1,000 monthly benefits for 68 years and one (1) month to equal Senator Bill Bradley’s benefits! Social Security could be very good if only one small change were made. That change would be to jerk the Golden Fleece Retirement Plan from under the Senators and Congressmen. Put them into the Social Security plan with the rest of us … then sit back and watch how fast they would fix it. If enough people receive this, maybe a seed of awareness will be planted and maybe good changes will evolve. How many people can YOU send this to? Keep this going clear up thru the 2004 election!! We need to be heard  [Collected via e-mail, 2002] Hillary for President- NOT! Just yesterday I saw her on the senate floor speaking against the high salaries of company CEO’s….. Hillary Rodham Clinton, as a New York State Senator, now comes under this fancy “Congressional Retirement and Staffing Plan,” which means that even if she never gets reelected, she STILL receives her Congressional salary until she dies. If Bill outlives her, he then inherits HER salary until HE dies. He is already getting his Presidential salary until he dies. If Hillary outlives Bill, she also gets HIS salary until she dies. Guess who pays for that? WE  It’s common knowledge that in order for her to establish NY residency, they purchased a million dollar-plus house in upscale Chappaqua, New York. Makes sense. They are entitled to Secret Service protection for life. Still makes sense. Here is where it becomes interesting. Their mortgage payments hover at around $10,000 per month. BUT, an extra residence HAD to be built within the acreage to house the Secret Service agents. The Clintons charge the Federal government $10,000 monthly rent for the use of that extra residence, which is just about equal to their mortgage payment. This means that we, the taxpayers, are paying the Clinton’s salary, mortgage, transportation, safety and security, as well as the salaries for their 12 man staff – and this is all perfectly legal! When she runs for President, will you vote for her?  [Collected via e-mail, 2000] Something to think about. So that those who don’t know, may. Our Senators and Congressmen don’t pay in to Social Security, and, of course, they don’t collect from it. The reason is that they have a special retirement plan that they voted for themselves many years ago. For all practical purposes, it works like this: When they retire, they continue to draw their same pay, until they die, except that it may be increased from time to time, by cost of living adjustments. For instance, former Senator Bradley, and his wife, may be expected to draw $7,900,000, with Mrs. Bradley drawing $275,000 during the last year of her life. This is calculated on an average life span for each. This would be well and good, except that they paid nothing in on any kind of retirement, and neither does any other Senator or Congressman. This fine retirement comes right out of the General Fund: our tax money. While we who pay for it all, draw an average of $1000/month from Social Security. Imagine for a moment that you could structure a retirement plan so desirable that people would have extra pay deducted so that they could increase their own personal retirement income. A retirement plan that works so well, that Railroad employees, Postal Workers, and others who aren’t in it, would clamor to get in. That is how good Social Security could be, if only one small change were made. That change is to jerk the Golden Fleece retirement out from under the Senators and Congressmen, and put them in Social Security with the rest of us. Then watch how fast they fix it. If enough people receive this, maybe one or some of them along the way, might be able to help. How many can YOU send it to? Nothing is worth more than this day Virtually all of it is outdated, inaccurate, or misleading:  It is true that, if current pension levels and cost-of-living adjustments (COLA) for Congress members continue to apply in the future, some former members of Congress could conceivably collect millions of dollars in annuities over the course of their lifetimes. However, the huge dollar amounts bandied about in e-mails like the ones quoted above are based upon extreme cases: those of politicians who entered Congress at relatively early ages, served for several decades, and retired while still young enough to potentially live for another several decades. These cases are the rare exceptions, based upon the hypothetical assumption that a few long-serving members of Congress who retired while in their mid-50s would live well past the age of 80. (Even the person who collects a modest salary/pension of $40,000 per year stands to take in a million dollars over the course of 25 years.) As of 2007, the average annuities for retired members of Congress were $63,696 for those who retired under CSRS and $36,732 for those who retired under FERS. Those figures are quite good (about “2-3 times more generous than what a similarly-salaried executive could expect to receive upon retiring from the private sector,” according to the National Taxpayers Union), but not quite the lavish endowments these e-mails make them out to be. Additional information: Congressional Pensions (C-SPAN) Retirement Benefits for Members of Congress (United States Senate) Retirement Benefits for Members of Congress\n",
      "\n",
      "========== Top: 9 , Score = 669.5006140648999 ========== \n",
      "\n",
      "2007-06-01\n",
      "Shelter Closure Is an animal shelter closing for good and euthanizing all its animals that are not adopted before its closure? An animal shelter will soon be closing or moving and will euthanize all the animals currently in their care that have not been adopted. Examples: [Collected via Facebook, September 2013] PLEASE GO SAVE A LIFE. $15 for dogs. $5 for cats. All animals are fixed with shots. 201 S. Mt. Vernon ave.    [Collected via e-mail, September 2009] Montgomery Animal Shelter In New Jersey Is CLOSING TOMORROW!! You Can Adopt For Free Tomorrow Between 12 And 4.   Phone: (908) 359-4308 [Collected via e-mail, August 2010] Summit County animal shelter is moving yet not taking ANY of the animals with them. What isn’t adopted out will be put to sleep. $10 for cats and $24 for dogs. Even if you can’t help please repost this so that others might give these helpless animals a fighting chance at a good life.  [Collected via e-mail, September 2009] Montgomery Animal Shelter In New Jersey Is CLOSING TOMORROW!! You Can Adopt For Free Tomorrow Between 12 And 4.   Phone: (908) 359-4308 PLEASE REPOST TO SPREAD THE WORD!  [Collected via e-mail, January 2007] Please help!!!  PLEASE SAVE THE LIFE OF A PRECIOUS ANIMAL…..THERE’S ONLY 3 DAYS LEFT. Even if you can’t have one of your own, just forward this on to everyone you know and have them forward it on….you NEVER know who winds up wanting and getting a dog! I’ve been surprised numerous times by people who I never thought in a million years would get an animal! If you feel moved, just get in the car and go down there and look – anybody you know need a belated Xmas gift? You just might find your (4 legged) true love there!!! 21632 Newland Street Huntington Beach, CA 92646    Please pass this on! I know some of you have extensive mailing lists… no guilt required… just action! Thank you on their behalf. Who’s gonna watch out for them if we don’t? [Collected via e-mail, June 2017] This is the Whatsapp message: “Hi guys. The Germiston SPCA is closing down due to a lack of funds. They’ve got about 250 animals there at the moment and unless they’re adopted or the centre gets enough money to keep running – those animals will, sadly, have to be put down. This includes kittens, puppies, grown dogs and cats, birds, hamsters, horses etc… It also includes animals at centres supported by the Germiston SPCA such as Kittie Haven, The Service Dogs Retirement Home and multiple other centres and rehabilitation centres. All in all it’s well over 1000 animals. Please, if any of you are looking to adopt or you know anyone looking to adopt – send them to the Germiston SPCA. Even if you’re not looking to adopt please spread the word to anyone you can. If you can, you can also make a donation on their website or you can even donate blankets, animal food, food bowls or carrier cages to them. Please spread the word everyone! There are a lot of animals that can be saved!” Origins: While no doubt some animal shelters facing imminent closure due to desperate straits (financial or otherwise) have been forced into the extreme measure of euthanizing unadopted animals that could not be placed elsewhere, animal lovers can take heart in the knowledge that none of the shelters mentioned in the Internet-circulated appeals referenced in this article was ever in the position of closing for good, much less of having to euthanize all of its unadopted cats and dogs. One version of this item, spread by social media in September 2013, held that the Kern County Animal Shelter in Bakersfield, California, had lost the lease on its current location and would be shutting down on the last day of that month and potentially putting down over 900 animals not adopted by that date. However, the facility’s director went public to disclaim the rumor, announcing at a 6 September 2013 news conference that although the shelter would be moving to a new location, all the animals currently in its care would continue to be cared for in the meanwhile and none would be euthanized: The county will be forced to move out of the city’s shelter on Mt. Vernon [Avenue] by the end of the month.The county addressed what they plan to do with the animals in a news conference to end all social media rumors. In the conference, the director of the animal shelter emphasized that no animals will be put down because of the eviction. The director said the county plans ‘to continue to care for all animals’ and they will continue to work with all animal rescue groups. According to the director, the county will move all the animals that aren’t adopted by the end of the month to their new location. The first appeal of this type which we encountered was spread in early 2007 about the Orange County Humane Society animal shelter on Newland Avenue in Huntington Beach, California. The dire warning spread via e-mail was exaggerated: The owner of the shelter and the adjacent AAA Animal Hospital was about to begin a large remodeling project at the Newland Avenue site to build a new facility, but both operations were scheduled to remain open throughout the construction period. Although the shelter’s capacity would be diminished during that time, any animals that could not be accommodated were to be relocated to other shelters. As the Orange County Register reported about the shelter closure rumor: Owner Dr. Samir Botros responded to rumors that his animal shelter was being shut down and that the animals not adopted would be euthanized.”I don’t think we’ll even turn away any animals” during construction, said Botros, who noted that he runs a no-kill facility. The shelter, which has been open on Newland Avenue for about 28 years, and the adjacent AAA Animal Hospital are scheduled to begin a massive remodel, said Botros, who owns both businesses. The shelter will remain open during construction, but its capacity will be slashed to about 60 percent or 70 percent. There are now up to 64 cages for dogs at the shelter and a large room to accommodate cats, Botros said. Shelter officials already have signed contracts with other area shelters and rescue groups to take animals that can’t be accommodated during the remodel, which should take six to eight months, Botros said. He also said he believes the facility won’t have to turn away pets given up by their owners. The claim that the shelter was “‘selling’ the dogs for 50% off to move them out” referred to a special program the shelter enacted for the 2006 holiday season which was no longer in effect. Similarly, in September 2009 appeals circulated via Facebook about a shelter in New Jersey that was about to close and would be euthanizing any unadopted animals: MONTGOMERY ANIMAL SHELTER IS CLOSING TOMORROW (new brunswick, NJ). you can adopt for free tomorrow between 12 and 4pm. tragically, they will be euthanizing all animals without a home.Montgomery Animal Shelter: 908-359-4308 This message was wrong on two fronts: The Montgomery Animal Shelter referred to was not in New Jersey (or Pennsylvania, or Tennessee, or Maryland), but in Montgomery County, Texas. And although the Humane Society of Montgomery County in Texas had to move out of its shelter building because its contract expired, its press release of 21 September 2009 notes that all its animals were adopted before it closed its doors:Th The Humane Society of Montgomery County wants to thank the volunteers, donors, employees, rescue groups and most importantly the hundreds of people who showed up during the past week to ensure all the adoptable animals in HSMC’s care found new forever homes. “We could not be happier with how well the public responded to our call for homes for our cats and dogs,” said HSMC President Kathy Scoles.On Saturday when HSMC opened its doors for the final adoptions, there was such a huge turnout and the animals were adopted very quickly. We had to turn people away and refer them to other rescue groups and shelters. In August 2010, word began circulating via Facebook and Craigslist postings that the Summit County, Ohio, animal shelter would soon be moving to a new facility, with all unadopted pets remaining at the time of the move to be euthanized. The Akron Beacon Journal reported that this rumor was also false: Authorities say Internet rumors that Summit County Animal Control is planning a mass kill of animals at the shelter are not true.Dogs and cats that have not found homes by the Aug. 21 [2010] move will be cared for and transported to the new facility by people trained to help animals in emergencies. Personnel from County Animal Rescue and Evacuation (CARE), in cooperation with the Summit County Red Cross and the Summit County Emergency Management Agency, have volunteered to assist with the move [Craig Stanley, director of administrative services, said]. Rumors that dogs and cats that remain at the shelter when it moves to its new $2.96 million facility would be killed began circulating shortly after more than 200 dogs and cats found homes at an adopt-athon sponsored by the Summit County Animal Coalition. After the adopt-athon, cages at the shelter were virtually empty, with 98 dogs and more than 100 cats having found homes. By [the next week, only] about 25 or 30 dogs and puppies and about 60 cats and kittens [were] left at the pound, [Stanley] said.\n",
      "\n"
     ]
    }
   ],
   "source": [
    "p = random.sample(random.sample(datasets, 1)[0], 1)[0]\n",
    "print(p['content'], p['label'], p['time'])\n",
    "print()\n",
    "\n",
    "scores = bm25.get_a_query_scores(p['content'], model)\n",
    "scores, scores.shape\n",
    "\n",
    "for i, idx in enumerate(scores.argsort()[::-1][:10]):\n",
    "    print('='*10, 'Top:',i, ', Score =', scores[idx], '='*10, '\\n')\n",
    "    print(raw_articles[idx]['date'])\n",
    "    print(corpus[idx])\n",
    "    print()"
   ]
  },
  {
   "cell_type": "markdown",
   "metadata": {},
   "source": [
    "## Total"
   ]
  },
  {
   "cell_type": "code",
   "execution_count": 19,
   "metadata": {
    "ExecuteTime": {
     "end_time": "2021-11-11T07:17:40.821237Z",
     "start_time": "2021-11-11T06:53:44.825226Z"
    }
   },
   "outputs": [
    {
     "name": "stderr",
     "output_type": "stream",
     "text": [
      "100%|██████████| 4256/4256 [14:11<00:00,  5.00it/s]\n",
      "  0%|          | 0/1420 [00:00<?, ?it/s]"
     ]
    },
    {
     "name": "stdout",
     "output_type": "stream",
     "text": [
      "bm25_scores:  (4256, 8084)\n"
     ]
    },
    {
     "name": "stderr",
     "output_type": "stream",
     "text": [
      "100%|██████████| 1420/1420 [04:47<00:00,  4.93it/s]\n",
      "  0%|          | 0/1420 [00:00<?, ?it/s]"
     ]
    },
    {
     "name": "stdout",
     "output_type": "stream",
     "text": [
      "bm25_scores:  (1420, 8084)\n"
     ]
    },
    {
     "name": "stderr",
     "output_type": "stream",
     "text": [
      "100%|██████████| 1420/1420 [04:56<00:00,  4.79it/s]"
     ]
    },
    {
     "name": "stdout",
     "output_type": "stream",
     "text": [
      "bm25_scores:  (1420, 8084)\n"
     ]
    },
    {
     "name": "stderr",
     "output_type": "stream",
     "text": [
      "\n"
     ]
    }
   ],
   "source": [
    "for i, pieces in enumerate(datasets):\n",
    "    queries = [p['content'] for p in pieces]\n",
    "    scores_arr = bm25.get_total_scores(queries, corpus, bm25_model=model)\n",
    "    np.save(\n",
    "        'data/English/bm25_{}.npy'.format(['train', 'val', 'test'][i]), scores_arr)"
   ]
  },
  {
   "cell_type": "markdown",
   "metadata": {},
   "source": [
    "# Export Top 10 (only articles published BEFORE the post)"
   ]
  },
  {
   "cell_type": "markdown",
   "metadata": {},
   "source": [
    "## Loading"
   ]
  },
  {
   "cell_type": "code",
   "execution_count": 1,
   "metadata": {
    "ExecuteTime": {
     "end_time": "2021-11-11T07:18:34.671970Z",
     "start_time": "2021-11-11T07:18:34.208948Z"
    }
   },
   "outputs": [],
   "source": [
    "import json\n",
    "import random\n",
    "import sys\n",
    "import bm25\n",
    "import numpy as np\n",
    "from tqdm import tqdm\n",
    "import numpy as np\n",
    "import pickle"
   ]
  },
  {
   "cell_type": "code",
   "execution_count": 2,
   "metadata": {
    "ExecuteTime": {
     "end_time": "2021-11-11T07:18:42.271148Z",
     "start_time": "2021-11-11T07:18:42.232787Z"
    }
   },
   "outputs": [
    {
     "name": "stdout",
     "output_type": "stream",
     "text": [
      "4256\n",
      "1420\n",
      "1420\n"
     ]
    }
   ],
   "source": [
    "datasets = []\n",
    "\n",
    "for t in ['train', 'val', 'test']:\n",
    "    with open('../../dataset/English/post/{}.json'.format(t), 'r') as f:\n",
    "        pieces = json.load(f)\n",
    "        print(len(pieces))\n",
    "        datasets.append(pieces)"
   ]
  },
  {
   "cell_type": "code",
   "execution_count": 3,
   "metadata": {
    "ExecuteTime": {
     "end_time": "2021-11-11T07:18:43.294658Z",
     "start_time": "2021-11-11T07:18:43.279266Z"
    }
   },
   "outputs": [
    {
     "data": {
      "text/plain": [
       "{'content': 'California To Register Illegal Aliens To Vote – Automatically.',\n",
       " 'time': '2018-01-21 00:00:00',\n",
       " 'label': 'fake',\n",
       " 'source': 'MFC'}"
      ]
     },
     "execution_count": 3,
     "metadata": {},
     "output_type": "execute_result"
    }
   ],
   "source": [
    "datasets[-1][-10]"
   ]
  },
  {
   "cell_type": "code",
   "execution_count": 4,
   "metadata": {
    "ExecuteTime": {
     "end_time": "2021-11-11T07:18:52.784853Z",
     "start_time": "2021-11-11T07:18:52.272162Z"
    }
   },
   "outputs": [
    {
     "data": {
      "text/plain": [
       "8084"
      ]
     },
     "execution_count": 4,
     "metadata": {},
     "output_type": "execute_result"
    }
   ],
   "source": [
    "with open('../../dataset/Twitter/articles/Snopes_8084.json', 'r') as f:\n",
    "    raw_articles = json.load(f)\n",
    "len(raw_articles)"
   ]
  },
  {
   "cell_type": "code",
   "execution_count": 5,
   "metadata": {
    "ExecuteTime": {
     "end_time": "2021-11-11T07:18:54.235479Z",
     "start_time": "2021-11-11T07:18:54.230092Z"
    }
   },
   "outputs": [
    {
     "data": {
      "text/plain": [
       "{'date': '2019-03-29',\n",
       " 'url': 'https://www.snopes.com/fact-check/crystal-methodist-church-sign/',\n",
       " 'title': 'Is this Crystal Methodist Church Sign in Effing, SC, Real?',\n",
       " 'subtitle': 'This fictional town certainly seems like an interesting place to live.',\n",
       " 'claim': 'A photograph shows a church sign outside of Crystal Methodist in Effing, South Carolina, that reads \"Adultery is a sin. You can\\'t have your Kate and Edith too.\"',\n",
       " 'content': 'In March 2019, we started receiving queries about a church sign supposedly found outside of the Crystal Methodist Church in Effing, South Carolina, reading, “Adultery is a sin. You can’t have you Kate and Edith Too”:  This image racked up tens of thousands of shares as it was posted by a variety of Facebook pages, such as “ IntelligentRedneck ” and “ Completely Offensively,” but it originated on the “ Crystal Methodist Church of Effing SC” Facebook page in February 2019. While this image contains a few obvious punny jokes (Crystal Methodist Church is a play on the drug, Crystal Meth, and Effing, SC, is another spelling of F-ing, SC), some viewers weren’t quite sure if this church was real or fake. To put it simply: There is no Crystal Methodist Church in Effing, South Carolina, and the text seen on this church sign was digitally altered. For starters, there simply is no city of “Effing” in South Carolina. This fictional town serves as the backdrop for humorous posts from “The Crystal Methodist Church of Effing SC” Facebook page, as well as its apparent sister Facebook page, “ Effing SC .” We have not been able to locate the original source of this church sign, and when we inquired about the matter with the The Crystal Methodist Church of Effing SC,” they told us that the church was “built originally in the 1960s by the congregation at the time and was converted sometime in the late 80s. It is being updated again this year.” While we applaud this Facebook page’s commitment to the joke, we’re a wee bit skeptical of their claims. In addition to the fact that this city simply doesn’t exist, the text on this sign was clearly created with digital editing software. While this single image may pass muster, the digital trickery becomes more obvious when you realize that this Facebook page has created dozens of different versions of the same sign:  When we viewed these church signs together, we noticed two very curious things. First, the exact same lighting conditions are present in each one of these images, suggesting that linear time simply does not exist in the fictional city of Effing, South Carolina. Second, while the wording on this sign clearly changes from day to day, it appears that nothing else in this town ever moves. The pile of bricks next to the sign, as well as the RV in the background, have been in the same spot since this Facebook page posted their first “Crystal Methodist Church” sign in May 2018:'}"
      ]
     },
     "execution_count": 5,
     "metadata": {},
     "output_type": "execute_result"
    }
   ],
   "source": [
    "random.sample(raw_articles, 1)[0]"
   ]
  },
  {
   "cell_type": "markdown",
   "metadata": {},
   "source": [
    "## Find the nearest article"
   ]
  },
  {
   "cell_type": "code",
   "execution_count": 6,
   "metadata": {
    "ExecuteTime": {
     "end_time": "2021-11-11T07:19:07.107477Z",
     "start_time": "2021-11-11T07:19:07.099937Z"
    }
   },
   "outputs": [
    {
     "data": {
      "text/plain": [
       "8084"
      ]
     },
     "execution_count": 6,
     "metadata": {},
     "output_type": "execute_result"
    }
   ],
   "source": [
    "articles_times = [a['date'] for a in raw_articles]\n",
    "len(articles_times)"
   ]
  },
  {
   "cell_type": "code",
   "execution_count": 7,
   "metadata": {
    "ExecuteTime": {
     "end_time": "2021-11-11T07:19:07.961110Z",
     "start_time": "2021-11-11T07:19:07.941398Z"
    }
   },
   "outputs": [
    {
     "data": {
      "text/plain": [
       "['1995-09-25',\n",
       " '1995-10-19',\n",
       " '1996-02-26',\n",
       " '1996-02-27',\n",
       " '1996-03-01',\n",
       " '1996-07-29',\n",
       " '1996-08-02',\n",
       " '1996-08-06',\n",
       " '1996-08-06',\n",
       " '1996-08-11',\n",
       " '1996-10-02',\n",
       " '1996-12-04',\n",
       " '1996-12-13',\n",
       " '1996-12-29',\n",
       " '1996-12-31',\n",
       " '1997-02-09',\n",
       " '1997-04-20',\n",
       " '1997-04-20',\n",
       " '1997-04-24',\n",
       " '1997-05-05',\n",
       " '1997-06-02',\n",
       " '1997-06-03',\n",
       " '1997-06-09',\n",
       " '1997-07-11',\n",
       " '1997-07-12',\n",
       " '1997-07-12',\n",
       " '1997-07-12',\n",
       " '1997-07-26',\n",
       " '1997-09-02',\n",
       " '1997-10-25',\n",
       " '1997-11-02',\n",
       " '1997-12-13',\n",
       " '1997-12-14',\n",
       " '1998-01-01',\n",
       " '1998-01-24',\n",
       " '1998-02-15',\n",
       " '1998-03-01',\n",
       " '1998-03-03',\n",
       " '1998-03-12',\n",
       " '1998-03-29',\n",
       " '1998-06-08',\n",
       " '1998-06-09',\n",
       " '1998-07-01',\n",
       " '1998-08-19',\n",
       " '1998-08-28',\n",
       " '1998-09-01',\n",
       " '1998-09-16',\n",
       " '1998-09-18',\n",
       " '1998-09-28',\n",
       " '1998-10-14',\n",
       " '1998-10-20',\n",
       " '1998-10-28',\n",
       " '1998-10-29',\n",
       " '1998-11-30',\n",
       " '1998-11-30',\n",
       " '1998-12-03',\n",
       " '1998-12-05',\n",
       " '1998-12-05',\n",
       " '1998-12-07',\n",
       " '1998-12-10',\n",
       " '1998-12-30',\n",
       " '1998-12-31',\n",
       " '1998-12-31',\n",
       " '1998-12-31',\n",
       " '1998-12-31',\n",
       " '1998-12-31',\n",
       " '1998-12-31',\n",
       " '1998-12-31',\n",
       " '1998-12-31',\n",
       " '1999-01-01',\n",
       " '1999-01-13',\n",
       " '1999-01-15',\n",
       " '1999-01-29',\n",
       " '1999-02-01',\n",
       " '1999-02-01',\n",
       " '1999-02-05',\n",
       " '1999-02-08',\n",
       " '1999-02-09',\n",
       " '1999-02-14',\n",
       " '1999-02-25',\n",
       " '1999-03-04',\n",
       " '1999-03-10',\n",
       " '1999-03-13',\n",
       " '1999-03-17',\n",
       " '1999-03-17',\n",
       " '1999-03-23',\n",
       " '1999-03-26',\n",
       " '1999-03-29',\n",
       " '1999-04-03',\n",
       " '1999-04-11',\n",
       " '1999-04-11',\n",
       " '1999-04-12',\n",
       " '1999-04-13',\n",
       " '1999-04-25',\n",
       " '1999-04-25',\n",
       " '1999-05-02',\n",
       " '1999-05-02',\n",
       " '1999-05-02',\n",
       " '1999-05-19',\n",
       " '1999-06-01',\n",
       " '1999-06-09',\n",
       " '1999-06-13',\n",
       " '1999-06-22',\n",
       " '1999-06-25',\n",
       " '1999-06-30',\n",
       " '1999-06-30',\n",
       " '1999-07-05',\n",
       " '1999-07-05',\n",
       " '1999-07-11',\n",
       " '1999-07-12',\n",
       " '1999-07-13',\n",
       " '1999-07-15',\n",
       " '1999-07-19',\n",
       " '1999-07-20',\n",
       " '1999-07-28',\n",
       " '1999-07-30',\n",
       " '1999-07-30',\n",
       " '1999-08-08',\n",
       " '1999-08-13',\n",
       " '1999-08-16',\n",
       " '1999-09-07',\n",
       " '1999-09-10',\n",
       " '1999-09-11',\n",
       " '1999-09-12',\n",
       " '1999-09-18',\n",
       " '1999-09-25',\n",
       " '1999-09-30',\n",
       " '1999-10-01',\n",
       " '1999-10-07',\n",
       " '1999-10-10',\n",
       " '1999-10-23',\n",
       " '1999-10-23',\n",
       " '1999-10-24',\n",
       " '1999-10-30',\n",
       " '1999-10-31',\n",
       " '1999-10-31',\n",
       " '1999-10-31',\n",
       " '1999-11-03',\n",
       " '1999-11-09',\n",
       " '1999-11-11',\n",
       " '1999-11-16',\n",
       " '1999-11-16',\n",
       " '1999-11-18',\n",
       " '1999-12-04',\n",
       " '1999-12-07',\n",
       " '1999-12-16',\n",
       " '1999-12-16',\n",
       " '1999-12-17',\n",
       " '1999-12-20',\n",
       " '1999-12-20',\n",
       " '1999-12-21',\n",
       " '1999-12-24',\n",
       " '1999-12-28',\n",
       " '2000-01-02',\n",
       " '2000-01-03',\n",
       " '2000-01-10',\n",
       " '2000-01-17',\n",
       " '2000-01-19',\n",
       " '2000-01-21',\n",
       " '2000-01-23',\n",
       " '2000-01-24',\n",
       " '2000-01-26',\n",
       " '2000-01-27',\n",
       " '2000-01-28',\n",
       " '2000-01-28',\n",
       " '2000-02-03',\n",
       " '2000-02-08',\n",
       " '2000-02-12',\n",
       " '2000-02-14',\n",
       " '2000-02-14',\n",
       " '2000-02-25',\n",
       " '2000-03-01',\n",
       " '2000-03-07',\n",
       " '2000-03-07',\n",
       " '2000-03-07',\n",
       " '2000-03-07',\n",
       " '2000-03-09',\n",
       " '2000-03-13',\n",
       " '2000-03-13',\n",
       " '2000-03-15',\n",
       " '2000-03-17',\n",
       " '2000-03-17',\n",
       " '2000-03-17',\n",
       " '2000-03-19',\n",
       " '2000-03-22',\n",
       " '2000-03-23',\n",
       " '2000-03-25',\n",
       " '2000-03-25',\n",
       " '2000-03-31',\n",
       " '2000-04-04',\n",
       " '2000-04-06',\n",
       " '2000-04-17',\n",
       " '2000-04-21',\n",
       " '2000-04-22',\n",
       " '2000-04-22',\n",
       " '2000-04-24',\n",
       " '2000-05-01',\n",
       " '2000-05-04',\n",
       " '2000-05-09',\n",
       " '2000-05-11',\n",
       " '2000-05-13',\n",
       " '2000-05-14',\n",
       " '2000-05-21',\n",
       " '2000-05-23',\n",
       " '2000-05-24',\n",
       " '2000-05-31',\n",
       " '2000-06-01',\n",
       " '2000-06-07',\n",
       " '2000-06-11',\n",
       " '2000-06-21',\n",
       " '2000-06-23',\n",
       " '2000-06-24',\n",
       " '2000-06-30',\n",
       " '2000-07-04',\n",
       " '2000-07-05',\n",
       " '2000-07-05',\n",
       " '2000-07-08',\n",
       " '2000-07-10',\n",
       " '2000-07-10',\n",
       " '2000-07-12',\n",
       " '2000-07-15',\n",
       " '2000-07-20',\n",
       " '2000-07-26',\n",
       " '2000-08-01',\n",
       " '2000-08-09',\n",
       " '2000-08-22',\n",
       " '2000-08-24',\n",
       " '2000-09-02',\n",
       " '2000-09-07',\n",
       " '2000-09-09',\n",
       " '2000-09-12',\n",
       " '2000-09-12',\n",
       " '2000-09-13',\n",
       " '2000-09-18',\n",
       " '2000-09-20',\n",
       " '2000-09-26',\n",
       " '2000-09-26',\n",
       " '2000-09-28',\n",
       " '2000-10-02',\n",
       " '2000-10-09',\n",
       " '2000-10-09',\n",
       " '2000-10-11',\n",
       " '2000-10-15',\n",
       " '2000-10-31',\n",
       " '2000-11-02',\n",
       " '2000-11-02',\n",
       " '2000-11-03',\n",
       " '2000-11-03',\n",
       " '2000-11-04',\n",
       " '2000-11-05',\n",
       " '2000-11-07',\n",
       " '2000-11-07',\n",
       " '2000-11-08',\n",
       " '2000-11-10',\n",
       " '2000-11-16',\n",
       " '2000-11-17',\n",
       " '2000-11-17',\n",
       " '2000-11-20',\n",
       " '2000-11-20',\n",
       " '2000-11-20',\n",
       " '2000-11-21',\n",
       " '2000-11-25',\n",
       " '2000-11-25',\n",
       " '2000-11-27',\n",
       " '2000-11-28',\n",
       " '2000-11-29',\n",
       " '2000-12-01',\n",
       " '2000-12-01',\n",
       " '2000-12-07',\n",
       " '2000-12-14',\n",
       " '2000-12-16',\n",
       " '2000-12-16',\n",
       " '2000-12-17',\n",
       " '2000-12-18',\n",
       " '2000-12-30',\n",
       " '2001-01-03',\n",
       " '2001-01-16',\n",
       " '2001-01-18',\n",
       " '2001-01-18',\n",
       " '2001-01-19',\n",
       " '2001-01-19',\n",
       " '2001-01-21',\n",
       " '2001-01-30',\n",
       " '2001-01-31',\n",
       " '2001-02-01',\n",
       " '2001-02-01',\n",
       " '2001-02-04',\n",
       " '2001-02-05',\n",
       " '2001-02-06',\n",
       " '2001-02-07',\n",
       " '2001-02-08',\n",
       " '2001-02-11',\n",
       " '2001-02-11',\n",
       " '2001-02-11',\n",
       " '2001-02-12',\n",
       " '2001-02-15',\n",
       " '2001-02-18',\n",
       " '2001-02-22',\n",
       " '2001-02-22',\n",
       " '2001-02-24',\n",
       " '2001-02-25',\n",
       " '2001-02-26',\n",
       " '2001-02-27',\n",
       " '2001-03-03',\n",
       " '2001-03-04',\n",
       " '2001-03-07',\n",
       " '2001-03-08',\n",
       " '2001-03-17',\n",
       " '2001-03-17',\n",
       " '2001-03-18',\n",
       " '2001-03-20',\n",
       " '2001-03-23',\n",
       " '2001-03-23',\n",
       " '2001-03-29',\n",
       " '2001-03-30',\n",
       " '2001-03-31',\n",
       " '2001-04-01',\n",
       " '2001-04-06',\n",
       " '2001-04-10',\n",
       " '2001-04-16',\n",
       " '2001-04-17',\n",
       " '2001-04-17',\n",
       " '2001-04-17',\n",
       " '2001-04-23',\n",
       " '2001-04-26',\n",
       " '2001-04-27',\n",
       " '2001-04-28',\n",
       " '2001-04-29',\n",
       " '2001-04-30',\n",
       " '2001-05-02',\n",
       " '2001-05-07',\n",
       " '2001-05-07',\n",
       " '2001-05-08',\n",
       " '2001-05-20',\n",
       " '2001-05-20',\n",
       " '2001-05-22',\n",
       " '2001-05-28',\n",
       " '2001-05-28',\n",
       " '2001-06-06',\n",
       " '2001-06-06',\n",
       " '2001-06-14',\n",
       " '2001-06-15',\n",
       " '2001-06-19',\n",
       " '2001-06-24',\n",
       " '2001-06-27',\n",
       " '2001-07-06',\n",
       " '2001-07-12',\n",
       " '2001-07-20',\n",
       " '2001-07-21',\n",
       " '2001-07-24',\n",
       " '2001-07-24',\n",
       " '2001-07-30',\n",
       " '2001-07-30',\n",
       " '2001-07-30',\n",
       " '2001-08-08',\n",
       " '2001-08-13',\n",
       " '2001-08-14',\n",
       " '2001-08-17',\n",
       " '2001-08-20',\n",
       " '2001-08-23',\n",
       " '2001-08-25',\n",
       " '2001-08-27',\n",
       " '2001-09-06',\n",
       " '2001-09-07',\n",
       " '2001-09-08',\n",
       " '2001-09-12',\n",
       " '2001-09-20',\n",
       " '2001-09-21',\n",
       " '2001-09-21',\n",
       " '2001-09-21',\n",
       " '2001-09-23',\n",
       " '2001-09-25',\n",
       " '2001-09-27',\n",
       " '2001-10-03',\n",
       " '2001-10-05',\n",
       " '2001-10-05',\n",
       " '2001-10-08',\n",
       " '2001-10-08',\n",
       " '2001-10-11',\n",
       " '2001-10-12',\n",
       " '2001-10-18',\n",
       " '2001-10-25',\n",
       " '2001-10-27',\n",
       " '2001-10-30',\n",
       " '2001-10-31',\n",
       " '2001-10-31',\n",
       " '2001-11-03',\n",
       " '2001-11-05',\n",
       " '2001-11-06',\n",
       " '2001-11-09',\n",
       " '2001-11-12',\n",
       " '2001-11-12',\n",
       " '2001-11-19',\n",
       " '2001-11-20',\n",
       " '2001-12-02',\n",
       " '2001-12-03',\n",
       " '2001-12-06',\n",
       " '2001-12-18',\n",
       " '2001-12-21',\n",
       " '2002-01-16',\n",
       " '2002-02-01',\n",
       " '2002-02-03',\n",
       " '2002-02-08',\n",
       " '2002-02-09',\n",
       " '2002-02-12',\n",
       " '2002-02-20',\n",
       " '2002-03-10',\n",
       " '2002-03-11',\n",
       " '2002-03-17',\n",
       " '2002-03-18',\n",
       " '2002-03-27',\n",
       " '2002-03-29',\n",
       " '2002-03-31',\n",
       " '2002-04-18',\n",
       " '2002-05-08',\n",
       " '2002-05-08',\n",
       " '2002-05-14',\n",
       " '2002-05-16',\n",
       " '2002-05-22',\n",
       " '2002-05-24',\n",
       " '2002-05-29',\n",
       " '2002-06-06',\n",
       " '2002-06-07',\n",
       " '2002-06-07',\n",
       " '2002-06-18',\n",
       " '2002-06-20',\n",
       " '2002-06-25',\n",
       " '2002-06-29',\n",
       " '2002-06-29',\n",
       " '2002-07-01',\n",
       " '2002-07-03',\n",
       " '2002-07-22',\n",
       " '2002-07-25',\n",
       " '2002-07-29',\n",
       " '2002-08-01',\n",
       " '2002-08-06',\n",
       " '2002-08-13',\n",
       " '2002-08-19',\n",
       " '2002-08-20',\n",
       " '2002-09-02',\n",
       " '2002-09-03',\n",
       " '2002-09-05',\n",
       " '2002-09-07',\n",
       " '2002-09-09',\n",
       " '2002-09-14',\n",
       " '2002-09-24',\n",
       " '2002-09-26',\n",
       " '2002-09-30',\n",
       " '2002-10-04',\n",
       " '2002-10-08',\n",
       " '2002-10-12',\n",
       " '2002-10-12',\n",
       " '2002-10-19',\n",
       " '2002-10-29',\n",
       " '2002-11-04',\n",
       " '2002-11-10',\n",
       " '2002-11-17',\n",
       " '2002-11-18',\n",
       " '2002-12-02',\n",
       " '2002-12-02',\n",
       " '2002-12-07',\n",
       " '2002-12-16',\n",
       " '2003-01-06',\n",
       " '2003-01-12',\n",
       " '2003-01-18',\n",
       " '2003-01-20',\n",
       " '2003-01-22',\n",
       " '2003-01-23',\n",
       " '2003-01-27',\n",
       " '2003-01-27',\n",
       " '2003-02-10',\n",
       " '2003-02-10',\n",
       " '2003-02-11',\n",
       " '2003-02-13',\n",
       " '2003-02-16',\n",
       " '2003-02-17',\n",
       " '2003-03-02',\n",
       " '2003-03-03',\n",
       " '2003-03-20',\n",
       " '2003-03-27',\n",
       " '2003-03-28',\n",
       " '2003-04-02',\n",
       " '2003-04-21',\n",
       " '2003-04-21',\n",
       " '2003-04-22',\n",
       " '2003-04-28',\n",
       " '2003-05-01',\n",
       " '2003-05-03',\n",
       " '2003-05-03',\n",
       " '2003-05-07',\n",
       " '2003-05-19',\n",
       " '2003-05-19',\n",
       " '2003-05-21',\n",
       " '2003-05-25',\n",
       " '2003-06-01',\n",
       " '2003-06-02',\n",
       " '2003-06-06',\n",
       " '2003-06-07',\n",
       " '2003-06-09',\n",
       " '2003-06-10',\n",
       " '2003-06-13',\n",
       " '2003-06-19',\n",
       " '2003-06-22',\n",
       " '2003-06-30',\n",
       " '2003-07-15',\n",
       " '2003-07-16',\n",
       " '2003-07-19',\n",
       " '2003-07-19',\n",
       " '2003-07-21',\n",
       " '2003-07-24',\n",
       " '2003-07-25',\n",
       " '2003-07-28',\n",
       " '2003-08-03',\n",
       " '2003-08-03',\n",
       " '2003-08-05',\n",
       " '2003-08-06',\n",
       " '2003-08-14',\n",
       " '2003-08-16',\n",
       " '2003-08-17',\n",
       " '2003-08-22',\n",
       " '2003-09-01',\n",
       " '2003-09-02',\n",
       " '2003-09-07',\n",
       " '2003-09-08',\n",
       " '2003-09-10',\n",
       " '2003-09-11',\n",
       " '2003-09-11',\n",
       " '2003-09-12',\n",
       " '2003-09-14',\n",
       " '2003-09-20',\n",
       " '2003-09-24',\n",
       " '2003-09-24',\n",
       " '2003-09-24',\n",
       " '2003-10-01',\n",
       " '2003-10-02',\n",
       " '2003-10-02',\n",
       " '2003-10-03',\n",
       " '2003-10-05',\n",
       " '2003-10-15',\n",
       " '2003-10-18',\n",
       " '2003-11-06',\n",
       " '2003-11-18',\n",
       " '2003-11-28',\n",
       " '2003-12-03',\n",
       " '2003-12-15',\n",
       " '2003-12-23',\n",
       " '2003-12-24',\n",
       " '2003-12-31',\n",
       " '2004-01-03',\n",
       " '2004-01-12',\n",
       " '2004-01-12',\n",
       " '2004-01-15',\n",
       " '2004-01-16',\n",
       " '2004-01-22',\n",
       " '2004-01-22',\n",
       " '2004-02-02',\n",
       " '2004-02-05',\n",
       " '2004-02-16',\n",
       " '2004-02-18',\n",
       " '2004-02-29',\n",
       " '2004-03-01',\n",
       " '2004-03-09',\n",
       " '2004-03-23',\n",
       " '2004-03-24',\n",
       " '2004-04-05',\n",
       " '2004-04-08',\n",
       " '2004-04-11',\n",
       " '2004-04-23',\n",
       " '2004-04-27',\n",
       " '2004-04-27',\n",
       " '2004-05-11',\n",
       " '2004-05-14',\n",
       " '2004-05-17',\n",
       " '2004-05-18',\n",
       " '2004-05-26',\n",
       " '2004-05-26',\n",
       " '2004-05-30',\n",
       " '2004-06-10',\n",
       " '2004-06-11',\n",
       " '2004-06-13',\n",
       " '2004-06-14',\n",
       " '2004-06-17',\n",
       " '2004-06-21',\n",
       " '2004-06-28',\n",
       " '2004-06-29',\n",
       " '2004-06-30',\n",
       " '2004-07-21',\n",
       " '2004-07-24',\n",
       " '2004-07-28',\n",
       " '2004-07-28',\n",
       " '2004-07-30',\n",
       " '2004-08-06',\n",
       " '2004-08-10',\n",
       " '2004-08-24',\n",
       " '2004-09-01',\n",
       " '2004-09-07',\n",
       " '2004-09-12',\n",
       " '2004-09-13',\n",
       " '2004-09-15',\n",
       " '2004-09-16',\n",
       " '2004-09-26',\n",
       " '2004-09-29',\n",
       " '2004-10-01',\n",
       " '2004-10-14',\n",
       " '2004-10-19',\n",
       " '2004-10-25',\n",
       " '2004-11-01',\n",
       " '2004-11-08',\n",
       " '2004-11-14',\n",
       " '2004-11-15',\n",
       " '2004-11-23',\n",
       " '2004-12-02',\n",
       " '2004-12-03',\n",
       " '2004-12-10',\n",
       " '2004-12-13',\n",
       " '2004-12-28',\n",
       " '2004-12-30',\n",
       " '2005-01-03',\n",
       " '2005-01-05',\n",
       " '2005-01-11',\n",
       " '2005-01-13',\n",
       " '2005-01-13',\n",
       " '2005-01-18',\n",
       " '2005-01-23',\n",
       " '2005-02-15',\n",
       " '2005-02-17',\n",
       " '2005-02-19',\n",
       " '2005-02-23',\n",
       " '2005-02-24',\n",
       " '2005-03-07',\n",
       " '2005-03-13',\n",
       " '2005-03-15',\n",
       " '2005-03-16',\n",
       " '2005-03-26',\n",
       " '2005-03-27',\n",
       " '2005-04-15',\n",
       " '2005-04-15',\n",
       " '2005-04-18',\n",
       " '2005-04-20',\n",
       " '2005-04-20',\n",
       " '2005-04-21',\n",
       " '2005-05-03',\n",
       " '2005-05-05',\n",
       " '2005-05-06',\n",
       " '2005-05-13',\n",
       " '2005-05-24',\n",
       " '2005-05-25',\n",
       " '2005-06-08',\n",
       " '2005-06-13',\n",
       " '2005-06-16',\n",
       " '2005-06-19',\n",
       " '2005-06-20',\n",
       " '2005-06-21',\n",
       " '2005-06-28',\n",
       " '2005-07-18',\n",
       " '2005-07-19',\n",
       " '2005-07-21',\n",
       " '2005-07-25',\n",
       " '2005-07-27',\n",
       " '2005-08-08',\n",
       " '2005-08-10',\n",
       " '2005-08-17',\n",
       " '2005-08-30',\n",
       " '2005-09-01',\n",
       " '2005-09-06',\n",
       " '2005-09-08',\n",
       " '2005-09-09',\n",
       " '2005-09-11',\n",
       " '2005-09-20',\n",
       " '2005-09-24',\n",
       " '2005-09-24',\n",
       " '2005-09-26',\n",
       " '2005-10-07',\n",
       " '2005-10-13',\n",
       " '2005-10-28',\n",
       " '2005-10-30',\n",
       " '2005-11-14',\n",
       " '2005-11-16',\n",
       " '2005-11-20',\n",
       " '2005-12-06',\n",
       " '2005-12-14',\n",
       " '2005-12-18',\n",
       " '2006-01-01',\n",
       " '2006-01-07',\n",
       " '2006-01-08',\n",
       " '2006-01-11',\n",
       " '2006-01-21',\n",
       " '2006-01-29',\n",
       " '2006-02-01',\n",
       " '2006-02-26',\n",
       " '2006-03-01',\n",
       " '2006-03-07',\n",
       " '2006-03-17',\n",
       " '2006-03-17',\n",
       " '2006-03-25',\n",
       " '2006-03-25',\n",
       " '2006-03-30',\n",
       " '2006-04-03',\n",
       " '2006-04-08',\n",
       " '2006-04-09',\n",
       " '2006-04-12',\n",
       " '2006-04-19',\n",
       " '2006-04-23',\n",
       " '2006-04-25',\n",
       " '2006-04-26',\n",
       " '2006-04-30',\n",
       " '2006-05-03',\n",
       " '2006-05-05',\n",
       " '2006-05-24',\n",
       " '2006-05-30',\n",
       " '2006-06-01',\n",
       " '2006-06-04',\n",
       " '2006-06-09',\n",
       " '2006-06-18',\n",
       " '2006-06-26',\n",
       " '2006-06-27',\n",
       " '2006-07-01',\n",
       " '2006-07-02',\n",
       " '2006-07-03',\n",
       " '2006-07-10',\n",
       " '2006-07-24',\n",
       " '2006-07-31',\n",
       " '2006-08-08',\n",
       " '2006-08-09',\n",
       " '2006-08-15',\n",
       " '2006-08-22',\n",
       " '2006-08-23',\n",
       " '2006-09-10',\n",
       " '2006-09-19',\n",
       " '2006-09-21',\n",
       " '2006-09-25',\n",
       " '2006-10-02',\n",
       " '2006-10-05',\n",
       " '2006-10-07',\n",
       " '2006-10-09',\n",
       " '2006-10-10',\n",
       " '2006-11-09',\n",
       " '2006-11-12',\n",
       " '2006-11-23',\n",
       " '2006-11-29',\n",
       " '2006-12-01',\n",
       " '2006-12-01',\n",
       " '2006-12-02',\n",
       " '2006-12-03',\n",
       " '2006-12-13',\n",
       " '2006-12-22',\n",
       " '2006-12-23',\n",
       " '2006-12-28',\n",
       " '2007-01-02',\n",
       " '2007-01-03',\n",
       " '2007-01-14',\n",
       " '2007-01-17',\n",
       " '2007-01-18',\n",
       " '2007-01-22',\n",
       " '2007-01-23',\n",
       " '2007-01-25',\n",
       " '2007-02-01',\n",
       " '2007-02-04',\n",
       " '2007-02-05',\n",
       " '2007-02-07',\n",
       " '2007-02-08',\n",
       " '2007-02-12',\n",
       " '2007-02-13',\n",
       " '2007-02-17',\n",
       " '2007-02-23',\n",
       " '2007-02-28',\n",
       " '2007-03-05',\n",
       " '2007-03-06',\n",
       " '2007-03-09',\n",
       " '2007-03-12',\n",
       " '2007-03-12',\n",
       " '2007-03-13',\n",
       " '2007-03-16',\n",
       " '2007-03-17',\n",
       " '2007-03-19',\n",
       " '2007-03-20',\n",
       " '2007-04-03',\n",
       " '2007-04-06',\n",
       " '2007-04-08',\n",
       " '2007-04-15',\n",
       " '2007-04-17',\n",
       " '2007-04-20',\n",
       " '2007-04-22',\n",
       " '2007-04-24',\n",
       " '2007-04-28',\n",
       " '2007-04-29',\n",
       " '2007-05-02',\n",
       " '2007-05-02',\n",
       " '2007-05-03',\n",
       " '2007-05-08',\n",
       " '2007-05-11',\n",
       " '2007-05-30',\n",
       " '2007-05-31',\n",
       " '2007-06-01',\n",
       " '2007-06-12',\n",
       " '2007-06-12',\n",
       " '2007-06-25',\n",
       " '2007-06-29',\n",
       " '2007-07-01',\n",
       " '2007-07-05',\n",
       " '2007-07-05',\n",
       " '2007-07-20',\n",
       " '2007-07-26',\n",
       " '2007-07-31',\n",
       " '2007-08-01',\n",
       " '2007-08-08',\n",
       " '2007-08-12',\n",
       " '2007-08-16',\n",
       " '2007-08-20',\n",
       " '2007-08-21',\n",
       " '2007-08-28',\n",
       " '2007-09-06',\n",
       " '2007-09-06',\n",
       " '2007-09-10',\n",
       " '2007-09-16',\n",
       " '2007-09-21',\n",
       " '2007-09-26',\n",
       " '2007-09-26',\n",
       " '2007-10-09',\n",
       " '2007-10-10',\n",
       " '2007-10-20',\n",
       " '2007-10-27',\n",
       " '2007-10-29',\n",
       " '2007-10-30',\n",
       " '2007-11-01',\n",
       " '2007-11-01',\n",
       " '2007-11-06',\n",
       " '2007-11-06',\n",
       " '2007-11-14',\n",
       " '2007-11-25',\n",
       " '2007-11-30',\n",
       " '2007-12-04',\n",
       " '2007-12-06',\n",
       " '2007-12-19',\n",
       " '2007-12-29',\n",
       " '2008-01-16',\n",
       " '2008-01-17',\n",
       " '2008-01-28',\n",
       " '2008-01-31',\n",
       " '2008-01-31',\n",
       " '2008-02-01',\n",
       " '2008-02-03',\n",
       " '2008-02-03',\n",
       " '2008-02-04',\n",
       " '2008-02-15',\n",
       " '2008-02-19',\n",
       " '2008-03-11',\n",
       " '2008-03-25',\n",
       " '2008-04-14',\n",
       " '2008-04-17',\n",
       " '2008-04-24',\n",
       " '2008-05-04',\n",
       " '2008-05-08',\n",
       " '2008-05-11',\n",
       " '2008-05-12',\n",
       " '2008-05-20',\n",
       " '2008-05-21',\n",
       " '2008-05-21',\n",
       " '2008-05-28',\n",
       " '2008-05-29',\n",
       " '2008-05-30',\n",
       " '2008-06-04',\n",
       " '2008-06-16',\n",
       " '2008-06-17',\n",
       " '2008-06-19',\n",
       " '2008-06-20',\n",
       " '2008-06-23',\n",
       " '2008-07-01',\n",
       " '2008-07-02',\n",
       " '2008-07-03',\n",
       " '2008-07-09',\n",
       " '2008-07-14',\n",
       " '2008-07-14',\n",
       " '2008-07-14',\n",
       " '2008-07-31',\n",
       " '2008-08-04',\n",
       " '2008-08-05',\n",
       " '2008-08-06',\n",
       " '2008-08-18',\n",
       " '2008-08-20',\n",
       " '2008-08-26',\n",
       " '2008-08-26',\n",
       " '2008-09-01',\n",
       " '2008-09-03',\n",
       " '2008-09-05',\n",
       " '2008-09-10',\n",
       " '2008-09-12',\n",
       " '2008-09-17',\n",
       " '2008-09-25',\n",
       " '2008-09-28',\n",
       " '2008-10-05',\n",
       " '2008-10-06',\n",
       " '2008-10-08',\n",
       " '2008-10-16',\n",
       " '2008-10-18',\n",
       " '2008-10-23',\n",
       " '2008-10-27',\n",
       " '2008-10-28',\n",
       " '2008-10-28',\n",
       " '2008-10-28',\n",
       " '2008-10-29',\n",
       " '2008-10-30',\n",
       " '2008-10-30',\n",
       " '2008-11-05',\n",
       " '2008-11-06',\n",
       " '2008-11-24',\n",
       " '2008-11-27',\n",
       " '2008-12-01',\n",
       " '2008-12-11',\n",
       " '2008-12-12',\n",
       " '2008-12-15',\n",
       " '2008-12-16',\n",
       " '2008-12-27',\n",
       " '2008-12-29',\n",
       " '2008-12-31',\n",
       " '2009-01-02',\n",
       " '2009-01-12',\n",
       " '2009-01-17',\n",
       " '2009-01-17',\n",
       " '2009-01-18',\n",
       " '2009-01-19',\n",
       " '2009-02-11',\n",
       " '2009-02-16',\n",
       " '2009-02-27',\n",
       " '2009-03-05',\n",
       " '2009-03-11',\n",
       " '2009-03-15',\n",
       " '2009-03-17',\n",
       " '2009-03-18',\n",
       " '2009-03-21',\n",
       " '2009-04-04',\n",
       " '2009-04-08',\n",
       " '2009-04-09',\n",
       " '2009-04-15',\n",
       " '2009-04-22',\n",
       " '2009-04-30',\n",
       " '2009-05-03',\n",
       " '2009-05-04',\n",
       " '2009-05-08',\n",
       " '2009-05-19',\n",
       " '2009-05-28',\n",
       " '2009-06-02',\n",
       " '2009-06-03',\n",
       " '2009-06-08',\n",
       " '2009-06-09',\n",
       " '2009-06-13',\n",
       " '2009-06-13',\n",
       " '2009-06-22',\n",
       " '2009-07-01',\n",
       " '2009-07-07',\n",
       " '2009-07-09',\n",
       " '2009-07-16',\n",
       " '2009-07-17',\n",
       " '2009-07-24',\n",
       " '2009-07-28',\n",
       " '2009-08-06',\n",
       " '2009-08-07',\n",
       " '2009-08-08',\n",
       " '2009-08-11',\n",
       " '2009-08-13',\n",
       " '2009-08-16',\n",
       " '2009-08-18',\n",
       " '2009-08-19',\n",
       " '2009-08-29',\n",
       " '2009-09-02',\n",
       " '2009-09-16',\n",
       " '2009-09-18',\n",
       " '2009-09-18',\n",
       " '2009-09-20',\n",
       " '2009-09-24',\n",
       " '2009-09-26',\n",
       " '2009-09-26',\n",
       " '2009-09-27',\n",
       " '2009-10-02',\n",
       " '2009-10-18',\n",
       " '2009-10-20',\n",
       " '2009-10-27',\n",
       " '2009-11-02',\n",
       " '2009-11-03',\n",
       " '2009-11-16',\n",
       " '2009-11-17',\n",
       " '2009-11-17',\n",
       " '2009-11-17',\n",
       " '2009-11-20',\n",
       " '2009-11-22',\n",
       " '2009-12-04',\n",
       " '2009-12-07',\n",
       " '2009-12-10',\n",
       " '2009-12-10',\n",
       " '2009-12-10',\n",
       " '2009-12-14',\n",
       " '2009-12-31',\n",
       " '2010-01-04',\n",
       " '2010-01-13',\n",
       " '2010-01-24',\n",
       " '2010-01-25',\n",
       " '2010-01-29',\n",
       " '2010-01-31',\n",
       " '2010-02-11',\n",
       " '2010-02-15',\n",
       " ...]"
      ]
     },
     "execution_count": 7,
     "metadata": {},
     "output_type": "execute_result"
    }
   ],
   "source": [
    "articles_times"
   ]
  },
  {
   "cell_type": "code",
   "execution_count": 9,
   "metadata": {
    "ExecuteTime": {
     "end_time": "2021-11-11T07:19:30.278073Z",
     "start_time": "2021-11-11T07:19:30.271890Z"
    }
   },
   "outputs": [
    {
     "data": {
      "text/plain": [
       "(True, True)"
      ]
     },
     "execution_count": 9,
     "metadata": {},
     "output_type": "execute_result"
    }
   ],
   "source": [
    "'2004-08-19 16:59:00' < '2005-08-12', '2004-08-19 16:59:00' > '1995-09-25'"
   ]
  },
  {
   "cell_type": "code",
   "execution_count": 10,
   "metadata": {
    "ExecuteTime": {
     "end_time": "2021-11-11T07:19:36.014407Z",
     "start_time": "2021-11-11T07:19:36.009120Z"
    }
   },
   "outputs": [],
   "source": [
    "def find_the_nearest_article_idx(post_time):\n",
    "    assert len(articles_times) == len(raw_articles)\n",
    "    times = articles_times.copy()\n",
    "    times.append(post_time)\n",
    "    times.sort()\n",
    "    return times.index(post_time) - 1"
   ]
  },
  {
   "cell_type": "code",
   "execution_count": 16,
   "metadata": {
    "ExecuteTime": {
     "end_time": "2021-11-11T07:20:19.989700Z",
     "start_time": "2021-11-11T07:20:19.979113Z"
    }
   },
   "outputs": [
    {
     "name": "stdout",
     "output_type": "stream",
     "text": [
      "@_celia_marie_ Hey Bernsters, remember when Bernie used this picture in his campaign ads? The ad claimed this was Bernie speaking before a civil rights protest.  He lied.  This is not him.  \n",
      " real 2016-03-03 00:00:00\n",
      "\n",
      "2016-03-03\n",
      "\n",
      "['2016-03-03', '2016-03-03', '2016-03-03', '2016-03-03', '2016-03-03', '2016-03-03', '2016-03-04', '2016-03-04', '2016-03-04', '2016-03-04']\n"
     ]
    }
   ],
   "source": [
    "p = random.sample(random.sample(datasets, 1)[0], 1)[0]\n",
    "print(p['content'], '\\n', p['label'], p['time'])\n",
    "print()\n",
    "\n",
    "idx = find_the_nearest_article_idx(p['time'])\n",
    "\n",
    "print(articles_times[idx])\n",
    "print()\n",
    "print(articles_times[idx-5:idx+5])"
   ]
  },
  {
   "cell_type": "markdown",
   "metadata": {},
   "source": [
    "## Export"
   ]
  },
  {
   "cell_type": "markdown",
   "metadata": {},
   "source": [
    "### Example"
   ]
  },
  {
   "cell_type": "code",
   "execution_count": 17,
   "metadata": {
    "ExecuteTime": {
     "end_time": "2021-11-11T07:20:30.775995Z",
     "start_time": "2021-11-11T07:20:30.659891Z"
    }
   },
   "outputs": [
    {
     "data": {
      "text/plain": [
       "(4256, 8084)"
      ]
     },
     "execution_count": 17,
     "metadata": {},
     "output_type": "execute_result"
    }
   ],
   "source": [
    "bm25_rank = np.load('./data/English/bm25_train.npy')\n",
    "bm25_rank.shape"
   ]
  },
  {
   "cell_type": "code",
   "execution_count": 18,
   "metadata": {
    "ExecuteTime": {
     "end_time": "2021-11-11T07:20:31.697997Z",
     "start_time": "2021-11-11T07:20:31.690302Z"
    }
   },
   "outputs": [
    {
     "data": {
      "text/plain": [
       "array([[474.5582239 , 478.1189799 , 473.801308  , ..., 476.66091513,\n",
       "        455.84552223, 477.47512737],\n",
       "       [734.29321683, 733.0861948 , 722.22300744, ..., 735.1982627 ,\n",
       "        710.01138916, 731.75556847],\n",
       "       [491.92099882, 486.22457925, 480.67503881, ..., 489.57863723,\n",
       "        465.94916825, 491.06344999],\n",
       "       ...,\n",
       "       [420.94519845, 415.27990024, 404.62425888, ..., 421.38729295,\n",
       "        400.98557363, 419.1878937 ],\n",
       "       [503.38146788, 503.1384529 , 495.81510119, ..., 500.31376117,\n",
       "        480.06735291, 499.23994121],\n",
       "       [430.3317642 , 426.94202539, 425.91989209, ..., 434.47412537,\n",
       "        411.19915461, 430.74802991]])"
      ]
     },
     "execution_count": 18,
     "metadata": {},
     "output_type": "execute_result"
    }
   ],
   "source": [
    "bm25_rank"
   ]
  },
  {
   "cell_type": "code",
   "execution_count": 19,
   "metadata": {
    "ExecuteTime": {
     "end_time": "2021-11-11T07:20:40.115486Z",
     "start_time": "2021-11-11T07:20:37.831995Z"
    }
   },
   "outputs": [],
   "source": [
    "ranked_arr = (-bm25_rank).argsort()"
   ]
  },
  {
   "cell_type": "code",
   "execution_count": 20,
   "metadata": {
    "ExecuteTime": {
     "end_time": "2021-11-11T07:20:41.434420Z",
     "start_time": "2021-11-11T07:20:41.428928Z"
    }
   },
   "outputs": [
    {
     "data": {
      "text/plain": [
       "array([[3399, 1210,  734, ..., 2516, 4978, 1033],\n",
       "       [6074,  425, 6412, ..., 2516, 1033, 4978],\n",
       "       [6707, 6635, 6303, ..., 1033, 1254, 4978],\n",
       "       ...,\n",
       "       [2225, 3577, 3435, ..., 1033, 5260, 4978],\n",
       "       [1175, 3659, 2799, ..., 2516, 1033, 4978],\n",
       "       [3610, 5397,  798, ..., 1033, 1254, 4978]])"
      ]
     },
     "execution_count": 20,
     "metadata": {},
     "output_type": "execute_result"
    }
   ],
   "source": [
    "ranked_arr"
   ]
  },
  {
   "cell_type": "code",
   "execution_count": 21,
   "metadata": {
    "ExecuteTime": {
     "end_time": "2021-11-11T07:20:55.479380Z",
     "start_time": "2021-11-11T07:20:55.471148Z"
    }
   },
   "outputs": [
    {
     "data": {
      "text/plain": [
       "(501.686076282779, 500.8389143295417, 431.7864262599631, 416.0683699264424)"
      ]
     },
     "execution_count": 21,
     "metadata": {},
     "output_type": "execute_result"
    }
   ],
   "source": [
    "bm25_rank[0][3399],bm25_rank[0][1210],bm25_rank[0][4978],bm25_rank[0][1033],"
   ]
  },
  {
   "cell_type": "code",
   "execution_count": 22,
   "metadata": {
    "ExecuteTime": {
     "end_time": "2021-11-11T07:21:00.473747Z",
     "start_time": "2021-11-11T07:21:00.467434Z"
    }
   },
   "outputs": [
    {
     "data": {
      "text/plain": [
       "{'content': 'On Monday, Paul George was back shooting hoops in the gym. \\n\\nYesterday, practice became a 1-on-1 game vs. his dog: ',\n",
       " 'time': '2014-10-22 15:10:15',\n",
       " 'label': 'real',\n",
       " 'source': 'twitter'}"
      ]
     },
     "execution_count": 22,
     "metadata": {},
     "output_type": "execute_result"
    }
   ],
   "source": [
    "datasets[0][0]"
   ]
  },
  {
   "cell_type": "code",
   "execution_count": 23,
   "metadata": {
    "ExecuteTime": {
     "end_time": "2021-11-11T07:21:09.359468Z",
     "start_time": "2021-11-11T07:21:09.355895Z"
    }
   },
   "outputs": [
    {
     "data": {
      "text/plain": [
       "{'date': '2016-09-22',\n",
       " 'url': 'https://www.snopes.com/fact-check/donald-trump-born-in-the-philippines/',\n",
       " 'title': 'Was Donald Trump Born in the Philippines?',\n",
       " 'subtitle': 'A satirical poem by Garrison Keillor mocking conspiracy theories led some readers to believe that Donald Trump was born in the Philippines.',\n",
       " 'claim': 'Donald Trump was born in the Philippines, and not Queens, New York, as he claims.',\n",
       " 'content': 'On 21 September 2016, the Washington Post  published a satirical poem by humorist Garrison Keillor that included a line stating Republican presidential nominee Donald Trump was born in the city of Manila in the Phillippines, and not in Queens, New York: Donald Trump was not born in Queens,\\nHe was born in the Philippines,\\nIn a hotel in downtown Manila.\\nWhere his hair turned bright vanilla The poem was not preceded or followed by any disclaimers labeling it as satire, leaving some readers fooled into thinking that Keillor was making a bold declaration about Trump’s non-American birthplace.\\xa0However, the opening stanza made it clear that the focus of the poem was to mock Trump’s spreading of various conspiracy theories during the 2016 campaign: I know, it seems outrageous,\\nBut it’s getting a lot of attention\\nOn some very respectable Web pages —\\nWhich mainstream media won’t mention: Donald Trump was in fact born in Queens, New York. His birth certificate states that he was born at Jamaica Hospital on 14 June 1946:'}"
      ]
     },
     "execution_count": 23,
     "metadata": {},
     "output_type": "execute_result"
    }
   ],
   "source": [
    "raw_articles[3399]"
   ]
  },
  {
   "cell_type": "code",
   "execution_count": 24,
   "metadata": {
    "ExecuteTime": {
     "end_time": "2021-11-11T07:21:39.526719Z",
     "start_time": "2021-11-11T07:21:39.519183Z"
    }
   },
   "outputs": [
    {
     "data": {
      "text/plain": [
       "1449"
      ]
     },
     "execution_count": 24,
     "metadata": {},
     "output_type": "execute_result"
    }
   ],
   "source": [
    "idx = find_the_nearest_article_idx(datasets[0][0]['time'])\n",
    "idx"
   ]
  },
  {
   "cell_type": "code",
   "execution_count": 25,
   "metadata": {
    "ExecuteTime": {
     "end_time": "2021-11-11T07:21:44.084639Z",
     "start_time": "2021-11-11T07:21:44.078502Z"
    }
   },
   "outputs": [
    {
     "data": {
      "text/plain": [
       "array([3399, 1210,  734, ..., 2516, 4978, 1033])"
      ]
     },
     "execution_count": 25,
     "metadata": {},
     "output_type": "execute_result"
    }
   ],
   "source": [
    "ranked_arr[0]"
   ]
  },
  {
   "cell_type": "code",
   "execution_count": 26,
   "metadata": {
    "ExecuteTime": {
     "end_time": "2021-11-11T07:21:45.350188Z",
     "start_time": "2021-11-11T07:21:45.342060Z"
    }
   },
   "outputs": [
    {
     "data": {
      "text/plain": [
       "[1210, 734, 506, 1323, 546, 365, 309, 579, 798, 1003]"
      ]
     },
     "execution_count": 26,
     "metadata": {},
     "output_type": "execute_result"
    }
   ],
   "source": [
    "valid_idxs = np.where(ranked_arr[0] <= idx, ranked_arr[0], -1)\n",
    "valid_idxs = [i for i in valid_idxs.tolist() if i != -1]\n",
    "valid_idxs[:10]"
   ]
  },
  {
   "cell_type": "code",
   "execution_count": 27,
   "metadata": {
    "ExecuteTime": {
     "end_time": "2021-11-11T07:21:50.226147Z",
     "start_time": "2021-11-11T07:21:50.220802Z"
    }
   },
   "outputs": [
    {
     "data": {
      "text/plain": [
       "{'date': '2012-12-23',\n",
       " 'url': 'https://www.snopes.com/fact-check/track-meet/',\n",
       " 'title': 'Why NORAD Tracks Santa',\n",
       " 'subtitle': \"The story of how NORAD came to track Santa's progress every Christmas Eve.\",\n",
       " 'claim': \"NORAD annually tracks Santa's progress because a child trying to reach Santa via a newspaper advertisement called the wrong phone number.\",\n",
       " 'content': \"Ever since the mid-1950s, generations of children in North America (and, since the advent of the Internet, children from all over the world) have eagerly turned to an annual service provided by the U.S.-Canada North American Aerospace Defense Command ( NORAD ) to help them track the progress of Santa Claus every Christmas Eve as he departs the North Pole and traverses the globe in his reindeer-driven sleigh, delivering presents to good little boys and girls around the world. NORAD’s engaging well over a thousand people to provide a yearly Santa-tracking program seems to many like a rather whimsical venture for a staid defense-based agency to be engaging in.  And, in fact, NORAD didn’t set out to be in the business of providing real-time Santa updates every Christmas Eve: that service came about strictly by accident, the result of a misdialed number published in a local department store newspaper advertisement. Back in 1955, NORAD’s predecessor, the Continental Air Defense Command (CONAD) was based in Colorado Springs, Colorado.  At Christmastime of that year, a Sears department store advertisement placed in a Colorado Springs newspaper featured a picture of Santa urging children to “Call me on my private phone and I will talk to you personally any time day or night.”  Unfortunately, the phone number included in the ad was either misprinted or misdialed, and a child who called ended up not on the phone with St. Nick but rather with one Colonel Harry Shoup, the officer on duty that day at CONAD.  Rather than informing his juvenile caller they had reached a wrong number and  brusquely instructing them to get off the line, Col. Shoup opted to play along and asked his staff to accommodate the inquisitive youngster by providing them with updates on Santa’s Christmas Eve progress. The story of the accidental origins of NORAD’s Santa-tracking program has been told and re-told many times over the decades.  Here’s how Col. Shoup’s daughter related it back in 2009: One morning that December, U.S. Air Force Col. Harry Shoup, the director of operations at CONAD, the Continental Air Defense Command — NORAD’s predecessor — got a phone call at his Colorado Springs, Colo., office. This was no laughing matter. The call had come in on one of the top secret lines inside CONAD that only rang in the case of a crisis.\\nGrabbing the phone, Shoup must have expected the worst. Instead, a tiny voice asked, “Is this Santa Claus?”\\n“Dad’s pretty annoyed,” said Terri Van Keuren, Shoup’s daughter, recalling the legend of that day in 1955. “He barks into the phone,” demanding to know who’s calling.\\n“The little voice is now crying,” Van Keuren continued. “‘Is this one of Santa’s elves, then?'”\\nThe Santa questions were only beginning. That day, the local newspaper had run a Sears Roebuck ad with a big picture of St. Nick and text that urged, “Hey, \\nKiddies! Call me direct … Call me on my private phone and I will talk to you personally any time day or night.”\\nBut the phone number in the ad was off by a digit. Instead of connecting with Santa, callers were dialing in on the line that would ring if the Russians were attacking.\\nBefore long, the phone was ringing off the hook, and, softening up, Shoup grabbed a nearby airman and told him to answer the calls and, Van Keuren said, “‘just pretend you’re Santa.'”\\nIndeed, rather than having the newspaper pull the Sears ad, Shoup decided to offer the countless kids calling in something useful: information about Santa’s progress from the North Pole. To quote the official NORAD Santa site, “a tradition was born.”\\nFrom that point on, first CONAD and then, in 1958, when NORAD was formed, Shoup’s organization offered annual Santa tracking as a service to the global community. A phone number was publicized and anyone was invited to call up, especially on December 24, and find out where Santa was. Manning those phones over the years have been countless numbers of Army, Navy, Air Force and Marine Corps personnel and their families, and for many people, turning to NORAD to find out where Santa is became something to look forward to each year. Grabbing the phone, Shoup must have expected the worst. Instead, a tiny voice asked, “Is this Santa Claus?” “Dad’s pretty annoyed,” said Terri Van Keuren, Shoup’s daughter, recalling the legend of that day in 1955. “He barks into the phone,” demanding to know who’s calling. “The little voice is now crying,” Van Keuren continued. “‘Is this one of Santa’s elves, then?'” The Santa questions were only beginning. That day, the local newspaper had run a Sears Roebuck ad with a big picture of St. Nick and text that urged, “Hey, Kiddies! Call me direct … Call me on my private phone and I will talk to you personally any time day or night.” But the phone number in the ad was off by a digit. Instead of connecting with Santa, callers were dialing in on the line that would ring if the Russians were attacking. Before long, the phone was ringing off the hook, and, softening up, Shoup grabbed a nearby airman and told him to answer the calls and, Van Keuren said, “‘just pretend you’re Santa.'” Indeed, rather than having the newspaper pull the Sears ad, Shoup decided to offer the countless kids calling in something useful: information about Santa’s progress from the North Pole. To quote the official NORAD Santa site, “a tradition was born.” From that point on, first CONAD and then, in 1958, when NORAD was formed, Shoup’s organization offered annual Santa tracking as a service to the global community. A phone number was publicized and anyone was invited to call up, especially on December 24, and find out where Santa was. Manning those phones over the years have been countless numbers of Army, Navy, Air Force and Marine Corps personnel and their families, and for many people, turning to NORAD to find out where Santa is became something to look forward to each year.  A number of recent accounts have pointed out the inconsistencies that crept into Col. Shoup’s story over the years (i.e., was it a newspaper misprint or a randomly misdialed number the led a child to call; did NORAD receive misdirected calls from multiple children or a single child) and have intimated that the whole tale was a concocted work of fiction.  But the basic elements of Shoup’s story (if not the finer details) remained consistent across time, and no disproof or plausible alternate version of events has been offered to contradict them.\"}"
      ]
     },
     "execution_count": 27,
     "metadata": {},
     "output_type": "execute_result"
    }
   ],
   "source": [
    "raw_articles[1210]"
   ]
  },
  {
   "cell_type": "markdown",
   "metadata": {},
   "source": [
    "### Total"
   ]
  },
  {
   "cell_type": "code",
   "execution_count": 28,
   "metadata": {
    "ExecuteTime": {
     "end_time": "2021-11-11T07:22:33.766832Z",
     "start_time": "2021-11-11T07:22:24.885661Z"
    }
   },
   "outputs": [
    {
     "name": "stdout",
     "output_type": "stream",
     "text": [
      "Pieces:  4256\n",
      "train (4256, 8084)\n",
      "\n",
      "Sorting...\n"
     ]
    },
    {
     "name": "stderr",
     "output_type": "stream",
     "text": [
      "  4%|▍         | 173/4256 [00:00<00:02, 1705.02it/s]"
     ]
    },
    {
     "name": "stdout",
     "output_type": "stream",
     "text": [
      "Done. ranked_arr: (4256, 8084)\n",
      "\n"
     ]
    },
    {
     "name": "stderr",
     "output_type": "stream",
     "text": [
      "100%|██████████| 4256/4256 [00:02<00:00, 1631.07it/s]\n"
     ]
    },
    {
     "name": "stdout",
     "output_type": "stream",
     "text": [
      "Dataset: train, zero_num = 0\n",
      "===============\n",
      "\n",
      "Pieces:  1420\n",
      "val (1420, 8084)\n",
      "\n",
      "Sorting...\n"
     ]
    },
    {
     "name": "stderr",
     "output_type": "stream",
     "text": [
      "  8%|▊         | 120/1420 [00:00<00:01, 1197.64it/s]"
     ]
    },
    {
     "name": "stdout",
     "output_type": "stream",
     "text": [
      "Done. ranked_arr: (1420, 8084)\n",
      "\n"
     ]
    },
    {
     "name": "stderr",
     "output_type": "stream",
     "text": [
      "100%|██████████| 1420/1420 [00:00<00:00, 1637.94it/s]\n"
     ]
    },
    {
     "name": "stdout",
     "output_type": "stream",
     "text": [
      "Dataset: val, zero_num = 0\n",
      "===============\n",
      "\n",
      "Pieces:  1420\n",
      "test (1420, 8084)\n",
      "\n",
      "Sorting...\n"
     ]
    },
    {
     "name": "stderr",
     "output_type": "stream",
     "text": [
      " 13%|█▎        | 178/1420 [00:00<00:00, 1774.38it/s]"
     ]
    },
    {
     "name": "stdout",
     "output_type": "stream",
     "text": [
      "Done. ranked_arr: (1420, 8084)\n",
      "\n"
     ]
    },
    {
     "name": "stderr",
     "output_type": "stream",
     "text": [
      "100%|██████████| 1420/1420 [00:00<00:00, 1698.89it/s]\n"
     ]
    },
    {
     "name": "stdout",
     "output_type": "stream",
     "text": [
      "Dataset: test, zero_num = 0\n",
      "===============\n",
      "\n"
     ]
    }
   ],
   "source": [
    "for t in ['train', 'val', 'test']:\n",
    "    with open('../../dataset/English/post/{}.json'.format(t), 'r') as f:\n",
    "        pieces = json.load(f)\n",
    "    print('Pieces: ', len(pieces))\n",
    "    \n",
    "    bm25_rank = np.load('./data/English/bm25_{}.npy'.format(t))\n",
    "    print(t, bm25_rank.shape)\n",
    "    \n",
    "    print('\\nSorting...')\n",
    "    ranked_arr = (-bm25_rank).argsort()\n",
    "    print('Done. ranked_arr: {}\\n'.format(ranked_arr.shape))\n",
    "    \n",
    "    ranked_articles = []\n",
    "    zero_num = 0\n",
    "    for i, p in enumerate(tqdm(pieces)):\n",
    "        idx = find_the_nearest_article_idx(p['time'])\n",
    "        \n",
    "        valid_idxs = np.where(ranked_arr[i] <= idx, ranked_arr[i], -1)\n",
    "        valid_idxs = [aid for aid in valid_idxs.tolist() if aid != -1]\n",
    "        if len(valid_idxs) == 0:\n",
    "            zero_num += 1\n",
    "        \n",
    "        ranked_articles.append(valid_idxs)\n",
    "        \n",
    "    with open('./data/English/ranked_articles_{}.pkl'.format(t), 'wb') as f:\n",
    "        pickle.dump(ranked_articles, f)\n",
    "        \n",
    "    print('Dataset: {}, zero_num = {}\\n{}\\n'.format(t, zero_num, '='*15))"
   ]
  },
  {
   "cell_type": "markdown",
   "metadata": {},
   "source": [
    "### Top10"
   ]
  },
  {
   "cell_type": "code",
   "execution_count": 1,
   "metadata": {
    "ExecuteTime": {
     "end_time": "2021-11-11T07:22:48.698065Z",
     "start_time": "2021-11-11T07:22:48.560188Z"
    }
   },
   "outputs": [],
   "source": [
    "import pickle\n",
    "import random\n",
    "import numpy as np\n",
    "from tqdm import tqdm"
   ]
  },
  {
   "cell_type": "code",
   "execution_count": 2,
   "metadata": {
    "ExecuteTime": {
     "end_time": "2021-11-11T07:23:33.093286Z",
     "start_time": "2021-11-11T07:23:32.135618Z"
    }
   },
   "outputs": [
    {
     "name": "stderr",
     "output_type": "stream",
     "text": [
      "100%|██████████| 4256/4256 [00:00<00:00, 361209.18it/s]"
     ]
    },
    {
     "name": "stdout",
     "output_type": "stream",
     "text": [
      "train: 4256\n"
     ]
    },
    {
     "name": "stderr",
     "output_type": "stream",
     "text": [
      "\n",
      "100%|██████████| 1420/1420 [00:00<00:00, 347081.10it/s]\n",
      "100%|██████████| 1420/1420 [00:00<00:00, 351754.76it/s]"
     ]
    },
    {
     "name": "stdout",
     "output_type": "stream",
     "text": [
      "val: 1420\n",
      "test: 1420\n"
     ]
    },
    {
     "name": "stderr",
     "output_type": "stream",
     "text": [
      "\n"
     ]
    }
   ],
   "source": [
    "TOP=10\n",
    "\n",
    "for t in ['train', 'val', 'test']:\n",
    "    with open('./data/English/ranked_articles_{}.pkl'.format(t), 'rb') as f:\n",
    "        ranked_articles = pickle.load(f)\n",
    "    print('{}: {}'.format(t, len(ranked_articles)))\n",
    "    \n",
    "    # <Padding> value = -1\n",
    "    top_arr = np.zeros((len(ranked_articles), TOP)) - 1\n",
    "    for i, ranks in enumerate(tqdm(ranked_articles)):\n",
    "        sz = min(TOP, len(ranks))\n",
    "        top_arr[i, :sz] = ranks[:sz]\n",
    "        \n",
    "    file = './data/English/Top{}_articles_{}.npy'.format(TOP, t)\n",
    "    np.save(file, top_arr)"
   ]
  },
  {
   "cell_type": "code",
   "execution_count": 3,
   "metadata": {
    "ExecuteTime": {
     "end_time": "2021-11-11T07:23:37.833555Z",
     "start_time": "2021-11-11T07:23:37.818997Z"
    }
   },
   "outputs": [
    {
     "data": {
      "text/plain": [
       "(1420, 10)"
      ]
     },
     "execution_count": 3,
     "metadata": {},
     "output_type": "execute_result"
    }
   ],
   "source": [
    "top_arr.shape"
   ]
  },
  {
   "cell_type": "code",
   "execution_count": 4,
   "metadata": {
    "ExecuteTime": {
     "end_time": "2021-11-11T07:23:38.639303Z",
     "start_time": "2021-11-11T07:23:38.632947Z"
    }
   },
   "outputs": [
    {
     "data": {
      "text/plain": [
       "array([[ 357., 1044.,  927., ..., 1003., 1002.,  603.],\n",
       "       [ 706., 1806., 2548., ..., 3629., 1179., 1894.],\n",
       "       [ 603.,  969., 2206., ...,  991.,  798., 2377.],\n",
       "       ...,\n",
       "       [2410., 5322., 3628., ..., 1287., 1841., 2746.],\n",
       "       [ 192., 1044.,  766., ..., 1563.,  560.,  506.],\n",
       "       [ 969.,  733.,  991., ...,  793.,  657.,  121.]])"
      ]
     },
     "execution_count": 4,
     "metadata": {},
     "output_type": "execute_result"
    }
   ],
   "source": [
    "top_arr"
   ]
  },
  {
   "cell_type": "markdown",
   "metadata": {},
   "source": [
    "# Check"
   ]
  },
  {
   "cell_type": "code",
   "execution_count": 1,
   "metadata": {
    "ExecuteTime": {
     "end_time": "2022-06-04T16:00:28.935227Z",
     "start_time": "2022-06-04T16:00:28.529423Z"
    }
   },
   "outputs": [],
   "source": [
    "import json\n",
    "import random\n",
    "import sys\n",
    "import bm25\n",
    "import numpy as np\n",
    "from tqdm import tqdm"
   ]
  },
  {
   "cell_type": "code",
   "execution_count": 2,
   "metadata": {
    "ExecuteTime": {
     "end_time": "2022-06-04T16:00:34.342709Z",
     "start_time": "2022-06-04T16:00:34.300791Z"
    }
   },
   "outputs": [
    {
     "name": "stdout",
     "output_type": "stream",
     "text": [
      "3900\n",
      "(4256, 10)\n",
      "1294\n",
      "(1420, 10)\n",
      "1289\n",
      "(1420, 10)\n"
     ]
    }
   ],
   "source": [
    "datasets = []\n",
    "top_articles = []\n",
    "\n",
    "for t in ['train', 'val', 'test']:\n",
    "    with open('../../dataset/English/post/{}.json'.format(t), 'r') as f:\n",
    "        pieces = json.load(f)\n",
    "    print(len(pieces))\n",
    "    \n",
    "    arr = np.load('./data/English/Top10_articles_{}.npy'.format(t))\n",
    "    arr = np.array(arr, dtype=int)\n",
    "    print(arr.shape)\n",
    "    \n",
    "    datasets.append(pieces)\n",
    "    top_articles.append(arr)"
   ]
  },
  {
   "cell_type": "code",
   "execution_count": 3,
   "metadata": {
    "ExecuteTime": {
     "end_time": "2022-06-04T16:00:43.525766Z",
     "start_time": "2022-06-04T16:00:43.021471Z"
    }
   },
   "outputs": [
    {
     "data": {
      "text/plain": [
       "8084"
      ]
     },
     "execution_count": 3,
     "metadata": {},
     "output_type": "execute_result"
    }
   ],
   "source": [
    "with open('../../dataset/English/articles/articles.json', 'r') as f:\n",
    "    raw_articles = json.load(f)\n",
    "len(raw_articles)"
   ]
  },
  {
   "cell_type": "code",
   "execution_count": 4,
   "metadata": {
    "ExecuteTime": {
     "end_time": "2022-06-04T16:00:44.113664Z",
     "start_time": "2022-06-04T16:00:44.071957Z"
    }
   },
   "outputs": [
    {
     "name": "stdout",
     "output_type": "stream",
     "text": [
      "Says Georgia’s 5th congressional district, represented by John Lewis, is \"in horrible shape and falling apart (not to mention crime infested).\" fake 2017-01-14 00:00:00\n",
      "\n",
      "==================== Top: 0 ==================== \n",
      "\n",
      "2006-01-01\n",
      "Valentin Mikhaylin, a young man who lives in Kaluga, Russia, and who represents himself as a student starving and on the verge of freezing to death, has been spamhandling on the Internet since 1998. His e-mailed appeals are generally loosed upon the unsuspecting in November of each year, perhaps because the final month before Christmas tends to spark the charitable impulse in the  Please excuse us for any inconveniences we could cause you by our message. As you know, now Russia has a deep financial and economic crisis. We already for some months do not receive our salary. Our parents and invalids also do not receive pensions and forced to hand over blood to buy necessary for live foodstuffs. Because of all it, our children are constantly hungry and ill from cold and exhaustion. Unfortunately, everybody in our country already has reconciled and are sure, that soon all simple people as we will die from starvation, and our mad politicians will continue to play in the silly political games. Therefore, we, due to a service opportunity of access in the Internet and hopeless situation have decided apply to you with request to help us with food-stuffs, warmth clothes or money so that we could buy food-stuffs and things of primary necessity for our children here. Please note that because of starvation, we need mostly the following: a. Dried food     Also we need clothes and shoes. Now the weather here is very cold. Therefore we need warmth men clothes which are sizes L and XL. We need these big sizes as our children and we will be dressing under these clothes our old clothes. It will allow constantly being in heat. The men shoes we need are the sizes 44 – 45. Please send your help to our mailing address is: Valentin Mikhaylin    In case if you willing to send money, please let us know and we will inform you some details how it might be sent. We hope very much for any help, are sending you our warmest wishes and looking forward to your reply. We wish you a Merry Christmas and a Happy New 2000 Year. Greetings from your Russian Friends, A group of needy people from Russia. Over the years, the details given in his annual appeal for financial assistance have changed. In the 1999 and 2000 versions (quoted above and below, respectively), he presented himself as the spokesperson for a group of workers in Russia who had not received their pay in months and whose parents were having to sell blood just to put food on the table. Notice that the invalids, according to him, were not receiving “any money from the government”: Dear Friends: Please excuse us for any inconveniences we could cause you by our message. As you know, Russia is now in a deep financial and economic crisis.  We already for some months do not receive our salary.  Our parents, invalids and war heroes do not receive any money from the government, and are forced to sell their own blood each month to buy enough food to keep alive. Because of all it, our children are permanently hungry and sick due to cold and exhaustion. Unfortunately, everybody in our country already has reconciled and are sure, that soon all simple people as we will die from starvation. The only chance we have to survive is to use service access to the internet at our work to appeal to you directly for help:  we desperately need food, warm clothing or money so that we could buy food-stuffs and things of primary necessity first for children, and then for ourselves. What little food we have is just enough to keep us alive – for the time being – but for proper nourishment we need the following: a. Dried food      If you can donate anything at all to help us, please send it to this address: Valentin Mikhaylin    If you are considering sending money, please contact us and we will give you details on the best way of sending it safely.  It is a very good way to help, because money cannot be stolen on the way to us, like parcels, and now because of the current crisis prices in Russia are much lower than in the West. We hope very much for any help, are sending you our warmest wishes and looking forward to your reply. We wish you a Merry Christmas and a Happy New 2001-Year. Your Fiends from Russia, Valentin and our group.  In November 2001, he presented himself as a college student living with an invalid mother and brother. These two disabled family members, he said, received small pensions from the government: Dear Friends, Please excuse me for any inconvenience caused by this message. My name is Valentin and I’m a student of our local college. I live with my mother and brother in the city of Kaluga, Russia. It is located 200km south from the city of Moscow. I grew up without a father. He left our family when I was two-years-old. My mother and brother are invalids and they receive a pension very rare from the government which is very small and not enough even for supporting our lives. I take care of my family alone. During the summer I was able to grow some vegetables at our small garden and it helped us to be alive for the last three months. Unfortunately the winter is setting in and I’m very afraid. Our television informs us that the coming winter is going to be very cold, like in the last year, when it was minus 56 degrees Celsius. I do not know if we could survive during the coming winter, because we don’t have food and warm clothing. Therefore, I, due to a service opportunity of access to the Internet at our college and hopeless situation have decided apply to you with request to help my family.  If you have any old warm clothes which you are not using anymore, as well as anything that is possible to eat, I would be very happy if you could send it to our home address is: Valentin Mikhaylin,    I hope very much for your help. If you think that it is better to help with a little money, please write back and I will give you details on the best way of sending it safely.  It is a very good way to help, because of the current crisis prices in our country are very low. I’m sending you warmest wishes. I wish you a Merry Christmas and a Happy New 2002 Year. God Bless You, Valentin and my family.  In 2002, he described himself as a 20-year-old college student, still living with an invalid mother (now said to be blind; her affliction had not previously been mentioned) and brother, but this time saying his mother received a government pension while his brother did not: Please excuse me for any inconvenience caused by this message. I would never send a message like this, but our hopeless situation forces me to send it. My name is Valentin, I’m 20 years old and I’m a student. I live with my mother and brother in the city of Kaluga, Russia. We had two grandfathers, but they died during this year. My mother is an invalid. She cannot see and she receives an indemnity from the government very rare which is not enough even for supporting our lives. My brother is an invalid, too, since the accident happened 5 years ago. A big part of his body is paralized. The government does not pay any indemnity to him and to many other Russian invalids. Since several years I take care of my mother and brother. The Russian government does not help us because of the current crisis and the corruption in Russia. I have a small piece of land in the forest where I  I’m very afraid that the cold winter is setting in and my family has nothing to eat afterwards. The last winter was very cold and the temperature was minus 25-30 degrees Celsius. It seems that all of us are doomed to the starvation and death. The only chance we have to survive is to use the free public access to the internet during the evening at the High School when it is possible. I have found several e-mail addresses, including yours, that is why I have decided to appeal to you directly for a small help. If you have anything that is possible to eat, as well as any old warm clothes sized as L and XL which you are not using anymore, I would be more than happy if you could send it to our home address is: Valentin Mikhaylin,    If you think that it would be better or easier to send some money, please write me back and I will give you the details for sending it safely if you agree. That way to help is also very good because of the crisis foodstuffs in Russia are not expensive. I hope to hear from you very soon and I pray that you will be able to help us to survive this winter. I also hope very much that this hard situation will get better very soon in Russia. I wish you a Merry Christmas and a Happy New Year 2003. I’m sending to you many thanks in advance for your kind understanding. Please excuse me, once more, for any inconvience caused by this message. God Bless You, Valentin and my family.  In 2003, 2004, 2005 and 2006, he was once again an impoverished college student living with his mother, but no reference was made to his having a brother, invalid or otherwise: I send you this message from a library of our small city and I hope very much that this message has reached your address. My name is Valentin, I’m a student and I live with my blind mother in Russia. I work very hard every day to be able to take care of my mother, but my salary is very small because my studies are not finished. Due to the crisis our authorities stoped gas in our small city and now I cook food for my mother and me by making a fire near our home. Now we cannot heat our home because we don’t have gas anymore and I don’t know what to do, because the winter is coming and the temperature outside will be minus 30 degrees Celsius. I’m afraid that the temperature inside our home can be lower than 0 degrees and we will not be able to survive. Therefore I send you this desperate message with a prayer in my heart and I hope you can help us. If you have any old warm blankets, sleeping bags, portable heater or any other things which can help us during the winter, as well as any high-calories food-stuffs, I will be very grateful to you if you could send it to our postal address which is: Valentin Mihailin,    If you think that it would be better or easier for you to help with some money, please write me back and I will give you the details for sending it safely if you agree. This way to help is very good because the necessities here are not very expensive. I pray to hear from you soon. From all my heart I wish you Happiness, Love and Peace. God Bless You, Valentin and my Mother Elena.  Please excuse me for any inconvience caused by this message. I sent you this message from a library of our small city and I pray for your help. My name is Valentin. I’m a student and I live with my mother in the city of Kaluga, Russia, that is 200km south from Moscow. My mother is invalid. She cannot see and she receives pension from the government very rare which is not enough even for medications. I work very hard to be able to buy the necessary medications for my mother, but my salary is very small, because my studies still not finished. Due to the crisis our authorities stoped gas in our district and now we cannot heat our home. I don’t know what to do, because the weather is very cold here already (minus 12 degrees Celsius) and the temperature in the street can be lower than minus 30 degrees Celsius. I’m very afraid that the temperature inside our home can be very cold and we will not be able to survive. Thanks to the internet access at our library I was able to find several e-mail addresses and I decided to appeal to you with a prayer in my heart for a small help. If you have any old electric heater, warm clothes, electric water-boiler, high-calories canned food, vitamins, medicines from cold weather, any hygiene-products, I will be very grateful to you if you could send it to our postal address which is: Valentin Mihailyn,    If you think that it would be better or easier for you to help with some money, please write me back and I will give you details for sending it safely if you agree. This way to help is very good because in this case I  I hope to hear from you very soon and I pray that you will be able to help us to survive this winter. I also hope very much that this hard situation will get better very soon in our country. I wish you a Merry Christmas and a Happy New Year 2005. I’m sending to you many thanks in advance for your kind understanding. Please excuse me, once more, for any inconvience I could cause you by sending this message. God Bless You, Valentin and my mother Elena.  Dear Friends, Please excuse me for any inconvience caused by this message. My name is Valentin. I’m student and live with my mother in small city in Russia. My mother is invalide. She cannot see and she receive pension from the government very rare which is not enough even for medications. I work very hard every day to be able to buy the necessities and medications for my mother, but my salary is very small, because my studies still not finished. Due to the deep crisis, authorities stopped gas in our small district and we cannot heat our home anymore. I do not know what to do, because the weather is minus 11 degrees Celsius already and radio says it will be up to minus 25 during the next month. I’m very afraid that if the temperature will be lower than 0 degree in our sleeping room, we will not survive. I applied to local Red Cross and they explained me that many people ask them for help every day and they cannot help to each family. They adviced me to search help from individuals. Thanks to free Internet access in our college library, I found several addresses, including yours and I decided to appeal to you with a prayer in my heart for a small help. If you have any old used sleeping bag, warm blanket, clothes in size L and XL, portable heater, canned food, vitamins, water boiler, medicines against cold weather, any hygiene products, I will be very grateful you if you could send it to our home address: Valentin Mikhailin,    If you think that it would be better or easier for you to help with some money, please writes me back to my free e-mail valent@mailrus.ru and I will provide you with details how to send it safely, if you agree. This  I hope to hear from you very soon and I pray that you can help us. I also hope very much that this hard situation will become better in our country very soon. From all my heart, I wish you all the best in New Year. Valentin,   Hello, my dear Friend, Please excuse me for any inconvience caused by this message. My name is Valentin. I’m a student and I live with my mother in city Kaluga, Russia. My mother is invalid. She cannot see and she receive a very small pension which is not enough even for medications and food. I work very hard every day to be able to buy the necessities for my mother, but my salary is very small, because my studies still not finished. Due to deep crisis authorities stoped gas supply in our district and we cannot heat our home anymore. I don’t know what to do, because the weather will be very cold in the next months and the temperature outside can be lower than minus 35 degrees Celsius, as it was in the last winter. I am very afraid that the temperature inside our home can be very cold and we will not be able to survive. I don’t know what I can do in this situation. Thanks to the free internet access in our local library I found several e-mail addresses and I decided to appeal to you with a prayer in my heart for a small help.  If you have any old sleeping bag, warm blanket, portable stove, warm clothes and shoes, electric water-boiler, canned and dried food, vitamins, medicines from cold, any hygiene-products, I will be very grateful to you if you could send it to our postal address which is: Valentin Mikhailine, Rileewa Uliza, 6-45.Kaluga. 248030, Russia. If you think that it would be better or easier for you to help with some money, please write me back and I will give you details for sending it safely if you agree. This way to help is very good because in this case I will be able to buy a portable stove and heat our home during the winter. I hope to hear from you very soon and I pray that you will be able to help us to survive this winter. I also hope very much that this hard situation will get better very soon in our country. Please excuse me, once more, for any inconvience caused by this message. Valentin and my mother Elena.    In 2007 the annual scam was circulated yet again, but this time naming the letter’s sender as Elena, the woman identified in previous finaglings as Valentin’s mother. That time around, Elena was presented as a 30-year-old abandoned single mother with a 6-year-old daughter named Angelina, and there was no mention of Valentin or his brother: My name is Elena, I am 30 years old and I live in a province of Russia. I have 6-years old daughter, father of Angelina abandoned us and we live with my mother in a small flat. Due to the severe conditions of live in our province, frequent absence of water, anti sanitation, my daughter has got illness with eyes and became disabled. Now we have a crisis in our region and we are afraid that local authorities can stop supply us with water and gas, as it happen in neighbour village. The winter is coming and we don’t know what to do. I found your address when I visited websites and guestbooks and I decided to ask you for help. If you have any old used warm clothes, warm boots, water-boiler, portable heater, conserved and dried food, polivitamins, aspirine, paracetamol and analogous medicaments, products of hygiene, we would be very happy if you can send it to us. If it is easier for you to help with little money, please email me back and I will advice you how you can safely send it to us. I will then buy a small cast-iron stove (stove with burning wood), install it in our room and it will heat our home for the whole winter. I work 6 days in a week in municipal library and thanks to this work, after my job, I’m allowed to use computer and send you this letter. I send you kind greetings and I hope to hear from you soon. I must apologize for this letter. Elena.  P.S. I would like to send a picture of me and my daughter in this message, but there is no such a possibility. In a second 2007 version of the scam, the appeal reverted to Valentin. In this version, he was no longer a college student but instead now had “a cardio-vascular illness.” His mother was still represented as a blind woman who received a small pension from the government which was “not enough even for medications.” My name is Valentin, I am 25 years old and I live with my mother in a small Russian town. My mother cannot see and the authorities pays her a little indemnity, which is not enough even for medications. I have a cardio-vascular illness and I work very hard to be able to buy the things of the primary necessity for my mother. The situation is hopeless in our region and we are afraid that local boiler-house can stop heating of our home. The winter is coming and temperature can be minus 30 degrees in the nearest weeks. We don’t know what to do and we are very afraid. Thanks to the free internet access in our library I found different e-mail addresses and I decided to appeal to you with a prayer in my heart for a small help. If you have any old sleeping bag, felt boots, mittens, wool-socks, fur-coat, warm blanket, warm clothes, portable heater, canned food, vitamins, medicines against cold, hygiene-products, I will be very grateful to you if you could send it to our postal address: Valentin Michaylin,    If you think that it would be better or easier for you to help with some money, please write me back and I will give you details for sending it safely if you agree. This way to help is very good because in this case I  I hope to hear from you very soon and I pray that you will be able to help us to survive this winter. I also hope very much that this hard situation will get better very soon in our country. Please excuse me, once more, for any inconvience I could cause you by sending this message. May God Bless You, Valentin and my Mother Elena. The 2008 version once again had Valentin living with his blind mother whose “indemnity is not enough even for food and medications,” but Valentin made no mention of 2007’s “cardio-vascular illness,” instead presenting himself as someone who recently lost his job and was holding a temp position that would last for only a couple of weeks: My name is Valentin. I’m 26 years old and I live with my mother in Russia. My mother cannot see and her indemnity is not enough even for food and medications. Due to the deep crisis in our country recently I lost my job and our situation became very difficult. Now I finded a new job, I work very hard but I was told that this work will be only for a couple of weeks. The price for gas is very high in our region and we cannot use it for heating our home anymore. I don’t know what to do, because the winter is coming and the weather is very cold here already. I finded several e-mail addreses and thanks to free internet access in our local library I decided to appeal to you for help. If you have two old sleeping bags, warm clothes, electric water-boiler, canned and dried food, vitamins, medicines from cold, hygiene-products, I will be very grateful if you can send it to our address: Valentin Mikhailin,    The only way for us to heat our home during winter is to use a portable wood burning stove from cast iron which give heat from burning wood, but we cannot buy it in a local shop because it is expensive for us. I hope to receive your answer. I also hope that this hard situation will get better very soon. Valentin.  The 2009 version once again (see the first of the 2007 entries quoted above) named the letter’s sender as Elena, the woman identified in previous iterations as Valentin’s mother. This time around, Elena was presented as a 32-year-old abandoned single mother with an 8-year-old daughter named Anghelina, and there was no mention of Valentin or his brother. However, the 2009 version had Elena and her daughter living with Elena’s unemployed mother: My name is Elena, I have 32 year and I write you from Russia. I work in municipal library and I can use computer after work when possible. We have a big problem and I decided to write you this message in despair. I have a daughter Anghelina, she have 8 years, her father leaved us and we live with my mother. Due to serious crisis recently my mother losed job (the shop where she worked is now closed) and our situation became very difficult. Prices for gas and electricity are very expensive in our region and we cannot afford to use it for heating our home anymore. It is very cold already in our region and weather becomes colder each day. We very afraid and we do not know what to do. The only possibility for us to heat our home is to use portable wood burning oven which giving heating from burning wood. We have many wood in our region and this oven will be heating all our home during the winter with minimal charges. Problem is that we can not buy this oven in our town because it cost 8165 roubles (equivalent of 191 Euro) and we cannot afford it. In case if you have any old portable cast iron oven and if you do not use it anymore, we will be very thankful to youl if you could donate it for us and organize department of this oven to our adress (190 km from Moscow). This ovens may be different and weight 100-150kg. I pray to hear from you soon. Elena and my family.  According to a 2000 article run in a Russian daily (translation here ), Valentin Mikhaylin, then a 17-year-old student at the builders’ technical school in Kaluga, began his online panhandling career by sending “Please help us!” emails that detailed the projected plight of the Russian poor for the winter of 1998-1999 and asked recipients to contact ham radio clubs and individuals to get them to send help. That article claims between December 1998 and January 1999, the Mikhaylins (Valentin, his elder brother, and his mother) received 79 envelopes from abroad in response to that entreaty. They took in an additional 24 envelopes and 48 parcels during the first five months of 1999. These various postings contained a variety of durable items, food, and money. While it could be concluded the success of that 1998 begging spree prompted a nascent scam artist to attempt similar frauds each succeeding year, the Oxpaha.ru article referenced above says that a 1999 inquiry ordered by the Moscow international post office described the perpetrators as “… the Michajlin family, long known to us, who have been busy with international begging for many years.”  Valentina Savina, the director of that agency, wrote of the Mikhaylins as “these people [who] describe themselves as penniless invalids and disseminate slanderous information regarding the wrongs that they have suffered.” That same article details a number of battles between Valentin Mikhaylin and the Internet service provider in his area, the local phone company, and the post office. (Subsequent to his e-mailed plea for help, his box was receiving so many parcels that the service deemed his operation a money-making enterprise and attempted to charge him the business rate for his box.) Rather than delve into each of his business squabbles, we note the salient point of those episodes is his being “sent to a prison for  temporary detention” over his mode of handling his dispute with the postal service (i.e, distributing a leaflet defaming it, including tacking up a copy within the post office proper). Mikhaylin’s methods for handling exposure of his money-making fraud enterprise appear equally unsavory. According to Paolo Attivissimo , the webmaster who posted the English translation of the Oxapa.ru article on his site: Frauds like these succeed because those perpetrating them frame their solicitations as heart-rending stories about suffering that you, kindhearted person that you are, could alleviate by sending an array of goods or just plain old-fashioned money. The Internet has made the con artist’s job easier: he no longer has to go face-to-face with the clientele he’s looking to plunder and so generally doesn’t risk his marks’ figuring out that they’re being had. In this case, only the persistence of the grifter brought him to our attention — year after year he’s been hitting the Internet with variations on the same con. Had he been less perseverant, had he instead hit once and run, we’d have never caught on to him. We’ve said this before, but it bears repeating: Beware the pull on your heartstrings — it’s often the pursestrings that are actually being reached for.\n",
      "\n",
      "==================== Top: 1 ==================== \n",
      "\n",
      "2009-08-08\n",
      "Those who serve with the U.S. armed forces often face difficult choices when they receive orders deploying them overseas. Not only do they have to be prepared to be parted from their loved ones and make arrangements regarding the storage of personal possessions, but they may also face the problem of finding proper caretakers for their pets — not all of those serving in the military have people they can leave their beloved animal companions with. Some locate appropriate foster families that will care for their pets until their return, some give up their critters for adoption at shelters, and some may even (as a last resort) turn them loose to fend for themselves. (There are services that will assist those departing for overseas duty with the process of finding good temporary homes for their pets, such as “ Dogs on Deployment ” and “ Guardian Angels for Soldier’s Pet .” If you’re looking for a way to help those who are serving their country outside the U.S. and have room in your life for an extra cat or dog for the duration of someone’s tour of duty, do consider opening your home to a military pet.) One such tale about a military pet began hitting our inbox in August 2009, with our earliest online sighting of it dating to an August 2008 message board post: But something was still missing as I attempted to settle in to my new life here, and I thought a dog couldn’t hurt. Give me someone to talk to. And I had just seen Reggie’s advertisement on the local news. The shelter said they had received numerous calls right after, but they said the people who had come down to see him just didn’t look like “Lab people,” whatever that meant. They must’ve thought I did. But at first, I thought the shelter had misjudged me in giving me Reggie and his things, which consisted of a dog pad, bag of toys almost all of which were brand new tennis balls, his dishes, and a sealed letter from his previous owner. See, Reggie and I didn’t really hit it off when we got home. We struggled for two weeks (which is how long the shelter told me to give him to adjust to his new home). Maybe it was the fact that I was trying to adjust, too. Maybe we were too much alike. For some reason, his stuff (except for the tennis balls — he wouldn’t go anywhere without two stuffed in his mouth) got tossed in with all of my other unpacked boxes. I guess I didn’t really think he’d need all his old stuff, that I’d get him new things once he settled in. but it became pretty clear pretty soon that he wasn’t going to. I tried the normal commands the shelter told me he knew, ones like “sit” and “stay” and “come” and “heel,” and he’d follow them — when he felt like it. He never really seemed to listen when I called his name — sure, he’d look in my direction after the fourth or fifth time I said it, but then he’d just go back to doing whatever. When I’d ask again, you could almost see him sigh and then grudgingly obey. This just wasn’t going to work. He chewed a couple shoes and some unpacked boxes. I was a little too stern with him and he resented it, I could tell. The friction got so bad that I couldn’t wait for the two weeks to be up, and when it was, I was in full-on search mode for my cellphone amid all of my unpacked stuff. I remembered leaving it on the stack of boxes for the guest room, but I also mumbled, rather cynically, that the “darn dog probably hid it on me.” Finally I found it, but before I could punch up the shelter’s number, I also found his pad and other toys from the shelter. I tossed the pad in Reggie’s direction and he snuffed it and wagged, some of the most enthusiasm I’d seen since bringing him home. But then I called, “Hey, Reggie, you like that? Come here and I’ll give you a treat.” Instead, he sort of glanced in my direction — maybe “glared” is more accurate — and then gave a discontented sigh and flopped down. With his back to me. Well, that’s not going to do it either, I thought. And I punched the shelter phone number. But I hung up when I saw the sealed envelope. I had completely forgotten about that, too. “Okay, Reggie,” I said out loud, “let’s see if your previous owner has any advice.” To Whoever Gets My Dog: Well, I can’t say that I’m happy you’re reading this, a letter I told the shelter could only be opened by Reggie’s new owner. I’m not even happy writing it. If you’re reading this, it means I just got back from my last car ride with my Lab after dropping him off at the shelter. He knew something was different. I have packed up his pad and toys before and set them by the back door before a trip, but this time … it’s like he knew something was wrong. And something is wrong … which is why I have to go to try to make it right. So let me tell you about my Lab in the hopes that it will help you bond with him and he with you. First, he loves tennis balls. the more the merrier. Sometimes I think he’s part squirrel, the way he hoardes them. He usually always has two in his mouth, and he tries to get a third in there. Hasn’t done it yet. Doesn’t matter where you throw them, he’ll bound after it, so be careful — really don’t do it by any roads. I made that mistake once, and it almost cost him dearly. Next, commands. Maybe the shelter staff already told you, but I’ll go over them again: Reggie knows the obvious ones — “sit,” “stay,” “come,” “heel.” He knows hand signals: “back” to turn around and go back when you put your hand straight up; and “over” if you put your hand out right or left. “Shake” for shaking water off, and “paw” for a high-five. He does “down” when he feels like lying down — I bet you could work on that with him some more. He knows “ball” and “food” and “bone” and “treat” like nobody’s business. I trained Reggie with small food treats. Nothing opens his ears like little pieces of hot dog. Feeding schedule: twice a day, once about seven in the morning, and again at six in the evening. Regular store-bought stuff; the shelter has the brand. He’s up on his shots. Call the clinic on 9th Street and update his info with yours; they’ll make sure to send you reminders for when he’s due. Be forewarned: Reggie hates the vet. Good luck getting him in the car — I don’t know how he knows when it’s time to go to the vet, but he knows. Finally, give him some time. I’ve never been married, so it’s only been Reggie and me for his whole life. He’s gone everywhere with me, so please include him on your daily car rides if you can. He sits well in the backseat, and he doesn’t bark or complain. He just loves to be around people, and me most especially. Which means that this transition is going to be hard, with him going to live with someone new. And that’s why I need to share one more bit of info with you … His name’s not Reggie. I don’t know what made me do it, but when I dropped him off at the shelter, I told them his name was Reggie. He’s a smart dog, he’ll get used to it and will respond to it, of that I have no doubt. but I just couldn’t bear to give them his real name. For me to do that, it seemed so final, that handing him over to the shelter was as good as me admitting that I’d never see him again. And if I end up coming back, getting him, and tearing up this letter, it means everything’s fine. But if someone else is reading it, well… well it means that his new owner should know his real name. It’ll help you bond with him. Who knows, maybe you’ll even notice a change in his demeanor if he’s been giving you problems. His real name is Tank. Because that is what I drive. Again, if you’re reading this and you’re from the area, maybe my name has been on the news. I told the shelter that they couldn’t make “Reggie” available for adoption until they received word from my company commander. See, my parents are gone, I have no siblings, no one I could’ve left Tank with … and it was my only real request of the Army upon my deployment to Iraq, that they make one phone call to the shelter … in the “event”… to tell them that Tank could be put up for adoption. Luckily, my colonel is a dog guy, too, and he knew where my platoon was headed. He said he’d do it personally. And if you’re reading this, then he made good on his word. Well, this letter is getting to downright depressing, even though, frankly, I’m just writing it for my dog. I couldn’t imagine if I was writing it for a wife and kids and family. but still, Tank has been my family for the last six years, almost as long as the Army has been my family. And now I hope and pray that you make him part of your family and that he will adjust and come to love you the same way he loved me. That unconditional love from a dog is what I took with me to Iraq as an inspiration to do something selfless, to protect innocent people from those who would do terrible things … and to keep those terrible people from coming over here. If I had to give up Tank in order to do it, I am glad to have done so. He was my example of service and of love. I hope I honored him by my service to my country and comrades. All right, that’s enough. I deploy this evening and have to drop this letter off at the shelter. I don’t think I’ll say another good-bye to Tank, though. I cried too much the first time. Maybe I’ll peek in on him and see if he finally got that third tennis ball in his mouth. Good luck with Tank. Give him a good home, and give him an extra kiss goodnight — every night — from me. Thank you,  I folded the letter and slipped it back in the envelope. Sure I had heard of Paul Mallory, everyone in town knew him, even new people like me. Local kid, killed in Iraq a few months ago and posthumously earning the Silver Star when he gave his life to save three buddies. Flags had been at half-mast all summer. I leaned forward in my chair and rested my elbows on my knees, staring at the dog. “Hey, Tank,” I said quietly. The dog’s head whipped up, his ears cocked and his eyes bright. C’mere boy.” He was instantly on his feet, his nails clicking on the hardwood floor. He sat in front of me, his head tilted, searching for the name he hadn’t heard in months. “Tank,” I whispered. His tail swished. I kept whispering his name, over and over, and each time, his ears lowered, his eyes softened, and his posture relaxed as a wave of contentment just seemed to flood him. I stroked his ears, rubbed his shoulders, buried my face into his scruff and hugged him. “It’s me now, Tank, just you and me. Your old pal gave you to me.” Tank reached up and licked my cheek. “So whatdaya say we play some ball? His ears perked again. “Yeah? Ball? You like that? Ball?” Tank tore from my hands and disappeared in the next room. And when he came back, he had three tennis balls in his mouth. As to the core question of whether it’s a true story, accepting it as literally true requires the reader to believe in a chain of improbable circumstances: that a no-kill shelter would agree to serve indefinitely as an unpaid kennel service, that a dog owner would turn over his pet to the long-term (and possibly permanent) care of others without telling anyone its real name, and that a dog’s adoptive owner would accept a “sealed letter from his previous owner” and simply toss it aside without bothering to open or read it. This string of contrivances smacks more of a fictional plot device than a literal account of a real-life occurrence. Moreover, none of the verifiable details checks out as given in the narrative. Many different web sites record and honor the names of all U.S. service personnel killed in Iraq and Afghanistan, and we could find no one by the name of Paul Mallory listed among the casualties on any of them (including the Iraq Coalition Casualty Count’s iCasualties.org and the Washington Post’s  Faces of the Fallen ), nor could we turn up any confirmatory news account of the death of a U.S. serviceman named Paul Mallory. Even if we proceed on the assumption that “Paul Mallory” is a pseudonym, the details still don’t check out. The narrative describes Reggie’s original owner as having posthumously received the Silver Star after being killed in Iraq, as having never been married, and as having no living parents, siblings, or other relatives with whom he could have left his dog while he was deployed overseas. We meticulously checked the Silver Star database at the HomeofHeroes.com web site and located obituaries for every single U.S. service member (from all branches) who was listed there as having posthumously received that award in connection with his service in Iraq, and every single such recipient was described in his obituary as having left behind some combination of parents, siblings, wives, and children — not one of those fallen heroes was unmarried with no living parents or siblings. However, that the story may not be literal truth doesn’t prevent it from being figurative truth. Those who serve overseas do so at the cost of great personal sacrifice. A tale such as this — literal truth or not — serves to remind us all of how much they give and how much we owe them.\n",
      "\n",
      "==================== Top: 2 ==================== \n",
      "\n",
      "2002-05-14\n",
      "“Washington’s Vision” (reproduced as the example below) is a narrative presented as the 1859 reminiscences of 99-year-old Anthony Sherman, who was supposedly present with George Washington’s army at Valley Forge during the winter of 1777 and overheard Washington tell an officer that an angel had revealed a prophetic vision of America to him. The passage of more than 150 years has since obscured the origins and purpose of this narrative, leading many who encounter it now to believe that it is a true account of an incident from Washington’s life rather than a fictional tale created for political purposes long after Washington’s death: The last time I ever saw Anthony Sherman was on the Fourth of July, 1859, in Independence Square. He was then ninety-nine years old, his dimming eyes rekindled as he gazed upon Independence Hall, which he had come to visit once more. “I want to tell you an incident of Washington’s life one which no one alive knows of except myself; and which, if you live, you will before long see verified.” He said, “From the opening of the Revolution, we experienced all phases of fortune, good and ill. The darkest period we ever had, I think, was when Washington, after several reverses, retreated to Valley Forge, where he resolved to pass the winter of 1777. Ah! I often saw the tears coursing down our dear commander’s careworn cheeks, as he conversed with a confidential officer about the condition of his soldiers. You have doubtless heard the story of Washington’s going to the thicket to pray. Well, he also used to pray to God in secret for aid and comfort. “One day, I remember well, the chilly winds whistled through the leafless trees. Though the sky was cloudless and the sun shone brightly, he remained alone in his quarters nearly all afternoon. When he came out, I noticed that his face was a shade paler than usual, and there seemed to be something on his mind of more than ordinary importance. Returning just after dusk, he dispatched an orderly to the quarters of the officer I mentioned who was in attendance at the time. After preliminary conversation of about half an hour, Washington, gazing upon his companion with that strange look of dignity that he alone could command, said to the latter: “I do not know whether it is due to the anxiety of my mind, or what, but this afternoon, as I was preparing a dispatch, something seemed to disturbed me. Looking up, I beheld, standing opposite me, a singularly beautiful being. So astonished was I, for I had given strict orders not to be disturbed, that it was some moments before I found language to inquire the cause of the visit. A second, a third, and even a fourth time did I repeat my question, but received no answer from my mysterious visitor, except a slight raising of the eyes. By this time I felt strange sensations spreading through me, and I would have risen, but the riveted gaze of the being before me rendered volition impossible. I assayed once more to speak, but my tongue had become useless, as though it had become paralyzed. A new influence, mysterious, potent, irresistible, took possession. All I could do was to gaze steadily, vacantly at my unknown visitor. Gradually the surrounding atmosphere seemed to become filled with sensations, and grew luminous. Everything about me seemed to rarefy, including the mysterious visitor. “I began to feel as one dying, or rather to experience the sensations which I have sometimes imagined accompany dissolution. I did not think, I did not reason, I did not move; all were alike impossible. I was only conscious of gazing fixedly, vacantly at my companion. “Presently I heard a voice saying, ‘Son of the Republic, look and learn,’ while at the same time my visitor extended an arm eastwardly. I now beheld a heavy vapor at some distance rising fold upon fold. This gradually dissipated, and I looked out upon a strange scene. Before me lay spread out in one vast plain all the countries of the world — Europe, Asia, Africa, and America. I saw rolling and tossing between Europe and America the billows of the Atlantic, and between Asia and America lay the Pacific. “‘Son of the Republic,’ said the same mysterious voice as before, ‘look and learn.’ At that moment I beheld a dark, shadowy being as an angel standing, or rather floating, in mid-air between Europe and America. Dipping water out of the ocean in the hollow of his hand, he cast some on Europe. Immediately a cloud raised from these countries, and joined in mid-ocean. For a while it remained stationary, and then moved slowly westward until it enveloped America in its murky folds. Sharp flashes of lightning gleamed through it at intervals, and I heard the smothered groans and cries of the American people. A second time the angel dipped water from the ocean and sprinkled it out as before. The dark cloud was then drawn back to the ocean, in whose billows it sank from view. “A third time I heard the mysterious voice saying, ‘Son of the Republic, look and learn.’ I cast my eyes upon America and beheld villages and towns and cities string up one after another until the whole land form the Atlantic to the Pacific was dotted with them. Again I heard the mysterious voice say, ‘Son of the Republic, the end of the century cometh; look and learn.’ “And this time the dark, shadowy angel turned his face southward, and from Africa I saw an ill-omened specter approach our land. It flitted slowly over every town and city of the latter. The inhabitants presently set themselves in battle against each other. As I continued looking, I saw a bright angel, on whose brow rested a crown of light on which was traced the word ‘Union,’ bearing the American flag, which he placed between the divided nation. He said, ‘Remember, ye are brethren.’ Instantly the inhabitants, casting down their weapons, became friends once more, and united around the National Standard. “Again I heard the mysterious voice saying, ‘Son of the Republic, look and learn.’ At this the dark, shadowy angel placed a trumpet to his lips and blew three distinct blasts; and taking water from the ocean, he sprinkled it on Europe, Asia, and Africa. Then my eyes beheld a fearful scene. From each of these countries arose thick black clouds that were soon joined into one; and throughout this mass there gleamed a dark red light be which I saw hordes of armed men, who, moving with the cloud, marched by land and sailed by sea to America, which country was enveloped in the volume of cloud. And I dimly saw these vast armies devastate the whole country and burn the villages, towns, and cities that I had beheld springing up. “As my ears listened to the thundering of the cannon, the slashing of swords, and the shouts and cries of millions in mortal combat, I again heard the mysterious voice saying, ‘Son of the Republic, look and learn.’ When the voice had ceased, the dark angel placed his trumpet once more to his mouth and blew a long and fearful blast. “Instantly a light as of a thousand suns shown down from above me, and pierced and broke into fragments the dark cloud which enveloped America. At the same moment the angel upon whose head still shown the word ‘Union’ and who bore our national flag in one hand and a sword in the other descended from the heavens attended by legions of white spirits. These immediately joined the inhabitants of America, who I perceived were well-nigh overcome, but who, immediately taking courage again, closed up their broken ranks and renewed the battle. Again, amid the fearful noise of the conflict I heard the mysterious voice saying, ‘Son of the Republic, look and learn.’ As the voice ceased, the shadowy angel for the last time dipped water from the ocean and sprinkled it upon America. Instantly the dark cloud rolled back, together with the armies it had brought, leaving the inhabitants of the land victorious. “Then once more, I beheld the villages, towns, and cities springing up where I’d seen them before, while the bright angel, planting the azure standard he had brought in the midst of them, cried with a loud voice: ‘While the stars remain, and the heavens send down dew upon the earth, so long shall the Union last.’ And taking from his brow the crown on which blazoned the word ‘Union,’ he placed it upon the standard while the people, kneeling down, said ‘Amen.’ “The scene instantly began to fade and dissolve, and I, at last, saw nothing but the rising, curling vapor I had at first beheld. This also disappeared, and I found myself once more gazing upon the mysterious visitor, who in the same voice I had heard before said, ‘Son of the Republic, what you have seen is thus interpreted. Three great perils will come upon the Republic. The most fearful is the third, but in this greatest conflict the whole world united shall not prevail against her. Let every child of the Republic learn to live for his God, his land, and the Union.’ With these words the vision vanished, and I started from my seat and felt that I had seen a vision wherein had been shown me the birth, progress, and destiny of the United States.” “Such, my friends,” said the venerable narrator, “were the words I heard from Washington’s own lips, and America will do well to profit by them.” The tale of “Washington’s Vision” was penned by Charles Wesley Alexander (1836-1927), a Philadelphia journalist who published The Soldier’s Casket , a periodical for Union veterans of the Civil War. Writing under the pseudonym “Wesley Bradshaw,” Alexander authored several fictional “vision” or “dream” pieces featuring historic American figures which were published as broadsheets and in various newspapers during the Civil War and were later offered for sale through advertisements in the pages of The Soldier’s Casket , with the artificial separation between the real Charles Alexander and the pseudonymous “Wesley Bradshaw” allowing the former to unashamedly laud the latter’s works. The meaning of “Washington’s Vision” was apparent to Alexander’s contemporary audience. First published in April 1861 (at the outbreak of the Civil War) and full of references to “Union” and “Republic,” this account of Washington’s praying “to God in secret for aid and comfort” during the darkest days of the American Revolution and being visited by an angel who revealed to him a vision of the United States victorious was an obvious allegory for Unionists whose America was facing its greatest crisis since the revolution: a civil war pitting one half the country against the other in a struggle that threatened the existence of the Republic. During the war Alexander penned several similar tracts featuring both historical and contemporary American figures (e.g., Abraham Lincoln, Jefferson Davis, Ulysses S. Grant), including “General McClellan’s Dream,” a narrative in which the general-in-chief of the Union Army fell asleep at his desk and was awakened by a vision of George Washington, who admonished the general for sleeping at his post and revealed to him secret rebel plans which he urged McClellan to act on quickly in order to prevent Washington, D.C. from falling into Confederate hands. Alexander also published even more fantastical tales, including several about female Union soldiers with supernatural powers and one of a demonic Englishwoman who fought on the side of the Confederacy. As the Journal of the American Society for Psychical Research noted of “Washington’s Vision” and “General McClellan’s Dream” in 1917: It seemed to us that the remarks which prefaced the dream itself plainly intimated that the latter was a literary production written for a patriotic purpose. The [article] is from the pen of Wesley Bradshaw, Esq., and makes a fitting companion to “Washington’s Vision,” which sketch, written by the same author, at the commencement of our national difficulties, was widely copied by the press, and commended by Hon. Edward Everett as “teaching a highly important lesson to every true lover of his country.” There is here no attempt to put forth the “dream” as authentic. It is a “sketch” written by a gentleman who shortly before had written another sketch about a dream or vision attributed to Washington. (Although an officer named Anthony Sherman did serve in the Continental Army, he was at Saratoga under the command of Benedict Arnold at the end of 1777 and therefore wasn’t with Washington’s forces at Valley Forge during the winter of 1777-78, so it’s likely mere coincidence that Alexander chose that appellation for the name of his fictitious narrator.) Alexander’s expression of the theme that America can never be conquered by external enemies but can be brought down only through the failings of its own citizens gained renewed currency in 2001 among Americans in need of booster shots of patriotism after the events of September 11, and it is reminiscent of thoughts delivered for real by a revered American historical figure: Abraham Lincoln’s address before the Young Men’s Lyceum of Springfield, Illinois, on 27 January 1838: At what point shall we expect the approach of danger? By what means shall we fortify against it? — Shall we expect some transatlantic military giant to step the Ocean and crush us at a blow? Never! — All the armies of Europe, Asia and Africa combined, with all the treasure of the earth (our own excepted) in their military chest; with a Buonaparte for a commander, could not by force, take a drink from the Ohio, or make a track on the Blue Ridge, in a trial of a thousand years. At what point then is the approach of danger to be expected? I answer, if it ever reach us, it must spring up amongst us. It cannot come from abroad. If destruction be our lot, we must ourselves be its author and finisher. As a nation of freemen, we must live through all time, or die by suicide.\n",
      "\n",
      "==================== Top: 3 ==================== \n",
      "\n",
      "2014-11-17\n",
      "In August 2014, shortly after the controversial shooting death of teenager Michael Brown in Ferguson, Missouri, the above-quoted e-mail forward began circulating. In it, a “dying black veteran” rattled off a laundry list of loosely related (and some entirely unconnected) issues the author perceived to be prevalent among black Americans: I was told by my parents (yes, a married man and woman with my last name), that I was nigger. We lived in “Nigger Town” in a small Texas town, no A/C, grass growing through the floor, no car, no TV. We washed our bodies with lye soap that my mother made, by hand. I thought I was a nigger, until I graduated high school, went to college, did an enlistment in the Army, and got a job. I am now retired, own my own home, have 6 children by ONE WOMAN, and we all have the same last name. I have a Bachelor’s Degree in Liberal Arts, a Master’s Degree in Sociology. My retirement, VA disability from combat in the Korean War (I only have one leg), and part-time pay in a local college, is about $125,000 a year. From dirt poor nigger, to old, black, proud American. Yes, I am black, and I can say “nigger”, because I understand the true meaning of the word. Let’s clear up a few things about the Michael Brown incident. -Fact: It is not called “shoplifting or stealing”, it’s called “robbery”, which is a felony. Brown stole something and assaulted someone, that means ROBBERY. It’s on video, and it’s a fact. Not shoplifting, not theft, not “lifting” a few cigars, but ROBBERY! -Michael Brown, like Trayvon, was portrayed by the media as a “little black boy”, cute little headphones, and his cap and gown photo, gunned down by a ruthless police assassin, executed by “whitey”. First, I have never seen a cop drag a person into their car’s driver door to arrest them. So, let us be clear, Michael Brown was a nigger; a sorry assed, criminal, hoodlum, nigger. Nobody wants to say that, but I will. He had a criminal record a mile long, was known for numerous assaults, robberies, including the one you saw with your own eyes, and still refuse to call it a robbery. He was, like so many others, living a life that he thought he was “entitled” to, just for being alive. Gangsta rap, weed, drinking, guns, and those stupid-assed low profile rims, makes him some kind of bad-ass nigger. -I have fought communist Chinese and North Korean soldiers in the 1950’s with more honor than that nigger. Yep, I peeled potatoes and shot communists. That’s the only job a nigger soldier could get. -Rodney King? Black Riots! -Trayvon? Black Riots! -Hurricane Katrina? Black Riots! Stealing TV’s, designer clothes, etc. -O.J. Simpson kills white man and white woman, found NOT GUILTY? Did white folks riot? Nope! -In fact, when is the last time white people rioted? Civil War, maybe? That’s because they are, relatively, civilized people, much like many black Americans. Protesting is one thing, hell, I’m all for it. Even if you are an ignorant idiot, you have a right to protest. -Stop only showing the young black “cap and gown” photos of Michael. Charles Manson may have a few of those laying around, as well. Show the nigger “gangsta” photos of the “poor unarmed teenager” (grown man) pics that have been removed from his Facebook page, holding the loaded pistol, smoking weed, with a mouthful of money. -Militarization? The stupid-assed media that publicizes this has no idea what “militarization” really is. Cops wear helmets and vests, and drive armored vehicle because unemployed niggers thrown bricks at them, moron! You put on an “Adam 12” uniform and walk down the streets of Ferguson during the criminal riots. I can guarantee that you’ll jump into the  -You only “want the police” when you “need the police”, otherwise, you mock and fear what you do not understand about the police. And by the way, the police are trained to take your shit, but I wouldn’t fuck around with those Army National Guard, they aren’t as well disciplined “culturally” to take your shit like police do every day. They will ventilate your black asses with M-16s, with military precision and extreme prejudice. -And finally, the way we protest and demand justice, is run down the streets breaking shit, looting stores, and acting like a bunch of untrained monkeys? Hell, after Rodney King, criminal niggers were actually killing people, thinking they were entitled to be worse criminals than they already were. For those black criminals that do that, you are a disgrace to your race, inflamed by idiots like Al Sharpton, instead of listening to logic from proud black Americans, like Bill Cosby, Samuel Jackson, Colin Powell, Allen West, me, etc. -You blame white people for your ignorance, criminal acts, unemployed laziness, etc. -You blame white people for 89% of the prisons in America being full of blacks. They did nothing wrong, the racists white cops framed them all, right? No chance at school, no chance for college, military, employment? BULL SHIT! -More niggers kill niggers, than niggers killing whites, whites killing niggers, and whites killing whites … COMBINED. I find this astounding. -It’s not white peoples’ faults, the Emancipation Proclamation was signed by a white man years ago. You can go to school, get a job, buy a house, and vote, JUST LIKE WHITE FOLKS!!!! You are not a slave, you are not discriminated against! Slavery is abolished, and nobody alive today, was alive when it was popular. Get over it! You are discriminated against because you are a criminal, sorry-assed nigger. Otherwise, black Americans are treated like everyone else. -If you choose to create “baby daddy and baby mama”, and fake disabilities as an excuse for laziness to draw social security disability…… instead of husband, wife, family, job, mortgage, it’s YOUR FAULT, not white folks. And there are a lot of proud black Americans that will tell you the same, as I AM ONE OF THEM!!! -Remember, the way you act on the camera, is remembered by everyone who sees it. They will never forget it. It shows them how you, as the black race, responds to situation that don’t particularly go the way you think they should. It will become a reference standard, something they expect from you when the next media report doesn’t go your way. Stop being stupid niggers, and be a proud black American. My parents raised me well, but they were wrong about one thing, I am not a nigger. I will not be around long. While my mind is still sharp, and my aim is still good, my body is eating away with cancer. It started in the prostate, and is spreading rapidly. After I die, I have asked my children to publish my writings, and include my name. Although I am not expecting any miracles, I can only hope that American will stop blaming color, start blaming criminals, and see people for what they really are. We have too many countries that want us dead. We should not be fighting each other. Since it began appearing in our inboxes in August 2014, the “dying black vet” e-mail has changed a bit. Many versions are prefaced with a brief introduction suggesting the original “author” wasn’t the author at all, making its true origins murky. The paragraphs commonly introducing the e-mail suggest even in its initial circulation the piece was not the work of a “dying black veteran,” but rather of a white person inventing an authoritative black person to convey a message: OLD BLACK VET SPEAKS OUT, “WAKE UP!” The words of a dying man have always captured my attention, right or wrong, they are worth reading. I believe what this dying man has to say has a lot of truth. May not be what some will want to hear. I wanted to clear up a few black and white questions and answers. The things I state are facts. They are not downloaded from some media website, not propaganda, just observations from a 70 year old black man, born in America. (If the “black vet” who supposedly authored this piece were truly 70 years old, he could not possibly have seen combat in Korea as he states in the initial paragraph of the message: that war took place from 1950-53, when he would have been a mere elementary school-age child. Later iterations of this piece conveniently “upgraded” his age to 83 to support the Korean War vet timeline.) The author of the introduction above is unknown, as is the author of the original e-mail. However, on 27 August 2014, the e-mail was posted to the personal blog of a person who prefaced it thusly: I have no way of verifying this. It was sent to me by a friend of mine who I think is reliable and he admitted up front that since no name was associated with it, he could not verify it and he was also concerned that even if he could it would endanger the person who wrote it. Symptoms of the times in which we are living. So I’m putting up my Uncle Remus picture to go with it. It rings true, but I don’t know. The text seemingly did not enter widespread circulation until this 27 August 2014 blog post, and given the qualifiers of “sent to me by a friend” who “admitted up front no name was associated with it” and who was “unable to verify it” due to unspecified safety concerns, it’s possible the “words of a dying black veteran” originated with the blog post itself. By November 2014, it seems that concerns about the anonymity of the e-mail hampered its spread, as a name became attached to the commentary: William G. Lillas. For months, the remarks circulated without attribution, and it’s not clear how the name “William G. Lillas” adhered to it. It’s possible the missive was reposted or e-mailed by a person of that name, creating the incorrect impression the reposter was the original author. While the words are aimed at the presumed failings of black Americans, we can’t find one forward or notable repost of the item that didn’t come from a white person. Most likely, the e-mail forward was authored by a white person who wished to express unpopular racial prejudices and felt the image of an elderly (and wise) black gentleman with a proud history of military service was the most authoritative candidate to deliver his list of grievances with a number of racial issues and general events.\n",
      "\n",
      "==================== Top: 4 ==================== \n",
      "\n",
      "2004-12-13\n",
      "The basic approach to an “Is this true?” query about a particular event is to find someone who witnessed or participated in the incident and can therefore provide a first-hand account of the facts. This approach is not always straightforward, however, because human beings, and their memories, are fallible.  People forget, they misremember details, they exaggerate, and sometimes they even tell outright lies.  Having two witnesses to an event is even better, of course, but that situation can create additional difficulties if their accounts of same incident differ substantially.  One might be able to sift through their stories and piece together a reasonably accurate account from parts of each, but the process is usually problematic.  And what about a situation in which two people, both supposedly participants in the same event, not only can’t agree on whether the incident took place at all, but the one who first maintained that it did also claims, incredibly, that he never talked about it! That last scenario applies to a pair of baseball players who were teammates on the New York Mets in the mid-1980s, pitcher Dwight Gooden and outfielder Kevin Mitchell.  In his 1999 autobiography Heat , Gooden related a chilling and disturbing tale about his former teammate: San Diego, some of which included rumors that he’d hurt some people in gang-related violence. I don’t know about that, but I got to witness, firsthand, Mitch’s temper. I dropped by his house along with Meade Chassky, a card show-and-events entrepreneur with whom I became good friends over the years. Meade and I had had lunch at my house, and we decided to pay Mitch an unannounced visit. That was a mistake. When we got there, I realized Kevin was both drunk and angry, a dangerous combination. He was holding a twelve-inch knife in his hands, having an argument with his live-in girlfriend. Kevin was right in the girl’s face, screaming at the top of his lungs. “I told you not to fuck with me, but you don’t want to fuckin’ listen to me, do you?” Mitch said. I saw this and started to turn around, but then Mitch wheeled on me and Meade. Now that we’d walked in, we were fair game.. “Sit the fuck down, the two of you. You’re not going anywhere.” He was serious. I could tell. I wouldn’t have wanted Mitch mad at me without a knife. With it, all he had to do was say jump, and I’d say, How high? Somehow, Mitch got it in his head that Meade and I were being followed by the cops and they were outside, staking him out. So he told us to barricade the doors. We looked at him like he was crazy, which, at that moment, he was. “You think I’m kidding? Do what I tell you,” Mitch shouted. Poor Meade; he was so scared, I swear he peed in his pants. I can’t say I blamed him, either, because I was worried about how crazy Mitch might get. His temper was one thing; but that knife in his hand was another. I had no choice but to barricade the front door. We put a couch in front of it, then stacked two chairs on top of the couch. After that, Mitch ordered us to pull the blinds down on all the windows, then he ripped the phone out of the wall. Finally, I tried to plead with him. “Mitch, listen to me. It’s okay, there’s nobody out there,” I said gently. “You calling me a liar, motherfucker?” he shouted. He met my eyes with a glaze so fierce, I had to look away. His girlfriend tried reasoning with Mitch, too. “Kevin, stop acting so crazy, these people are your friends,” she said. With that, Mitch turned to her and raised his anger to yet another level. Still holding the knife in his right hand, he grabbed his girlfriend’s little cat, who had the misfortune to be walking near his feet at that very moment. In one awful sweep of his hand, Mitch pulled the cat’s head back, exposing its throat. “You think I’m kidding when I say don’t ever fuck with me?” he shouted. Before the girl could answer, Mitch took the knife to the cat, and cut its head off. Clean. I was horrified by the sight: Mitch was still holding the cat’s head in one hand, while the body dropped to the floor, blood pouring out from where the head once was, limbs still twitching. The girl was practically out of control, screaming so loud I’m shocked the cops didn’t actually show up. Meade tried to run for the door, but Mitch wasn’t about to become reasonable yet. “Sit the fuck down, Meade. You and Doc, sit down on that couch and don’t move,” he said. Considering he had a severed cat’s head and a knife in his hands, he didn’t get an argument from either one of us. We sat down. So did the girlfriend. And Mitch sat across from us, shooting darts at us with his eyes. Sort of like a modern-day Mexican standoff. We remained like this for almost two hours, no one saying a word, until Mitch finally started to nod off. He’d start to close his eyes, then open them quickly, almost like he was testing us. Finally, for some reason, the dark cloud over him moved on. Mitch half smiled and said, “You guys can go.” We left, in about a half second, of course. The next day at the ballpark, I approached Mitch and asked, “You feeling okay?” Looking straight ahead, he said, “Yesterday never happened.” And we never mentioned it again. This narrative would seem to be everything necessary to confirm this tale as true: a detailed, first-person account related by someone who was a direct participant in the event (and found it significant enough to include in his autobiography).  However, as author Jeff Pearlman documented while conducting player interviews for his book about the 1986 New York Mets championship team, The Bad Guys Won! , Kevin Mitchell not only vehemently denied that the incident described by Gooden ever took place, he insisted he was going to “get” Gooden for spreading such wild tales about him.  And when Mitchell finally had an opportunity to confront Gooden, the latter insisted he hadn’t said anything about the alleged cat-beheading incident (despite that fact that it was described in his autobiography), and, incredibly, Mitchell seemed perfectly satisfied with that answer: Near the end of our sit-down, I asked Mitchell to expound on an anecdote that appeared in Dwight Gooden’s 1999 autobiography, Heat. Before I even mentioned what the anecdote was, Mitchell’s mood went from sunny summer day to winter storm. “Lemme tell you one thing,” he said somewhat menacingly. “I didn’t do that shit.” That shit was cutting the head off a cat with a twelve-inch kitchen knife. According to Heat, in 1986 Gooden and a friend were visiting Mitchell’s Long Island home, and in the middle of a dispute with his girlfriend, the Mets outfielder picked up a small kitten and slashed it across the throat. The body fell to the ground. “I was horrified by the sight,” Gooden writes. “Blood pouring out from where the head once was, limbs still twitching.” Shortly after the book was released, Mitchell received a call from a friend who informed him that Jim Rome was telling feline mutilation stories on his radio program. Mitchell phoned Rome at his office. “I asked him why he was making false allegations about me,” Mitchell said. “Rome said, ‘Hey, Mitch, I’m getting it straight from the horse’s mouth, Dwight Gooden.'” Mitchell was furious. “How could I cut off a cat’s head with a kitchen knife? Hell, I love animals,” he told me. “I’m not the one who went out there and sucked up some lines [of cocaine], like Dwight Gooden did. I’m a decent guy.” For three years Mitchell waited patiently to face Gooden in person. He says he initially considered a lawsuit, then good old-fashioned violence. At the least, a tongue-lashing would suffice. The moment finally arrived on the afternoon of November 8, 2002, when the two men were scheduled to attend a memorabilia-signing event in New Rochelle, New York. Gooden arrived first, then Mitchell. It didn’t take long. MITCHELL: “Why did you write that I cut off a cat’s head?” GOODEN: “It wasn’t me.” MITCHELL: “It wasn’t?” GOODEN: “Nope.” MITCHELL: “Okay. We’re cool.” Moments later I asked Mitchell about the encounter. “Doc said he wasn’t responsible,” he said. “I guess I believe him.” But, I pointed out, it’s right there . . . in HIS autobiography. Mitchell didn’t flinch. All anger was gone. “I said my piece,” he said. “It’s over.” Remarkably, it was. Clearly, someone was lying.  But who?  Did Dwight Gooden fabricate an account of something that never took place, or did Kevin Mitchell fib in claiming that what Gooden had written was fiction?  Jeff Pearlman suggested the former: 2 It’s possible that Dwight Gooden (who was twice suspended from baseball after testing positive for cocaine use) was seeking to deflect attention from his own substance abuse problems and made up a salacious story about a teammate to accomplish that goal, but that explanation doesn’t seem likely.  Gooden wrote candidly, at length, about his struggles with alcohol and drug addiction in his autobiography (indeed, the majority of Heat is a recounting of Gooden’s drug problems; discussion of his baseball career is a distinctly secondary portion of the book).  Moreover, many of Gooden’s teammates on the Mets were enmeshed in scandals involving drug abuse, sex, and violence, but Gooden didn’t offer up comparable tales about any of them in his book. An obvious explanation that springs to mind is that, despite the paradoxical name, many celebrities (especially athletes) don’t write their autobiographies.  It has long been the practice in the sports field to pay star players to put their names to newspaper columns, books, and even autobiographies “ghostwritten” by professional scribes, often with little or no input from the players themselves. New York Times reporter Buster Olney described an instance when a bit of newspaper ghostwriting came back to haunt Mets pitcher David Cone, one of Gooden’s teammates: Daily News and provide his name and thoughts to a column ghostwritten by beat reporter Bob Klapisch, and under Cone’s byline appeared taunting words for the Dodgers and a belittling of reliever Jay Howell: “Seeing Howell and his curveball reminded us of a high school pitcher.” The Dodgers, inflamed by Cone’s printed remarks, beat him in his next game and went on to win the series, and years later, Davey Johnson — the manager of the Mets in that era — would say his greatest regret of that season was “David Cone’s literary career.” 3 Gooden’s autobiography, Heat , was written “with” that very same Bob Klapisch, so how much of the finished work was Gooden’s own words (rather than the product of his co-writer’s efforts) is difficult to discern.  Nonetheless, Klapsich is a well-known sportswriter, and it’s rather unlikely he would have fabricated a libelous tale about Kevin Mitchell and inserted it into Gooden’s “autobiography,” all without any input or foreknowledge on Gooden’s part.  And such an act would have been rather ironic, considering that Heat contains a passage in which Gooden maintained he was hurt by false accusations about him printed in teammate Darryl Strawberry’s autobiography, and accepted Strawberry’s explanation that his ghostwriter had put words in his mouth: Straw said he wasn’t raised that way, that he’d never considered using drugs. Eventually, Darryl was more open about his problems. Likewise, he corrected an assertion in his book, published in 1992, that I pitched under the influence of drugs in the ’86 play-offs. Straw later explained that those were the words of his ghostwriter, and that if he was guilty of anything, it was being too lax about the book’s editorial content. I had to accept his word on that, because he knew better. (Of course, Gooden could have engaged in a technically correct but deliberately misleading dodge when he responded by saying he didn’t “write” about the alleged beheading, since his co-author presumably was the one who actually put his words down on paper.  We tried contacting Bob Klapisch to see if could provide any insight on the story, but we did not receive a response from him.) Darryl Strawberry supposedly confirmed the beheading tale when asked about it in a 2014 HuffPost Live interview , saying: “That’s a pretty good story. I think that’s pretty accurate. Kevin Mitchell did do that. Kevin Mitchell, he’s a different type of guy … I guess he figured that the girlfriend was acting a little crazy, so I’ll kill her cat.” Strawberry’s “confirmation” was less than convincing, though: according to Dwight Gooden, Strawberry wasn’t present when the alleged cat-beheading incident took place, so he couldn’t have witnessed it himself.  And his remarks about how the tale was “a pretty good story,” that “I think [it’s] pretty accurate,” and “I guess [Mitchell] figured that the girlfriend was acting a little crazy …” suggest that, like most everyone else, Strawberry merely heard about the alleged incident second-hand and assumed it was true because it seemed like the kind of thing Kevin Mitchell was capable of doing. With nothing more to go by, it’s a toss-up for us to determine whether this is a true story or not.  By Gooden’s account there were a couple of witnesses to the alleged incident (Gooden’s friend, Meade Chassky, and Mitchell’s unnamed girlfriend), but we haven’t found any evidence that either of them has ever discussed the matter publicly.  Dwight Gooden might have told the truth, he might have made the whole story up, he might have related a greatly embellished version of something that did take place, or he might even have heard about the incident (true or otherwise) from a third party and retold it in the first person as if he had actually been there.  All in all, it adds up to a “We don’t know.”\n",
      "\n",
      "==================== Top: 5 ==================== \n",
      "\n",
      "2012-04-20\n",
      "If various rock ‘n’ roll memoirs are to be believed, nearly every American musical group of the 1960s had at least one member who evaded the Vietnam-era draft by scheming to fail a physical examination through some combination of drug use, sleep deprivation, neglected hygiene, deliberate starvation, feigned homosexuality, and assumed bizarre behavior.  Johnny Rogan’s biography of the Byrds, for example, describes such plotting by two of the group’s members, frontman Gene Clark and drummer Michael Clarke: re-examined. This time, he feigned madness, employing whatever drugs were at his disposal to enhance the desired effects.  “Gene was living with me at the time,” Clarke told me. “We did a programme and it was hard getting Gene out of the draft. They weren’t buying that bullshit about his leg. I kept him up for a week. Thanks to massive amounts of dexedrine he screwed up all the tests. They looked up his ass. It was seriously demeaning. But we were the best of brothers and I helped get him out.” “When I went in, it was major shit. I wore these stupid pants and sandals. I sat there cross-legged and suggested I had a problem. They were waiting for somebody to try and get out and their attitude was ‘You’re front line, dude.’ I got through the tests. There was a form with the question, ‘Are you a homosexual?’ I wrote ‘No!’, then changed it to ‘Yes’, then ‘No’ again, then crossed it out a few times. I knew all the answers and freaked out. I followed the yellow line and I had to take a piss. They give you this thing to carry and I threw it down on the floor and went over in the corner and took a piss. The guy said, ‘This is very serious … You can’t do that!’ I turned around and accidentally ended up pissing on him. Then somebody tried to take my stuff, so I jumped in and said, ‘Take your hands off my stuff or I’ll kill you. I’m serious’ I’d got my hands round this guy’s neck. Right away, they sent me to the psychiatrist’s office. They were looking at me thinking, ‘Is he for real or is he bullshitting us?’ There was one guy there with long hair who went to Vietnam, but I didn’t. You had to be good. The psychiatrist asked me, ‘Have you ever done it with a woman?’ I said, ‘No!’ He said, ‘Have you ever wanted to?’ I said, ‘No!’ He said, ‘Have you ever done it with a man?’ I said, ‘No!’ He was just looking at me — that’s all he was doing. Finally, he said, ‘Get the hell out of here.’ They ran me down the red line and booted my ass out of there — ‘Get out of here, you faggot bastard, schizoid homosexual, not fit for military service at any time — 4-F.’ I ran out the door, jumped in my Porsche, beat it back to the beach and was laughing all the way. If you think I wanted to go to Vietnam, you were out of your mind. I was making too much goddamn money.” In an interview with published by High Times magazine in 1977, Ted Nugent claimed he had engaged in similar behavior to deliberately fail a physical exam in 1967 and be qualified 4-F (not acceptable for military service): Ted Nugent: Ted was a young boy, appearing to be a hippie but quite opposite in fact, working hard and playing hard, playing rock and roll like a deviant. People would question my sanity, I played so much. So I got my notice to be in the draft. Do you think I was gonna lay down my guitar and go play army? Give me a break! I was busy doin’ it to it. I had a career Jack. If I was walkin’ around, hippying down, getting’ loaded and pickin’ my ass like your common curs, I’d say “Hey yeah, go in the army. Beats the poop out of scuffin’ around in the gutters.” But I wasn’t a gutter dog. I was a hard workin’, mother****in’ rock and roll musician. I got my physical notice 30 days prior to. Well, on that day I ceased cleansing my body. No more brushing my teeth, no more washing my hair, no baths, no soap, no water. Thirty days of debris build. I stopped shavin’ and I was 18, had a little scraggly beard, really looked like a hippie. I had long hair, and it started gettin’ kinky, matted up. Then two weeks before, I stopped eating any food with nutritional value. I just had chips, Pepsi, beer-stuff I never touched-buttered poop, little jars of Polish sausages, and I’d drink the syrup, I was this side of death, Then a week before, I stopped going to the bathroom. I did it in my pants. poop, piss the whole shot. My pants got crusted up. See, I approached the whole thing like, Ted Nugent, cool hard-workin’ dude, is gonna wreak havoc on these imbeciles in the armed forces. I’m gonna play their own game, and I’m gonna destroy ’em. Now my whole body is crusted in poop and piss. I was ill. And three or four days before, I started stayin’ awake. I was close to death, but I was in control. I was extremely antidrug as I’ve always been, but I snorted some crystal methedrine. Talk about one wounded motherf*cker. A guy put up four lines, and it was for all four of us, but I didn’t know and I’m vacuuming that poop right up. I was a walking, talking hunk of human poop. I was six-foot-three of sin. So the guys took me down to the physical, and my nerves, my emotions were distraught. I was not a good person. I was wounded. But as painful and nauseous as it was — ’cause I was really into bein’ clean and on the ball — I made gutter swine hippies look like football players. I was deviano. So I went in, and those guys in uniform couldn’t believe the smell. They were ridiculin’ me and pushin’ me around and I was cryin’, but all the time I was laughin’ to myself. When they stuck the needle in my arm for the blood test I passed out, and when I came to they were kicking me into the wall. Then they made everybody take off their pants, and I did, and this sergeant says, “Oh my God, put those back on! You f*cking swine you!” Then they had a urine test and I couldn’t piss, But my poop was just like ooze, man, so I poop in the cup and put it on the counter. I had poop on my hand and my arm. The guy almost puked. I was so proud. I knew I had these chumps beat. The last thing I remember was wakin’ up in the ear test booth and they were sweepin’ up. So I went home and cleaned up. They took a putty knife to me. I got the street rats out of my hair, ate some good steaks, beans, potatoes, cottage cheese, milk. A couple of days and I was ready to kick ass. And in the mail I got this big juicy 4-F. They’d call dead people before they’d call my ass. But you know the funny thing about it? I’d make an incredible army man. I’d be a colonel before you knew what hit you, and I’d have the baddest bunch of motherf*ckin’ killers you’d ever seen in my platoon. But I just wasn’t into it. I was too busy doin’ my own thing, you know? Questioned about that account some thirty years later (by which time Nugent was known as a staunch political conservative, a supporter of the Republican Party, and an advocate of hunting and gun ownership rights) in an interview with the UK’s Independent newspaper, Nugent disclaimed that previous account of his draft-evading activities as story he had made up and fed to a gullible High Times reporter and asserted that he actually had avoided the draft through the legitimate means of a student deferment: High Times [the cannabis user’s journal of record] where you claimed you defecated in your clothes to avoid the draft.” “I never shit my pants to get out of the draft,” says Nugent, good-naturedly. “You also told them you took crystal meth before the medical — as a result of which, and I quote: ‘I got this big juicy 4F.'” “Unbelievable. Meth,” he replies, in a tone of deep sarcasm. “Yes, that’s my drug of choice. You’ve got to realise that these interviewers would arrive with glazed eyes and I would make stories up. I never did crystal meth. And I never pooped my pants.” “But you did dodge the draft.” “I had a 1Y [student deferment]. I enrolled at Oakland Community College.” “You said then that you wanted ‘to teach the stupid bastards in the military a lesson’. I’d have thought you’d have loved the army. Guns. Travel. Danger.” “Back then, I didn’t even understand what World War II was.” “So basically,” — I admit that I have, unaccountably, started to speak Nugent — “you didn’t want to get your Michigan ass blown off in Vietnam.” “Correct. I did not want to get my ass blown off in Vietnam.” Clearly, though, Ted Nugent didn’t make up the tale about his snorting crystal meth before his pre-induction physical as a one-off jape just to fool a High Times reporter, as he said the same thing in an interview with CREEM magazine: A: “Real hard. I have never done a drug in my life. I have never smoked a joint in my life. I took two tokes off a joint with the MC5 one night and almost gagged and thought it was stupid. And that’s it. I took two tokes off a joint once. I snorted one line of cocaine. And one line of crystal methedrine before my draft physical — but God, that was worth it because I wanted to see the look on the Sergeant’s face. That’s it for drugs.” An analysis of Ted Nugent’s Selective Service classification record doesn’t prove or disprove either version of the story. He did indeed receive a high school student deferment ( 1-S ) in 1967 and then (as he stated) a college student deferment ( 2-S ) in 1968.  However, he was reclassified as “available for military service” ( 1-A ) in 1969 and then subsequently rejected as a result of a physical examination and given a 1-Y classification.  (The 1-Y classification denoted persons “qualified for service only in time of war or national emergency” and was generally assigned to registrants who had exhibited medical conditions that were limiting but not disabling.)  After the 1-Y classification was eliminated by the Selective Service at the end of 1971, Nugent was reclassified as 4-F (“registrant not qualified for any military service”). So, Ted Nugent did have a student deferment for part of the time he was eligible for the Vietnam-era draft, but he also did fail a physical examination and receive a medical exemption (which, as far as we know, he has neither acknowledged nor explained).  But in the absence of more specific information about the results of that physical examination and the reasons for his medical exemption, it cannot be ascertained how truthful the account Nugent gave to High Times magazine back in 1977 might be.  (Ted Nugent’s press representative did not respond to a request for additional information about this subject.)\n",
      "\n",
      "==================== Top: 6 ==================== \n",
      "\n",
      "2004-10-25\n",
      "If I Were the Devil” is a form of social criticism, an essay that postulates what steps the devil might take in order to corrupt human civilization (and the United States in particular) and lead it down the path of darkness — before delivering the catch that all the steps listed are phenomena that are already taking place in the world today. It was written and popularized by national radio commentator and syndicated columnist Paul Harvey , who from the mid-1960s onwards featured it in both media many times over the course of his long career, periodically updating it to incorporate current trends: If I were the devil … I would gain control of the most powerful nation in the world; I would delude their minds into thinking that they had come from man’s effort, instead of God’s blessings; I would promote an attitude of loving things and using people, instead of the other way around; I would dupe entire states into relying on gambling for their state revenue; I would convince people that character is not an issue when it comes to leadership; I would make it legal to take the life of unborn babies; I would make it socially acceptable to take one’s own life, and invent machines to make it convenient; I would cheapen human life as much as possible so that the life of animals are valued more than human beings; I would take God out of the schools, where even the mention of His name was grounds for a lawsuit; I would come up with drugs that sedate the mind and target the young, and I would get sports heroes to advertise them; I would get control of the media, so that every night I could pollute the mind of every family member for my agenda; I would attack the family, the backbone of any nation. I would make divorce acceptable and easy, even fashionable. If the family crumbles, so does the nation; I would compel people to express their most depraved fantasies on canvas and movie screens, and I would call it art; I would convince the world that people are born homosexuals, and that their lifestyles should be accepted and marveled; I would convince the people that right and wrong are determined by a few who call themselves authorities and refer to their agenda as politically correct; I would persuade people that the church is irrelevant and out of date, and the Bible is for the naive; I would dull the minds of Christians, and make them believe that prayer is not important, and that faithfulness and obedience are optional; I guess I would leave things pretty much the way they are. In an odd twist, though (and the reason this item is rated as a “mixture”), one of the most widely Internet-circulated versions of “If I Were the Devil,” as reproduced above, is not from Paul Harvey. Although it is clearly inspired by and in the spirit of Paul Harvey’s essay of the same name, it bears virtually no textual resemblance to the original — while it is similar in structure and theme, not one of its lines appears in any of various forms of the essay which Paul Harvey presented to his audiences over the years. The oldest genuine Paul Harvey version of this piece we’ve found so far appeared in his newspaper column in 1964: If I Were the DevilIf I were the Prince of Darkness I would want to engulf the whole earth in darkness. I’d have a third of its real estate and four-fifths of its population, but I would not be happy until I had seized the ripest apple on the tree. So I should set about however necessary, to take over the United States. I would begin with a campaign of whispers. With the wisdom of a serpent, I would whispers to you as I whispered to Eve, “Do as you please.” To the young I would whisper “The Bible is a myth.” I would convince them that “man created God,” instead of the other way around. I would confide that “what is bad is good and what is good is square.” In the ears of the young married I would whisper that work is debasing, that cocktail parties are good for you. I would caution them not to be “extreme” in religion, in patriotism, in moral conduct. And the old I would teach to pray — to say after me — “Our father which are in Washington.” Then I’d get organized. I’d educate authors in how to make lurid literature exciting so that anything else would appear dull, uninteresting. I’d threaten TV with dirtier movies, and vice-versa. I’d infiltrate unions and urge more loafing, less work. Idle hands usually work for me. I’d peddle narcotics to whom I could, I’d sell alcohol to ladies and gentlemen of distinction, I’d tranquilize the rest with pills. If I were the Devil, I would encourage schools to refine young intellects, but neglect to discipline emotions; let those run wild. I’d designate an atheist to front for me before the highest courts and I’d get preachers to say, “She’s right.” With flattery and promises of power I would get the courts to vote against God and in favor of pornography. Thus I would evict God from the courthouse, then from the schoolhouse, then from the Houses of Congress. Then in his own churches I’d substitute psychology for religion and deify science. If I were Satan I’d make the symbol of Easter an egg And the symbol of Christmas a bottle. If I were the Devil I’d take from those who have and give to those who wanted until I had killed the incentive of the ambitious. Then my police state would force everybody back to work. Then I would separate families, putting children in uniform, women in coal mines and objectors in slave-labor camps. If I were Satan I’d just keep doing what I’m doing and the whole world go to hell as sure as the Devil. Contrasting that 1964 version of the essay with Paul Harvey’s 1996 newspaper version, we find that  although the concept and structure of the essay remained the same across the decades, its content evolved quite a bit over the years: If I were the prince of darkness, I would want to engulf the whole world in darkness.I’d have a third of its real estate and four-fifths of its population, but I would not be happy until I had seized the ripest apple on the tree — thee. So, I would set about however necessary to take over the United States. I’d subvert the churches first, and I would begin with a campaign of whispers. With the wisdom of a serpent, I would whisper to you as I whispered to Eve: “Do as you please.” To the young, I would whisper that the Bible is a myth. I would convince the children that man created God instead of the other way around. I’d confide that what’s bad is good and what’s good is square. And the old, I would teach to pray after me, “Our Father, which are in Washington …” Then, I’d get organized, I’d educate authors in how to make lurid literature exciting so that anything else would appear dull and uninteresting. I’d peddle narcotics to whom I could. I’d sell alcohol to ladies and gentlemen of distinction. I’d tranquilize the rest with pills. If I were the devil, I’d soon have families at war with themselves, churches at war with themselves and nations at war with themselves until each, in its turn, was consumed. And with promises of higher ratings, I’d have mesmerizing media fanning the flames. If I were the devil, I would encourage schools to refine young intellect but neglect to discipline emotions. I’d tell teachers to let those students run wil. And before you knew it, you’d have drug-sniffing dogs and metal detectors at every schoolhouse door. With a decade, I’d have prisons overflowing and judges promoting pornography. Soon, I would evict God from the courthouse and the schoolhouse and them from the houses of Congress. In his own churches, I would substitute psychology for religion and deify science. I’d lure priests and pastors into misusing boys and girls and church money. If I were the devil, I’d take from those who have and give to those who wanted until I had killed the incentive of the ambitious. What’ll you bet I couldn’t get whole states to promote gambling as the way to get rich? I’d convince the young that marriage is old-fashioned, that swinging is more fun and that what you see on television is the way to be. And thus, I could undress you in public and lure you into bed with diseases for which there are no cures. In other words, if I were the devil, I’d just keep right on doing what he’s doing. The following clip (often mistakenly identified as a broadcast from 3 April 1965) captures Paul Harvey’s radio equivalent of his 1996 newspaper version referenced above:\n",
      "\n",
      "==================== Top: 7 ==================== \n",
      "\n",
      "2006-01-29\n",
      "In common with an number of other online cautions aimed at teens, “I am Meth” took the form of an ode penned by (or about) an adolescent who paid the ultimate price — death — for falling victim to the societal ill being decried. (This was written by a young Indian girl who was in jail for drug  charges, and was addicted to meth. She wrote this while in jail. As you will  soon read, she fully grasped the horrors of the drug, as she tells in this  simple, yet profound poem. She was released from jail, but, true to her story, the drug owned her. They found her dead not long after, with the needle still in her arm.) Please keep praying for our Children, Teens, Young adults. Understand, this thing is worse than any of us realize … I destroy homes, I tear families apart,  I’m more costly than diamonds, more precious than gold,  If you need me, remember I’m easily found,  I live with the rich, I live with the poor,  I’m made in a lab, but not like you think,  In your child’s closet, and even in the woods,  I have many names, but there’s one you know best,  My power is awesome, try me you’ll see,  Just try me once and I might let you go,  When I possess you, you’ll steal and you’ll lie,  The crimes you’ll commit for my narcotic charms  You’ll lie to your mother, you’ll steal from your dad,  But you’ll forget your morals and how you were raised,  I take kids from parents, and parents from kids,  I’ll take everything from you, your looks and your pride,  You’ll give up everything – your family, your home,  I’ll take and take, till you have nothing more to give,  If you try me be warned – this is no game,  I’ll ravish your body, I’ll control your mind,  The nightmares I’ll give you while lying in bed,  The sweats, the shakes, the visions you’ll see,  But then it’s too late, and you’ll know in your heart,  You’ll regret that you tried me, they always do,  You knew this would happen, many times you were told,  You could have said no, and just walked away,  I’ll be your master, you will be my slave,  Now that you have met me, what will you do?  I can bring you more misery than words can tell,  In this genre, it is not seen as enough for the story told in rhyme to be horrific or for the ill that is its subject to present an actual and potentially life-ending danger to young people — its central figure and/or author must die to truly drive home the finger-waving. Other examples of such poems: Teen girl who disobeyed her parents and sneaked off to a party died in a two-car accident caused by her drunk, stoned date that claimed not only his life but that of her parents, and another teen girl killed in a different automobile accident brought about by her drunken boyfriend. Methamphetamine, the subject of “I am Meth,” poses a real danger to teens and others. It is a powerfully addictive stimulant that dramatically affects the central nervous system. This illegal drug is sold as a crystal-like powdered substance that sometimes is vended in large rock-like chunks. It can be swallowed, injected, breathed in (snorted), or smoked. The drug causes in the user increased activity, decreased appetite, and a general sense of well-being. Its effects can last 6 to  8 hours.  Meth addiction is a growing problem in the U.S. and Canada. As the poem says, the drug is addictive and quickly takes over the lives of its users. (To gain a better idea of how swiftly it can ravage a person, examine the comparison of “then and now” photographs presented by the Partnership for a Drug-Free America. In this case, a picture — or rather, a pair of them– is worth a thousand words.) Different adolescents have at times claimed to be the poem’s author. One was Amanda Canaday of Barriere, a community 45 minutes north of Kamloops, British Columbia. In 2005, Ms. Canaday, who was then 16 years old, read it at a community meeting about methamphetamine, claiming she was the piece’s writer. This was her version:  I destroy homes, I tear families apart        I am made in a lab but not in one quite like you think      My power is awesome     When I possess you, you will steal and you will lie        You will give up everything, your family, your friends, your money         An earlier version of the poem that surfaced in an Alabama newspaper in 2003 ascribed the item to “a local teenager, who asked not to be identified by name” and who “wrote about what I’ve been told is his experience with crystal meth and the devastating impact it has had on his life, as well as, the lives of his friends and family.” This is the unnamed Alabama teen’s version: I destroy homes, I tear families apart.    If you need me remember, I’m easily found.    I have many names, but there’s one you’ll know best.    Just try me once, and I might let you go.  You’ll lie to your mother, you’ll steal from your dad.    I take kids from their parents, I take parents from their kids.    You’ll give up everything, your family, your home.    If you try me be warned, this is not a game.    By then it’s too late and you’ll know in your heart,  You knew this would happen, how many times were you told?    Now that you’ve met me, what will you do?    Samantha Reynolds of LeFlore County, Oklahoma — not a teen but an adult woman — also claimed to have written this piece in 2000. At the time “Ms. Crystal Meth” was set down, Ms. Reynolds’ daughter was in the 7th grade. Neither the author nor her daughter have even used meth, let alone died of an overdose. Says Samantha Reynolds of the reaction she’s received from readers of her poem: I’ve seen the effects of meth addiction up-close and personal. Not only have I lost someone to the drug, but one of my children was a victim of a terrifying home invasion by someone who was high on meth. I’ve let a few children move into my home whose parents were addicted to drugs. It isn’t necessary for one to be an addict to get a first-hand look at the devastation meth causes because the user of the drug drags their loved ones through hell right along with him/her. Here is the first version of Reynolds’ “Ms. Crystal Meth,” as published by the The Heavener Ledger in September 2000: I destroy homes. I tear families apart. I take your children, and that’s just the start. I’m more valued than diamonds, more precious than gold. The sorrow I bring is a sight to behold. If you need me, remember; I’m easily found. I live all around you, in school and in town. I live with the rich. I live with the poor. I live just down the road, and maybe next door. I’m made in a lab, but, not in one like you think. I can be made under your kitchen sink. Or in your child’s closet, and even out in the woods. If this scares you to death, it certainly should. I have many names, but there’s one you’ll know best. I’m sure you’ve heard of me: My name’s Crystal Meth. My power is awesome. Try me, you’ll see. But if you do, you may never break free. Just try me once, and I might let you go. But if you try me twice, then I own your soul. When I possess you, you’ll steal and you’ll lie. You’ll do what you have to, just to get high. The crimes you’ll commit for my narcotic charms will be worth the pleasure you’ll feel in my arms. You’ll lie to your mother. You’ll steal from your dad. When you see their tears you must not feel sad. Just forget your morals, and how you were raised. I’ll be your conscience. I’ll teach you my ways. I take kids from their parents. I take parents from kids. I turn people from God. I separate friends. I’ll take everything from you; even your good looks, and your pride. I’ll be with you always, right there by your side. You’ll give up everything; your family, your home, your money, your friends. You’ll be all alone. I’ll take and I’ll take, ’til you’ve no more to give. When I finish with you, you’ll be lucky to live. If you try me, be warned: THIS IS NOT A GAME. If I’m given the chance, I’ll drive you insane. I’ll ravage your body. I’ll control your mind. I’ll own you completely. Your soul will be mine. The nightmares I’ll give you when you’re lying in bed. And the voices you’ll hear, from inside your head. The sweats, the shakes, and the visions you’ll see; I want you to know these are your gifts. From me. By then it’s too late, and you’ll know in your heart that you are now mine, and we shall not part. You’ll regret that you tried me. (They always do.) But you came to me, not I to you. You knew this would happen. How many times were you told? But you challenged my power. You chose to be bold. You could have said ‘no’, and then walked away. If you could live that day over, now what would you say? My power is awesome, as I told you before. I can take your mother and turn her into a whore. I’ll be your master and you’ll be my slave. I’ll even go with you when you go to your grave. Now that you’ve met me, what will you do?   Come, take my hand, and let me lead you to Hell.\n",
      "\n",
      "==================== Top: 8 ==================== \n",
      "\n",
      "2001-02-15\n",
      "You Bet Your Life was the post-World War II vehicle that provided Groucho Marx with a career apart from his brothers and introduced him to a generation of viewers too young to remember him from his stage or film work. The interview-quiz show, featuring the famous $100 bonus paid to any contestant who said the “secret word” (displayed on a cartoonish stuffed duck that dropped from above if a contestant uttered the word of the day) debuted on radio in 1947, aired on both radio and television through 1960, and continued on television only for its final season in 1960-61 — all in all, an amazing fourteen-year run for a quiz show with a tiny budget, a plain set, and a small jackpot (even by 1950s standards).  Although You Bet Your Life was structured to make it appear as though every show was completely ad-libbed by Groucho (who issued a steady stream of impromptu questions, off-the-cuff remarks, and cutting put-downs to contestants he had met only moments earlier), a good deal of preparation went into each episode. Potential contestants were selected and interviewed in advance, scripts for each week’s show were prepared by writers and reviewed by Groucho, and the comedian used a mechanical teleprompter to read his lines during the recording of the program. (In early telecasts of You Bet Your Life , Groucho can be seen reading off sheets of paper propped up in front of him on something resembling a music stand.) It was true, however, that Groucho didn’t actually meet the contestants until they walked onstage, and he certainly had plenty of latitude to depart from the prepared gags and questions (as did the contestants), with the result that much of the show’s banter was indeed improvised on the spot. About a hour’s worth of material was recorded for each half hour program so that flubs, uninteresting segments, and any troublesome or offensive remarks by Groucho could be edited out. The most notable remark of Groucho’s You Bet Your Life years, that one that has gone down in legend as one of pop culture’s most notorious comeback quips, supposedly occurred when Grouch was interviewing a Mrs. Story, a contestant with a remarkably large number of children (a number that varies anywhere from 10 to 21 in different tellings of the legend): GROUCHO: “Why do you have so many children? That’s a big responsibility and a big burden.” MRS. STORY: “Well, because I love my children and I think that’s our purpose here on Earth, and I love my husband.” GROUCHO: “I love my cigar, too, but I take it out of my mouth once in a while.” But did Groucho really say this, or is it a remark that (like so many other infamous quips) originated elsewhere and was later attributed to the notable figure deemed most likely to have said it?  Since You Bet Your Life was taped in advance, heavily edited, and not aired live, this remark (if it truly occurred) would certainly have been cut from the finished program as too offensive for the standards of the times; so we can state definitively that (claims to the contrary notwithstanding) nobody ever actually heard it broadcast. If Groucho had really made this quip, the only people who would have heard it would have been the people present during the recording of the program (i.e., the cast, crew, contestants, and studio audience). So, did Groucho in fact utter this risqué remark, even if his bon mot never made it onto the airwaves? The one person who would undoubtedly know the truth is Groucho himself, and he maintained in a 1972 interview with Roger Ebert for Esquire magazine that he never said it: I got $25 from Reader’s Digest last week for something I never said. I get credit all the time for things I never said. You know that line in You Bet Your Life ? The guy says he has seventeen kids and I say: “I smoke a cigar, but I take it out of my mouth occasionally”? I never said that. This debate really should end here, based on a complete lack of evidence that Groucho ever said any such thing, coupled with his unequivocal statement affirming that he did not (and Groucho had no motive to disclaim one of the most famous lines associated with his celebrity if he really had said it). Instead, the legend persists in large part because misinformation about it is propagated over and over. Take, for example, the following account, presented as a first-person telling in a 1976 book often touted as a Groucho Marx autobiography, The Secret Word Is Groucho : Wherever I go, people ask me about a remark I purportedly made to Mrs. Story. Folklore about the encounter has been so broadly disseminated that it has been variously described as occurring with a mother having any number from ten to thirty children. The story, however, is not apocryphal. It did happen. “Why do you have so many children?” I asked Mrs. Story. “That’s a big responsibility and a big burden.” “Well,” she replied, “because I love children, and I think that’s our purpose here on earth, and I love my husband.” “I love my cigar too,” I shot back, “but I take it out of my mouth once in a while.” That kind of remark can have one of two reactions. It will either cause a sharp intake of breath at having crossed some forbidden frontier or it will bring the house down. The studio audience loved it, but the people out there in Radioland never got a chance to react. The exchange was clipped out by Dwan, the house censor. But even though Groucho is credited as the primary author of The Secret Word Is Groucho , it isn’t really an “autobiography.” The book was actually put together in the waning years of the comedian’s life by freelance writer Hector Arce, who ostensibly obtained input from Groucho; and it’s unlikely that Groucho’s declining health and memory allowed him to contribute much (if anything) to the finished work, leaving Arce to rely on secondary sources. Arce consulted various personnel associated with You Bet Your Life in producing the book; almost certainly one (or more) of those people proffered the “cigar” story as true to Arce, who rewrote it in Groucho’s voice and inserted it into the book, unaware that his subject had denied it just a few years previously. Arce’s account doesn’t sound like Groucho’s speaking or writing style at all, and it presents a Groucho who has suddenly “remembered” details he was previously unfamiliar with in his Esquire few years earlier (i.e., he’s corrected the gender of the person he was addressing from male to female, he now recalls the contestant’s name, and he’s fixed the wording of the remark from “I smoke a cigar, but I take it out of my mouth occasionally” to the pithier “I love my cigar too, but I take it out of my mouth once in a while”). While the 1972 Esquire interview in which Groucho discussed this quip unideniably contained Groucho’s own words, the same can’t be said for what was presented in Arce’s book. The Secret Word Is Groucho account quoted above also has Groucho asserting that the purported exchange with Mrs. Story was “clipped out by Dwan, the house censor.” Groucho of course would have known that Robert Dwan was not a “house censor”; he was one of the producers who worked on You Bet Your Life for its entire run, staging the weekly performances and supervising the editing of each episode for broadcast. In his own book about the program ( As Long As They’re Laughing: Groucho Marx and You Bet Your Life ), Dwan wrote: Last summer in Maine, a respectable New York dealer in rare books sidled up to me and said, conspiratorially, “Is it true Groucho made that crack about his cigar?” I knew immediately what he meant. For a long time, I, too, believed it was a figment of the mass libido. But, after discussions with my late partner, Bernie Smith, I am convinced that it did happen. I now believe that Groucho said it, but that he didn’t mean what the dirty joke collectors think he meant. That remark, taken at its burlesque show level, was simply not his style. But outside of that studio audience and the 200 people who laughed that night, no one else ever heard that joke, because the exchange was never broadcast. It was never heard beyond the confines of NBC Studio C in Hollywood, and yet the story has spread to become an underground legend. This account is even more curious: Robert Dwan, the man who was onstage for every performance of You Bet Your Life and who supervised the editing of the show, didn’t remember hearing Groucho make such a remark, yet he came to “believe” the legend was real because someone else told him so many years after the fact. And although Dwan noted that he consulted “20 volumes of the original scripts” and a “collection of acetate recordings of the unedited performances and tapes of the edited broadcasts” and four reels of 16mm film consisting of “the funniest and most audacious of the sequences which we were required to delete from the broadcasts as being unsuitable for viewing in the 1950s” in the preparation of his book, he made nary a mention of turning up anything supporting the “cigar” story. Steve Stoliar, who worked as a secretary in Groucho’s household during the last few years of the comedian’s life, also made an affirmative case for this legend in his 1996 book, Raised Eyebrows: My Years Inside Groucho’s House : You may have heard about a legendary line concerning a certain cigar that Groucho was alleged to have uttered during one program. Some say it never happened; others swear they’ve seen it on TV. As it turns out, the truth is somewhere inbetween. One of the unexpected pleasures of spending time with the people behind the scenes was getting to the bottom of this infamous incident. For the record, it was [ You Bet Your Life head writer] Bernie Smith who provided us with the details. To our amazement, Bernie had kept a chart throughout the life of the show, in which he had meticulously recorded the names of the contestants, what the secret word was and how much they ended up winning. There was, it seems, a sign painter named Mr. Story who lived in Bakersfield, California. He and his wife had what was reputed to be the largest family in America. Originally there were twenty-two children, but three had died. During the first season of “You Bet Your Life,” when it was broadcast on radio only, the Story family was bused in from Bakersfield to be contestants on the show. After a bit of small talk, the conversation went like this: Groucho: “How many children do you have?” Mrs. Story: “Nineteen, Groucho.” Groucho: “Nineteen?! Why do you have so many children? It must be a terrible responsibility and a burden.” Mrs. Story: “Well, because I love my children — and I think that’s our purpose here on Earth — and I love my husband.” Groucho: “I love my cigar, too, but I take it out of my mouth once in a while!” The studio audience went wild, but director Bob Dwan ordered the exchange deleted before it could be aired because it was obviously too racy for 1947 sensibilities. So the Story story is true, but anyone who claims to have seen that program is either mistaken or lying because it occurred three years before the show’s 1950 television debut and it was edited out of the radio show before anyone but the studio audience had a chance to hear it. Unfortunately, no copies of that legendary outtake are known to have survived. Although the imagined dialogue between Groucho and the female contestant is lifted directly from The Secret Word Is Groucho , this account does at least introduce some detail to the story (e.g., a specific number of children, the hometown of the contestants, the father’s occupation, the year of the interview) indicating actual research rather than mere repetition of legend. As we’ll see shortly, however, some of this detail is inaccurate. The most recent presentation of the “cigar” legend we’re aware of is the background booklet enclosed with the 2003 DVD release You Bet Your Life: The Lost Episodes (a collection of some of the show’s preserved TV episodes), which contained the following information about an audio bonus feature included on one of the discs: In December 1950 DeSoto distributed a twelve inch 78rpm recording featuring highlights from You Bet Your Life and a holiday message from Groucho to their dealers. The nine minute recording includes an excerpt from Groucho’s November 17, 1947 radio interview with Mr. and Mrs. Story of Bakersfield, California, the parents of twenty children. This interview has become legendary for a portion of it that never aired. Groucho: “Why do you have so many children? It must be a terrible responsibility and a burden.” Mrs. Story: “Well, because I love my children and I think that’s our purpose here on Earth, and I love my husband.” Groucho: “I love my cigar, too, but I take it out of my mouth once in a while.” Considering how many people have claimed to have seen or heard that exchange over the years it would seem likely that it must exist somewhere. But of the ninety-nine radio episodes of You Bet Your Life that aired prior to the show’s television debut, fewer than half of them survive. And the show with Mr. and Mrs. Story is not among them. The famous exchange would certainly have been edited out anyway. The brief clip from Season’s Greetings from DeSoto — Laughs with Groucho is all that remains of this episode. And the only people who witnessed that legendary moment were in the studio audience that fateful night in 1947. (Note that the imagined dialogue between Groucho and Mrs. Story is lifted directly from the book The Secret Word Is Groucho, another indication that it came from someone associated with the You Bet Your Life program and not Groucho himself.) It is true that Marion and Charlotte Story of Bakersfield, California, the parents of twenty children, were once featured as contestants on You Bet Your Life . According to announcer George Fenneman’s introduction, Mr. and Mrs. Story were selected to participate because the producers thought it would be interesting to go through the audience and find the couple with the largest number of offspring for Groucho to interview, and as the parents of twenty children (not nineteen, as stated in Raised Eyebrows ), Mr. and Mrs. Story qualified for that honor. (Since You Bet Your Life was a well-planned show that interviewed and prepped its contestants in advance, Mr. and Mrs. Story likely appeared on the program by invitation and were not merely present in the audience by happenstance, with George Fenneman’s introduction of them probably stretching the truth a little to create an exaggerated sense of spontaneity for the listening audience.) It is also true that this interview took place during You Bet Your Life ‘s days as a radio-only program (it didn’t begin airing on television in addition to radio until October 1950); so even if the “cigar” quip had sprung from this encounter, anyone who now claims to have seen Groucho make the remark on television is clearly mistaken.  As usual, however, the DVD booklet’s account is rife with misinformation. A complete audio recording of (the broadcast portions of) Marion and Charlotte Story’s appearance on You Bet Your Life does indeed exist (and is linked below). Moreover, that recording couldn’t possibly date from 17 November 1947, as claimed, because Groucho can be heard making promotional references to DeSoto-Plymouth, who did not become sponsors of You Bet Your Life until partway through the 1949-50 season. (External evidence indicates this recording actually dates from the broadcast of 11 January 1950, the first show aired after DeSoto-Plymouth took over sponsorship of You Bet Your Life from Elgin-American.)  What do we find in this recording? It does not include anything like the infamous “cigar” quip, Groucho’s only mention of stogies coming when he inquires of Mr. Story, “With each new kid, do you go around passing out cigars?” (“I stopped at about a dozen,” Mr. Story responds.) And for those who would claim that the “cigar” remark was indeed uttered by Groucho but excised from the aired version of the show, we note that none of the claimed dialogue ancillary to that remark is present in the recording, either: Groucho does not ask Charlotte Story why she has so many children, neither Mr. nor Mrs. Story professes to thinking that having children is “our purpose here on Earth,” nor does Mrs. Story proclaim that she loves her husband. As we touched on earlier in this article, it’s a common phenomenon of urban legendry that amusing stories involving clever repartee often retroactively place words into the mouths of the famous people deemed most likely to have said them. Sometimes, however, the designated mouths don’t really match up with the words assigned to them. Johnny Carson’s image has long been saddled with the claim that he made a risqué remark to a cat-carrying starlet on the Tonight Show, even though he was never known for employing that sort of crude sexual humor in his TV talk show host role. Likewise, although it might seem that no one would fit a sexual double entendre involving a cigar better than Groucho Marx, even You Bet Your Life producer Robert Dwan acknowledged (as quoted above) that it was too burlesque and not really Groucho’s style. It was the kind of dirty put-down Groucho might blurt out in private, but not to a kindly couple on a national radio program. Groucho’s style on You Bet Your Life was typically much gentler, as exemplified by the following exchange made under similar circumstances (i.e., when he questioned a female contestant who came from a family of seventeen children): Groucho: How does your father feel about this rather startling turn of events? Is he happy or just dazed? Daughter: Oh, my daddy loves children. Groucho: Well, I like pancakes, but I haven’t got closetsful of them … It’s not inconceivable that the infamous “cigar” quip might have originated with this very exchange, when someone later misremembered or deliberately “naughtied up” the dialogue to better fit Groucho’s public image and changed “pancakes” to “cigar.” NOTE: Various “ blooper ” records purport to offer an “actual recording” of Groucho’s remark. However, those record makers typically employed recordings they made themselves using sound-alikes in order to “re-create” events for which no actual recording existed (in most cases because the events were apocryphal ones that never took place).\n",
      "\n",
      "==================== Top: 9 ==================== \n",
      "\n",
      "2014-02-27\n",
      "A “Republicans on Rape” graphic widely circulated online since 2014 collects various comments about that crime supposedly made by GOP politicians in recent years:   The remarks collected in that graphic were indeed all uttered by the persons to whom they have been attributed; below we offer four of the statements on video (also on YouTube ), as well as the context in which they were made, and any clarifying remarks subsequently offered by their speakers. “Rape is kinda like the weather. If it’s inevitable, relax and enjoy it.” On 24 March 1990, Texas oilman Clayton Williams, the Republican nominee in the Lone Star State’s upcoming gubernatorial election, was preparing for a cattle roundup at his West Texas ranch while undesirable weather conditions threatened to spoil the event. As he sat around a campfire with ranch hands, campaign workers, and reporters, Williams likened that day’s cold, foggy weather to rape, saying, “If it’s inevitable, just relax and enjoy it.” Later that day Williams asserted that his comment had been a joke, and a few days later his campaign offered an apologetic statement about it: Mr. Williams said it was merely a joke and apologized “if anyone’s offended.” “That’s not a Republican women’s club that we were having this morning,” he said. “It’s a working cow camp, a tough world where you can get kicked in the testicles if you’re not careful.” Asked if some people might be offended, Mr. Williams said: “I’m not going to give you a serious answer. It wasn’t a serious deal. It wasn’t a serious statement.” But his campaign issued a statement in which Mr. Williams said: “I feel just terrible about this. I had no intention in my heart to hurt anyone, especially those women who have been traumatized by rape. “Looking back, I realize it was insensitive and had no place at the campfire or in any setting.” “If it’s a legitimate rape, the female body has ways to shut that thing down.” On 19 August 2012, U.S. Representative Todd Akin of Missouri, a Republican who was challenging incumbent Democrat Claire McCaskill for her seat in the U.S. Senate, was interviewed by St. Louis television station KTVI. During that interview, Akin was asked whether he believed abortion was justified in cases of rape, and he responded by asserting that “legitimate rapes” rarely resulted in pregnancy: “It seems to be, first of all, from what I understand from doctors, it’s really rare. If it’s a legitimate rape, the female body has ways to try to shut the whole thing down.” After his words touched off widespread outrage, Akin then issued a statement maintaining that his remarks were “off-the-cuff” and that he “misspoke in this interview”: As a member of Congress, I believe that working to protect the most vulnerable in our society is one of my most important responsibilities, and that includes protecting both the unborn and victims of sexual assault. In reviewing my off-the-cuff remarks, it’s clear that I misspoke in this interview and it does not reflect the deep empathy I hold for the thousands of women who are raped and abused every year. Those who perpetrate these crimes are the lowest of the low in our society and their victims will have no stronger advocate in the Senate to help ensure they have the justice they deserve. I recognize that abortion, and particularly in the case of rape, is a very emotionally charged issue. But I believe deeply in the protection of all life and I do not believe that harming another innocent victim is the right course of action. I also recognize that there are those who, like my opponent, support abortion and I understand I may not have their support in this election. Two years later, while appearing in another television interview with MSNBC to promote his new book Firing Back , Akin asserted that “legitimate rape” was a law enforcement term and that his original remark had been “intentionally misunderstood”: “Legitimate rape is a law enforcement term, it’s an abbreviation for ‘legitimate case of rape,’” he told Chuck Todd. “A woman calls a police station, the police investigate, she says ‘I’ve been raped,’ they investigate that. So before any of the facts are in, they call it a legitimate case of rape,” explained Aiken. Akin believes that everyone took what he said out of context. “This was intentionally misunderstood and twisted for political purposes. It doesn’t make any sense to say ‘a conservative is saying that rape is legitimate,’ that doesn’t even add up.” Time magazine noted that they were unable to find a law enforcement official familiar with the term “legitimate rape”: But is “legitimate rape” really a law enforcement term? We asked some experts. “I’ve taught police officers, and worked with police officers on every continent in the world, and that’s something I’ve never heard in my 50 years in law enforcement,” says Dr. James A. Williams, former Chief of Organized Crime Drug Enforcement Task Forces for the U.S Department of Justice, who also worked in municipal law enforcement in New Jersey. “I’ve never heard of that. Never.” Richard Lichten, a veteran of the LA County Sheriff’s Department and expert on sexual assault investigations agrees: “I have 30 years of experience, I’m qualified to testify in federal court on the way to investigate sexual assault crimes, and I’ve never heard of that,” said Lichten. “In all my life I’ve never heard of that.” “Rape victims should make the best of a bad situation.” On 20 January 2012, Rick Santorum, a former U.S. Senator from Pennsylvania who was then campaigning for the Republican presidential nomination, appeared on CNN’s Piers Morgan Tonight program and was asked by that show’s host about his stance on abortion and whether he believed abortion was wrong even in cases of incest and rape. Santorum responded by saying that although a pregnancy resulting from a rape might be “horrible,” it was nonetheless a “gift of human life” and that “we have to make the best out of a bad situation”: MORGAN: On abortion, you did harden your position on that as you got older. Why was that? SANTORUM: Life. You know, when I decided to run for public life, I was informed very quickly people wanted to know what my position on that was. So I went through the process of trying to better understand the facts. It became very clear to me that life begins at conception and persons are covered by the Constitution and since life — people, a human life is the same as a person, to me it was a pretty simple deduction to make. That’s what the Constitution clearly intended to protect. MORGAN: But do you really — do you really — let me ask you this. Do you really believe, in every case, it should be totally wrong, in the sense that — I know that you believe, even in cases of rape and incest — and you’ve got two daughters. You know, if you have a daughter that came to you who had been raped. SANTORUM: Yes. MORGAN: And was pregnant and was begging you to let her have an abortion, would you really be able to look her in the eye and say, no, as her father? SANTORUM: I would do what every father must do, is to try to counsel your daughter to do the right thing. MORGAN: And they are looking at their daughter, saying, how can I deal with this, because if I make her have this baby, isn’t it going to just ruin her life? SANTORUM: Well, you can make the argument that if she doesn’t have this baby, if she kills her child, that that, too, could ruin her life. And this is not an easy choice. I understand that. As horrible as the way that that son or daughter and son was created, it still is her child. And whether she has that child or doesn’t, it will always be her child. And she will always know that. And so to embrace her and to love her and to support her and get her through this very difficult time, I’ve always, you know, I believe and I think the right approach is to accept this horribly created — in the sense of rape — but nevertheless a gift in a very broken way, the gift of human life, and accept what God has given to you. As you know, we have to, in lots of different aspects of our life. We have horrible things happen. I can’t think of anything more horrible. But, nevertheless, we have to make the best out of a bad situation. “Even when life begins in that horrible situation of rape, that it is something that God intended to happen.” On 23 October 2012, Richard Mourdock, the Republican candidate for one of Indiana’s U.S. Senate seats, was engaged in a debate with his Democratic and Libertarian rivals when he expressed his view that “life begins at conception” and that he would only allow abortions in circumstances in which the mother’s life was in danger: I struggled with it myself for a long time, but I came to realize life is that gift from God. And I think even when life begins in that horrible situation of rape, that it is something that God intended to happen. After the debate, Mourdock explained that when he said “it is something that God intended to happen,” he was referring to the creation of life and not the act of rape itself: Mourdock, seeking to clarify his comments in a press conference following the debate, said he had intended to say that “God creates life,” and that any interpretation of his comments to mean God “pre-ordained rape” were “sick” and “twisted.” “What I said was, in answering the question form my position of faith, I said I believe that God creates life. I believe that as wholly and as fully as I can believe it. That God creates life,” Mourdock said. “Are you trying to suggest that somehow I think that God pre-ordained rape? No, I don’t think that. That’s sick. Twisted. That’s not even close to what I said. What I said is that God creates life.” “In the emergency room they have what’s called rape kits, where a woman can get cleaned out.” On 23 June 2013, Jodie Laubenberg, a Republican member of the Texas House of Representatives, was debating a measure she had introduced to the House that included a ban on abortions after 20 weeks of pregnancy. When Rep. Senfronia Thompson proposed an exemption for victims of rape and incest, Laubenberg argued against that exemption, saying that when a victim seeks medical care after a rape, “they have what’s called rape kits, that the woman can get cleaned out, basically like” [a procedure known as D and C that is often performed after a miscarriage]. She also noted that emergency contraception is available. A few days later, after she was mocked over her remark, Laubenberg said she was “confused by Democrats’ questions and misspoke” and meant to say that rape victims could “obtain emergency contraception and other treatment” at medical facilities: Rape kits are used to collect evidence in hopes of prosecuting the perpetrator. They play no role in preventing pregnancy or serving as an abortion. Laubenberg was widely mocked on social media, and opponents of the bill called her comments evidence of the misguided science behind Laubenberg’s proposal. Laubenberg told North Texas talk radio host Mark Davis that she was momentarily confused by Democrats’ questions and misspoke. “What I was trying to say is, when a woman goes to the hospital, that they have the procedures there” to help her obtain emergency contraception and other treatment, she said. “No, rape kits do not cause an abortion.” As for the reaction, Laubenberg added: “If that’s the worst that you can complain about me, go ahead.” “If a woman has (the right to an abortion), why shouldn’t a man be free to use his superior strength to force himself on a woman? At least the rapist’s pursuit of sexual freedom doesn’t (in most cases) result in anyone’s death.” In February 2014, the Maine Democratic Party called for the resignation of Lawrence Lockman, a Republican member of the Maine House of Representatives, when a liberal activist made a blog post detailing negative public statements about gays, abortion and rape that Lockman had made years earlier: The post by Maine People’s Alliance activist Mike Tipping mined press clippings to unearth several offensive comments. In one, Lockman implied that HIV and AIDS could be spread by bed sheets and mosquitoes. In another, he said that the progressive movement assisted the AIDS epidemic by assuring “the public that the practice of sodomy is a legitimate alternative lifestyle, rather than a perverted and depraved crime against humanity.” In a 1995 letter in the Sun Journal in Lewiston, a reader quoted a press statement by Lockman, then part of the Pro Life Education Association, saying, “If a woman has (the right to an abortion), why shouldn’t a man be free to use his superior strength to force himself on a woman? At least the rapist’s pursuit of sexual freedom doesn’t (in most cases) result in anyone’s death.” Lockman responded to the controversy by issuing a statement affirming that he regretted his previous remarks: Most of the comments were made during the 1980s and 1990s, but Maine Democratic Party chairman Ben Grant issued a statement calling for Lockman’s resignation. Grant said the comments were “hateful, vicious and offensive” and he called Lockman a “disturbed individual who holds some of the most abhorrent beliefs ever heard from a public official in Maine.” Lockman released a written statement. “I have always been passionate about my beliefs, and years ago I said things that I regret. I hold no animosity toward anyone by virtue of their gender or sexual orientation, and today I am focused on ensuring freedom and economic prosperity for all Mainers,” he said.\n",
      "\n"
     ]
    }
   ],
   "source": [
    "t = random.randint(0,2)\n",
    "pieces = datasets[t]\n",
    "arr = top_articles[t]\n",
    "\n",
    "i = random.randint(0, len(pieces)-1)\n",
    "p = pieces[i]\n",
    "rank = arr[i]\n",
    "\n",
    "print(p['content'], p['label'], p['time'])\n",
    "print()\n",
    "\n",
    "for i, idx in enumerate(rank):\n",
    "    print('='*20, 'Top:',i, '='*20, '\\n')\n",
    "    print(raw_articles[idx]['date'])\n",
    "    print(raw_articles[idx]['content'])\n",
    "    print()"
   ]
  },
  {
   "cell_type": "code",
   "execution_count": null,
   "metadata": {},
   "outputs": [],
   "source": []
  }
 ],
 "metadata": {
  "kernelspec": {
   "display_name": "Python 3",
   "language": "python",
   "name": "python3"
  },
  "language_info": {
   "codemirror_mode": {
    "name": "ipython",
    "version": 3
   },
   "file_extension": ".py",
   "mimetype": "text/x-python",
   "name": "python",
   "nbconvert_exporter": "python",
   "pygments_lexer": "ipython3",
   "version": "3.6.10"
  },
  "toc": {
   "base_numbering": 1,
   "nav_menu": {},
   "number_sections": true,
   "sideBar": true,
   "skip_h1_title": false,
   "title_cell": "Table of Contents",
   "title_sidebar": "Contents",
   "toc_cell": false,
   "toc_position": {},
   "toc_section_display": true,
   "toc_window_display": true
  }
 },
 "nbformat": 4,
 "nbformat_minor": 4
}

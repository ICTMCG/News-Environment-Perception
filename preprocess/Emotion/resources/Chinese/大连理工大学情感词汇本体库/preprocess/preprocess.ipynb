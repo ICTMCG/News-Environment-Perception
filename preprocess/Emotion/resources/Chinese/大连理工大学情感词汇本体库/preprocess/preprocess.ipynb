{
 "cells": [
  {
   "cell_type": "markdown",
   "metadata": {},
   "source": [
    "# 资源预处理"
   ]
  },
  {
   "cell_type": "markdown",
   "metadata": {},
   "source": [
    "## 大连理工大学情感词汇本体库"
   ]
  },
  {
   "cell_type": "markdown",
   "metadata": {},
   "source": [
    "### 辅助情感分类的处理"
   ]
  },
  {
   "cell_type": "code",
   "execution_count": 1,
   "metadata": {
    "ExecuteTime": {
     "end_time": "2021-02-26T09:17:32.457574Z",
     "start_time": "2021-02-26T09:17:32.223732Z"
    }
   },
   "outputs": [],
   "source": [
    "import pandas as pd\n",
    "import numpy as np\n",
    "import joblib"
   ]
  },
  {
   "cell_type": "code",
   "execution_count": 2,
   "metadata": {
    "ExecuteTime": {
     "end_time": "2021-02-26T09:17:34.449695Z",
     "start_time": "2021-02-26T09:17:32.459337Z"
    }
   },
   "outputs": [
    {
     "data": {
      "text/plain": [
       "27466"
      ]
     },
     "execution_count": 2,
     "metadata": {},
     "output_type": "execute_result"
    }
   ],
   "source": [
    "df = pd.read_excel('../情感词汇本体.xlsx')\n",
    "\n",
    "del df['Unnamed: 10']\n",
    "del df['Unnamed: 11']\n",
    "# 修改‘PH ’空格（词语：光怪陆离）\n",
    "df.loc[16894, '情感分类'] = 'PH'\n",
    "# 修改‘NA’的缺失（388个）\n",
    "df['情感分类'] = df['情感分类'].fillna('NA')\n",
    "\n",
    "df.rename(columns={'强度.1':'辅助情感强度', '极性.1':'辅助情感极性'}, inplace=True)\n",
    "\n",
    "len(df)"
   ]
  },
  {
   "cell_type": "code",
   "execution_count": 3,
   "metadata": {
    "ExecuteTime": {
     "end_time": "2021-02-26T09:17:34.465593Z",
     "start_time": "2021-02-26T09:17:34.453020Z"
    }
   },
   "outputs": [
    {
     "data": {
      "text/html": [
       "<div>\n",
       "<style scoped>\n",
       "    .dataframe tbody tr th:only-of-type {\n",
       "        vertical-align: middle;\n",
       "    }\n",
       "\n",
       "    .dataframe tbody tr th {\n",
       "        vertical-align: top;\n",
       "    }\n",
       "\n",
       "    .dataframe thead th {\n",
       "        text-align: right;\n",
       "    }\n",
       "</style>\n",
       "<table border=\"1\" class=\"dataframe\">\n",
       "  <thead>\n",
       "    <tr style=\"text-align: right;\">\n",
       "      <th></th>\n",
       "      <th>词语</th>\n",
       "      <th>词性种类</th>\n",
       "      <th>词义数</th>\n",
       "      <th>词义序号</th>\n",
       "      <th>情感分类</th>\n",
       "      <th>强度</th>\n",
       "      <th>极性</th>\n",
       "      <th>辅助情感分类</th>\n",
       "      <th>辅助情感强度</th>\n",
       "      <th>辅助情感极性</th>\n",
       "    </tr>\n",
       "  </thead>\n",
       "  <tbody>\n",
       "    <tr>\n",
       "      <th>0</th>\n",
       "      <td>脏乱</td>\n",
       "      <td>adj</td>\n",
       "      <td>1.0</td>\n",
       "      <td>1.0</td>\n",
       "      <td>NN</td>\n",
       "      <td>7</td>\n",
       "      <td>2</td>\n",
       "      <td>NaN</td>\n",
       "      <td>NaN</td>\n",
       "      <td>NaN</td>\n",
       "    </tr>\n",
       "    <tr>\n",
       "      <th>1</th>\n",
       "      <td>糟报</td>\n",
       "      <td>adj</td>\n",
       "      <td>1.0</td>\n",
       "      <td>1.0</td>\n",
       "      <td>NN</td>\n",
       "      <td>5</td>\n",
       "      <td>2</td>\n",
       "      <td>NaN</td>\n",
       "      <td>NaN</td>\n",
       "      <td>NaN</td>\n",
       "    </tr>\n",
       "    <tr>\n",
       "      <th>2</th>\n",
       "      <td>早衰</td>\n",
       "      <td>adj</td>\n",
       "      <td>1.0</td>\n",
       "      <td>1.0</td>\n",
       "      <td>NE</td>\n",
       "      <td>5</td>\n",
       "      <td>2</td>\n",
       "      <td>NaN</td>\n",
       "      <td>NaN</td>\n",
       "      <td>NaN</td>\n",
       "    </tr>\n",
       "    <tr>\n",
       "      <th>3</th>\n",
       "      <td>责备</td>\n",
       "      <td>verb</td>\n",
       "      <td>1.0</td>\n",
       "      <td>1.0</td>\n",
       "      <td>NN</td>\n",
       "      <td>5</td>\n",
       "      <td>2</td>\n",
       "      <td>NaN</td>\n",
       "      <td>NaN</td>\n",
       "      <td>NaN</td>\n",
       "    </tr>\n",
       "    <tr>\n",
       "      <th>4</th>\n",
       "      <td>贼眼</td>\n",
       "      <td>noun</td>\n",
       "      <td>1.0</td>\n",
       "      <td>1.0</td>\n",
       "      <td>NN</td>\n",
       "      <td>5</td>\n",
       "      <td>2</td>\n",
       "      <td>NaN</td>\n",
       "      <td>NaN</td>\n",
       "      <td>NaN</td>\n",
       "    </tr>\n",
       "  </tbody>\n",
       "</table>\n",
       "</div>"
      ],
      "text/plain": [
       "   词语  词性种类  词义数  词义序号 情感分类  强度  极性 辅助情感分类  辅助情感强度  辅助情感极性\n",
       "0  脏乱   adj  1.0   1.0   NN   7   2    NaN     NaN     NaN\n",
       "1  糟报   adj  1.0   1.0   NN   5   2    NaN     NaN     NaN\n",
       "2  早衰   adj  1.0   1.0   NE   5   2    NaN     NaN     NaN\n",
       "3  责备  verb  1.0   1.0   NN   5   2    NaN     NaN     NaN\n",
       "4  贼眼  noun  1.0   1.0   NN   5   2    NaN     NaN     NaN"
      ]
     },
     "execution_count": 3,
     "metadata": {},
     "output_type": "execute_result"
    }
   ],
   "source": [
    "df.head()"
   ]
  },
  {
   "cell_type": "code",
   "execution_count": 4,
   "metadata": {
    "ExecuteTime": {
     "end_time": "2021-02-26T09:17:34.474553Z",
     "start_time": "2021-02-26T09:17:34.466843Z"
    }
   },
   "outputs": [
    {
     "data": {
      "text/html": [
       "<div>\n",
       "<style scoped>\n",
       "    .dataframe tbody tr th:only-of-type {\n",
       "        vertical-align: middle;\n",
       "    }\n",
       "\n",
       "    .dataframe tbody tr th {\n",
       "        vertical-align: top;\n",
       "    }\n",
       "\n",
       "    .dataframe thead th {\n",
       "        text-align: right;\n",
       "    }\n",
       "</style>\n",
       "<table border=\"1\" class=\"dataframe\">\n",
       "  <thead>\n",
       "    <tr style=\"text-align: right;\">\n",
       "      <th></th>\n",
       "      <th>词语</th>\n",
       "      <th>词性种类</th>\n",
       "      <th>词义数</th>\n",
       "      <th>词义序号</th>\n",
       "      <th>情感分类</th>\n",
       "      <th>强度</th>\n",
       "      <th>极性</th>\n",
       "      <th>辅助情感分类</th>\n",
       "      <th>辅助情感强度</th>\n",
       "      <th>辅助情感极性</th>\n",
       "    </tr>\n",
       "  </thead>\n",
       "  <tbody>\n",
       "  </tbody>\n",
       "</table>\n",
       "</div>"
      ],
      "text/plain": [
       "Empty DataFrame\n",
       "Columns: [词语, 词性种类, 词义数, 词义序号, 情感分类, 强度, 极性, 辅助情感分类, 辅助情感强度, 辅助情感极性]\n",
       "Index: []"
      ]
     },
     "execution_count": 4,
     "metadata": {},
     "output_type": "execute_result"
    }
   ],
   "source": [
    "df[df['情感分类'].isnull()]"
   ]
  },
  {
   "cell_type": "code",
   "execution_count": 5,
   "metadata": {
    "ExecuteTime": {
     "end_time": "2021-02-26T09:17:34.480898Z",
     "start_time": "2021-02-26T09:17:34.475897Z"
    }
   },
   "outputs": [
    {
     "data": {
      "text/plain": [
       "3828"
      ]
     },
     "execution_count": 5,
     "metadata": {},
     "output_type": "execute_result"
    }
   ],
   "source": [
    "have2_emotion_df = df[df['辅助情感分类'].notnull()]\n",
    "len(have2_emotion_df)"
   ]
  },
  {
   "cell_type": "code",
   "execution_count": 6,
   "metadata": {
    "ExecuteTime": {
     "end_time": "2021-02-26T09:17:34.492354Z",
     "start_time": "2021-02-26T09:17:34.482940Z"
    }
   },
   "outputs": [
    {
     "data": {
      "text/html": [
       "<div>\n",
       "<style scoped>\n",
       "    .dataframe tbody tr th:only-of-type {\n",
       "        vertical-align: middle;\n",
       "    }\n",
       "\n",
       "    .dataframe tbody tr th {\n",
       "        vertical-align: top;\n",
       "    }\n",
       "\n",
       "    .dataframe thead th {\n",
       "        text-align: right;\n",
       "    }\n",
       "</style>\n",
       "<table border=\"1\" class=\"dataframe\">\n",
       "  <thead>\n",
       "    <tr style=\"text-align: right;\">\n",
       "      <th></th>\n",
       "      <th>词语</th>\n",
       "      <th>词性种类</th>\n",
       "      <th>词义数</th>\n",
       "      <th>词义序号</th>\n",
       "      <th>情感分类</th>\n",
       "      <th>强度</th>\n",
       "      <th>极性</th>\n",
       "      <th>辅助情感分类</th>\n",
       "      <th>辅助情感强度</th>\n",
       "      <th>辅助情感极性</th>\n",
       "    </tr>\n",
       "  </thead>\n",
       "  <tbody>\n",
       "    <tr>\n",
       "      <th>5</th>\n",
       "      <td>战祸</td>\n",
       "      <td>noun</td>\n",
       "      <td>1.0</td>\n",
       "      <td>1.0</td>\n",
       "      <td>ND</td>\n",
       "      <td>5</td>\n",
       "      <td>2</td>\n",
       "      <td>NC</td>\n",
       "      <td>5.0</td>\n",
       "      <td>2.0</td>\n",
       "    </tr>\n",
       "    <tr>\n",
       "      <th>7</th>\n",
       "      <td>折辱</td>\n",
       "      <td>noun</td>\n",
       "      <td>1.0</td>\n",
       "      <td>1.0</td>\n",
       "      <td>NE</td>\n",
       "      <td>5</td>\n",
       "      <td>2</td>\n",
       "      <td>NN</td>\n",
       "      <td>5.0</td>\n",
       "      <td>2.0</td>\n",
       "    </tr>\n",
       "    <tr>\n",
       "      <th>20</th>\n",
       "      <td>神采</td>\n",
       "      <td>adj</td>\n",
       "      <td>1.0</td>\n",
       "      <td>1.0</td>\n",
       "      <td>PA</td>\n",
       "      <td>5</td>\n",
       "      <td>1</td>\n",
       "      <td>PH</td>\n",
       "      <td>1.0</td>\n",
       "      <td>1.0</td>\n",
       "    </tr>\n",
       "    <tr>\n",
       "      <th>23</th>\n",
       "      <td>盛誉</td>\n",
       "      <td>noun</td>\n",
       "      <td>1.0</td>\n",
       "      <td>1.0</td>\n",
       "      <td>PH</td>\n",
       "      <td>5</td>\n",
       "      <td>1</td>\n",
       "      <td>PA</td>\n",
       "      <td>1.0</td>\n",
       "      <td>1.0</td>\n",
       "    </tr>\n",
       "    <tr>\n",
       "      <th>71</th>\n",
       "      <td>友邻</td>\n",
       "      <td>adj</td>\n",
       "      <td>1.0</td>\n",
       "      <td>1.0</td>\n",
       "      <td>PH</td>\n",
       "      <td>5</td>\n",
       "      <td>1</td>\n",
       "      <td>PB</td>\n",
       "      <td>3.0</td>\n",
       "      <td>1.0</td>\n",
       "    </tr>\n",
       "  </tbody>\n",
       "</table>\n",
       "</div>"
      ],
      "text/plain": [
       "    词语  词性种类  词义数  词义序号 情感分类  强度  极性 辅助情感分类  辅助情感强度  辅助情感极性\n",
       "5   战祸  noun  1.0   1.0   ND   5   2     NC     5.0     2.0\n",
       "7   折辱  noun  1.0   1.0   NE   5   2     NN     5.0     2.0\n",
       "20  神采   adj  1.0   1.0   PA   5   1     PH     1.0     1.0\n",
       "23  盛誉  noun  1.0   1.0   PH   5   1     PA     1.0     1.0\n",
       "71  友邻   adj  1.0   1.0   PH   5   1     PB     3.0     1.0"
      ]
     },
     "execution_count": 6,
     "metadata": {},
     "output_type": "execute_result"
    }
   ],
   "source": [
    "have2_emotion_df.head()"
   ]
  },
  {
   "cell_type": "code",
   "execution_count": 7,
   "metadata": {
    "ExecuteTime": {
     "end_time": "2021-02-26T09:17:34.498610Z",
     "start_time": "2021-02-26T09:17:34.493734Z"
    }
   },
   "outputs": [
    {
     "data": {
      "text/plain": [
       "27466"
      ]
     },
     "execution_count": 7,
     "metadata": {},
     "output_type": "execute_result"
    }
   ],
   "source": [
    "words = df['词语'].tolist()\n",
    "emotions = df['情感分类'].tolist()\n",
    "intensities = df['强度'].tolist()\n",
    "polarities = df['极性'].tolist()\n",
    "\n",
    "len(words)"
   ]
  },
  {
   "cell_type": "code",
   "execution_count": 8,
   "metadata": {
    "ExecuteTime": {
     "end_time": "2021-02-26T09:17:34.504411Z",
     "start_time": "2021-02-26T09:17:34.499862Z"
    }
   },
   "outputs": [
    {
     "data": {
      "text/plain": [
       "(31294, 27466)"
      ]
     },
     "execution_count": 8,
     "metadata": {},
     "output_type": "execute_result"
    }
   ],
   "source": [
    "words += have2_emotion_df['词语'].tolist()\n",
    "emotions += have2_emotion_df['辅助情感分类'].tolist()\n",
    "intensities += have2_emotion_df['辅助情感强度'].tolist()\n",
    "polarities += have2_emotion_df['辅助情感极性'].tolist()\n",
    "\n",
    "len(words), len(words) - len(have2_emotion_df)"
   ]
  },
  {
   "cell_type": "code",
   "execution_count": 9,
   "metadata": {
    "ExecuteTime": {
     "end_time": "2021-02-26T09:17:34.524369Z",
     "start_time": "2021-02-26T09:17:34.505574Z"
    }
   },
   "outputs": [
    {
     "data": {
      "text/plain": [
       "31294"
      ]
     },
     "execution_count": 9,
     "metadata": {},
     "output_type": "execute_result"
    }
   ],
   "source": [
    "pure_df = pd.DataFrame({'word': words, 'emotion': emotions,\n",
    "                        'intensity': intensities, 'polarity': polarities})\n",
    "len(pure_df)"
   ]
  },
  {
   "cell_type": "code",
   "execution_count": 10,
   "metadata": {
    "ExecuteTime": {
     "end_time": "2021-02-26T09:17:34.532600Z",
     "start_time": "2021-02-26T09:17:34.525586Z"
    }
   },
   "outputs": [
    {
     "data": {
      "text/html": [
       "<div>\n",
       "<style scoped>\n",
       "    .dataframe tbody tr th:only-of-type {\n",
       "        vertical-align: middle;\n",
       "    }\n",
       "\n",
       "    .dataframe tbody tr th {\n",
       "        vertical-align: top;\n",
       "    }\n",
       "\n",
       "    .dataframe thead th {\n",
       "        text-align: right;\n",
       "    }\n",
       "</style>\n",
       "<table border=\"1\" class=\"dataframe\">\n",
       "  <thead>\n",
       "    <tr style=\"text-align: right;\">\n",
       "      <th></th>\n",
       "      <th>word</th>\n",
       "      <th>emotion</th>\n",
       "      <th>intensity</th>\n",
       "      <th>polarity</th>\n",
       "    </tr>\n",
       "  </thead>\n",
       "  <tbody>\n",
       "    <tr>\n",
       "      <th>0</th>\n",
       "      <td>脏乱</td>\n",
       "      <td>NN</td>\n",
       "      <td>7.0</td>\n",
       "      <td>2.0</td>\n",
       "    </tr>\n",
       "    <tr>\n",
       "      <th>1</th>\n",
       "      <td>糟报</td>\n",
       "      <td>NN</td>\n",
       "      <td>5.0</td>\n",
       "      <td>2.0</td>\n",
       "    </tr>\n",
       "    <tr>\n",
       "      <th>2</th>\n",
       "      <td>早衰</td>\n",
       "      <td>NE</td>\n",
       "      <td>5.0</td>\n",
       "      <td>2.0</td>\n",
       "    </tr>\n",
       "    <tr>\n",
       "      <th>3</th>\n",
       "      <td>责备</td>\n",
       "      <td>NN</td>\n",
       "      <td>5.0</td>\n",
       "      <td>2.0</td>\n",
       "    </tr>\n",
       "    <tr>\n",
       "      <th>4</th>\n",
       "      <td>贼眼</td>\n",
       "      <td>NN</td>\n",
       "      <td>5.0</td>\n",
       "      <td>2.0</td>\n",
       "    </tr>\n",
       "  </tbody>\n",
       "</table>\n",
       "</div>"
      ],
      "text/plain": [
       "  word emotion  intensity  polarity\n",
       "0   脏乱      NN        7.0       2.0\n",
       "1   糟报      NN        5.0       2.0\n",
       "2   早衰      NE        5.0       2.0\n",
       "3   责备      NN        5.0       2.0\n",
       "4   贼眼      NN        5.0       2.0"
      ]
     },
     "execution_count": 10,
     "metadata": {},
     "output_type": "execute_result"
    }
   ],
   "source": [
    "pure_df.head()"
   ]
  },
  {
   "cell_type": "code",
   "execution_count": 11,
   "metadata": {
    "ExecuteTime": {
     "end_time": "2021-02-26T09:17:34.539923Z",
     "start_time": "2021-02-26T09:17:34.533860Z"
    }
   },
   "outputs": [
    {
     "name": "stdout",
     "output_type": "stream",
     "text": [
      "31294\n",
      "27351\n"
     ]
    }
   ],
   "source": [
    "words = pure_df['word'].tolist()\n",
    "print(len(words))\n",
    "print(len(set(words)))"
   ]
  },
  {
   "cell_type": "code",
   "execution_count": 12,
   "metadata": {
    "ExecuteTime": {
     "end_time": "2021-02-26T09:17:34.555392Z",
     "start_time": "2021-02-26T09:17:34.541118Z"
    }
   },
   "outputs": [
    {
     "data": {
      "text/plain": [
       "无赖          5\n",
       "好事          4\n",
       "燕雀安知鸿鹄之志    3\n",
       "轻飘          3\n",
       "呜呼哀哉        3\n",
       "Name: word, dtype: int64"
      ]
     },
     "execution_count": 12,
     "metadata": {},
     "output_type": "execute_result"
    }
   ],
   "source": [
    "pure_df['word'].value_counts().head()"
   ]
  },
  {
   "cell_type": "code",
   "execution_count": 13,
   "metadata": {
    "ExecuteTime": {
     "end_time": "2021-02-26T09:17:34.567703Z",
     "start_time": "2021-02-26T09:17:34.556569Z"
    }
   },
   "outputs": [
    {
     "data": {
      "text/html": [
       "<div>\n",
       "<style scoped>\n",
       "    .dataframe tbody tr th:only-of-type {\n",
       "        vertical-align: middle;\n",
       "    }\n",
       "\n",
       "    .dataframe tbody tr th {\n",
       "        vertical-align: top;\n",
       "    }\n",
       "\n",
       "    .dataframe thead th {\n",
       "        text-align: right;\n",
       "    }\n",
       "</style>\n",
       "<table border=\"1\" class=\"dataframe\">\n",
       "  <thead>\n",
       "    <tr style=\"text-align: right;\">\n",
       "      <th></th>\n",
       "      <th>词语</th>\n",
       "      <th>词性种类</th>\n",
       "      <th>词义数</th>\n",
       "      <th>词义序号</th>\n",
       "      <th>情感分类</th>\n",
       "      <th>强度</th>\n",
       "      <th>极性</th>\n",
       "      <th>辅助情感分类</th>\n",
       "      <th>辅助情感强度</th>\n",
       "      <th>辅助情感极性</th>\n",
       "    </tr>\n",
       "  </thead>\n",
       "  <tbody>\n",
       "    <tr>\n",
       "      <th>3504</th>\n",
       "      <td>无赖</td>\n",
       "      <td>noun</td>\n",
       "      <td>1.0</td>\n",
       "      <td>1.0</td>\n",
       "      <td>NN</td>\n",
       "      <td>7</td>\n",
       "      <td>2</td>\n",
       "      <td>NaN</td>\n",
       "      <td>NaN</td>\n",
       "      <td>NaN</td>\n",
       "    </tr>\n",
       "    <tr>\n",
       "      <th>14737</th>\n",
       "      <td>无赖</td>\n",
       "      <td>adv</td>\n",
       "      <td>4.0</td>\n",
       "      <td>1.0</td>\n",
       "      <td>ND</td>\n",
       "      <td>9</td>\n",
       "      <td>2</td>\n",
       "      <td>NN</td>\n",
       "      <td>9.0</td>\n",
       "      <td>2.0</td>\n",
       "    </tr>\n",
       "    <tr>\n",
       "      <th>14738</th>\n",
       "      <td>无赖</td>\n",
       "      <td>adv</td>\n",
       "      <td>4.0</td>\n",
       "      <td>3.0</td>\n",
       "      <td>ND</td>\n",
       "      <td>9</td>\n",
       "      <td>2</td>\n",
       "      <td>NN</td>\n",
       "      <td>9.0</td>\n",
       "      <td>2.0</td>\n",
       "    </tr>\n",
       "  </tbody>\n",
       "</table>\n",
       "</div>"
      ],
      "text/plain": [
       "       词语  词性种类  词义数  词义序号 情感分类  强度  极性 辅助情感分类  辅助情感强度  辅助情感极性\n",
       "3504   无赖  noun  1.0   1.0   NN   7   2    NaN     NaN     NaN\n",
       "14737  无赖   adv  4.0   1.0   ND   9   2     NN     9.0     2.0\n",
       "14738  无赖   adv  4.0   3.0   ND   9   2     NN     9.0     2.0"
      ]
     },
     "execution_count": 13,
     "metadata": {},
     "output_type": "execute_result"
    }
   ],
   "source": [
    "df[df['词语']=='无赖']"
   ]
  },
  {
   "cell_type": "code",
   "execution_count": 14,
   "metadata": {
    "ExecuteTime": {
     "end_time": "2021-02-26T09:17:34.579023Z",
     "start_time": "2021-02-26T09:17:34.568918Z"
    }
   },
   "outputs": [
    {
     "data": {
      "text/html": [
       "<div>\n",
       "<style scoped>\n",
       "    .dataframe tbody tr th:only-of-type {\n",
       "        vertical-align: middle;\n",
       "    }\n",
       "\n",
       "    .dataframe tbody tr th {\n",
       "        vertical-align: top;\n",
       "    }\n",
       "\n",
       "    .dataframe thead th {\n",
       "        text-align: right;\n",
       "    }\n",
       "</style>\n",
       "<table border=\"1\" class=\"dataframe\">\n",
       "  <thead>\n",
       "    <tr style=\"text-align: right;\">\n",
       "      <th></th>\n",
       "      <th>word</th>\n",
       "      <th>emotion</th>\n",
       "      <th>intensity</th>\n",
       "      <th>polarity</th>\n",
       "    </tr>\n",
       "  </thead>\n",
       "  <tbody>\n",
       "    <tr>\n",
       "      <th>3504</th>\n",
       "      <td>无赖</td>\n",
       "      <td>NN</td>\n",
       "      <td>7.0</td>\n",
       "      <td>2.0</td>\n",
       "    </tr>\n",
       "    <tr>\n",
       "      <th>14737</th>\n",
       "      <td>无赖</td>\n",
       "      <td>ND</td>\n",
       "      <td>9.0</td>\n",
       "      <td>2.0</td>\n",
       "    </tr>\n",
       "    <tr>\n",
       "      <th>14738</th>\n",
       "      <td>无赖</td>\n",
       "      <td>ND</td>\n",
       "      <td>9.0</td>\n",
       "      <td>2.0</td>\n",
       "    </tr>\n",
       "    <tr>\n",
       "      <th>30717</th>\n",
       "      <td>无赖</td>\n",
       "      <td>NN</td>\n",
       "      <td>9.0</td>\n",
       "      <td>2.0</td>\n",
       "    </tr>\n",
       "    <tr>\n",
       "      <th>30718</th>\n",
       "      <td>无赖</td>\n",
       "      <td>NN</td>\n",
       "      <td>9.0</td>\n",
       "      <td>2.0</td>\n",
       "    </tr>\n",
       "  </tbody>\n",
       "</table>\n",
       "</div>"
      ],
      "text/plain": [
       "      word emotion  intensity  polarity\n",
       "3504    无赖      NN        7.0       2.0\n",
       "14737   无赖      ND        9.0       2.0\n",
       "14738   无赖      ND        9.0       2.0\n",
       "30717   无赖      NN        9.0       2.0\n",
       "30718   无赖      NN        9.0       2.0"
      ]
     },
     "execution_count": 14,
     "metadata": {},
     "output_type": "execute_result"
    }
   ],
   "source": [
    "pure_df[pure_df['word']=='无赖']"
   ]
  },
  {
   "cell_type": "code",
   "execution_count": 15,
   "metadata": {
    "ExecuteTime": {
     "end_time": "2021-02-26T09:17:34.600508Z",
     "start_time": "2021-02-26T09:17:34.580231Z"
    }
   },
   "outputs": [
    {
     "name": "stdout",
     "output_type": "stream",
     "text": [
      "31294\n",
      "31266\n"
     ]
    },
    {
     "data": {
      "text/plain": [
       "31264"
      ]
     },
     "execution_count": 15,
     "metadata": {},
     "output_type": "execute_result"
    }
   ],
   "source": [
    "print(len(pure_df))\n",
    "pure_df.drop_duplicates(inplace=True)\n",
    "print(len(pure_df))\n",
    "pure_df.dropna(inplace=True)\n",
    "len(pure_df)"
   ]
  },
  {
   "cell_type": "code",
   "execution_count": 16,
   "metadata": {
    "ExecuteTime": {
     "end_time": "2021-02-26T09:17:34.608538Z",
     "start_time": "2021-02-26T09:17:34.601842Z"
    }
   },
   "outputs": [
    {
     "data": {
      "text/html": [
       "<div>\n",
       "<style scoped>\n",
       "    .dataframe tbody tr th:only-of-type {\n",
       "        vertical-align: middle;\n",
       "    }\n",
       "\n",
       "    .dataframe tbody tr th {\n",
       "        vertical-align: top;\n",
       "    }\n",
       "\n",
       "    .dataframe thead th {\n",
       "        text-align: right;\n",
       "    }\n",
       "</style>\n",
       "<table border=\"1\" class=\"dataframe\">\n",
       "  <thead>\n",
       "    <tr style=\"text-align: right;\">\n",
       "      <th></th>\n",
       "      <th>word</th>\n",
       "      <th>emotion</th>\n",
       "      <th>intensity</th>\n",
       "      <th>polarity</th>\n",
       "    </tr>\n",
       "  </thead>\n",
       "  <tbody>\n",
       "  </tbody>\n",
       "</table>\n",
       "</div>"
      ],
      "text/plain": [
       "Empty DataFrame\n",
       "Columns: [word, emotion, intensity, polarity]\n",
       "Index: []"
      ]
     },
     "execution_count": 16,
     "metadata": {},
     "output_type": "execute_result"
    }
   ],
   "source": [
    "pure_df[pure_df['emotion'].isnull()]"
   ]
  },
  {
   "cell_type": "code",
   "execution_count": 17,
   "metadata": {
    "ExecuteTime": {
     "end_time": "2021-02-26T09:17:34.615951Z",
     "start_time": "2021-02-26T09:17:34.609790Z"
    }
   },
   "outputs": [
    {
     "name": "stdout",
     "output_type": "stream",
     "text": [
      "31264\n",
      "27351\n"
     ]
    }
   ],
   "source": [
    "words = pure_df['word'].tolist()\n",
    "print(len(words))\n",
    "print(len(set(words)))"
   ]
  },
  {
   "cell_type": "code",
   "execution_count": 18,
   "metadata": {
    "ExecuteTime": {
     "end_time": "2021-02-26T09:17:34.632009Z",
     "start_time": "2021-02-26T09:17:34.617273Z"
    }
   },
   "outputs": [
    {
     "data": {
      "text/plain": [
       "好事      4\n",
       "内乱      3\n",
       "轻飘      3\n",
       "郁结      3\n",
       "呜呼哀哉    3\n",
       "Name: word, dtype: int64"
      ]
     },
     "execution_count": 18,
     "metadata": {},
     "output_type": "execute_result"
    }
   ],
   "source": [
    "pure_df['word'].value_counts().head()"
   ]
  },
  {
   "cell_type": "code",
   "execution_count": 19,
   "metadata": {
    "ExecuteTime": {
     "end_time": "2021-02-26T09:17:34.641725Z",
     "start_time": "2021-02-26T09:17:34.633192Z"
    }
   },
   "outputs": [
    {
     "data": {
      "text/html": [
       "<div>\n",
       "<style scoped>\n",
       "    .dataframe tbody tr th:only-of-type {\n",
       "        vertical-align: middle;\n",
       "    }\n",
       "\n",
       "    .dataframe tbody tr th {\n",
       "        vertical-align: top;\n",
       "    }\n",
       "\n",
       "    .dataframe thead th {\n",
       "        text-align: right;\n",
       "    }\n",
       "</style>\n",
       "<table border=\"1\" class=\"dataframe\">\n",
       "  <thead>\n",
       "    <tr style=\"text-align: right;\">\n",
       "      <th></th>\n",
       "      <th>word</th>\n",
       "      <th>emotion</th>\n",
       "      <th>intensity</th>\n",
       "      <th>polarity</th>\n",
       "    </tr>\n",
       "  </thead>\n",
       "  <tbody>\n",
       "    <tr>\n",
       "      <th>5689</th>\n",
       "      <td>好事</td>\n",
       "      <td>NN</td>\n",
       "      <td>5.0</td>\n",
       "      <td>2.0</td>\n",
       "    </tr>\n",
       "    <tr>\n",
       "      <th>9633</th>\n",
       "      <td>好事</td>\n",
       "      <td>PH</td>\n",
       "      <td>5.0</td>\n",
       "      <td>1.0</td>\n",
       "    </tr>\n",
       "    <tr>\n",
       "      <th>9659</th>\n",
       "      <td>好事</td>\n",
       "      <td>PA</td>\n",
       "      <td>3.0</td>\n",
       "      <td>3.0</td>\n",
       "    </tr>\n",
       "    <tr>\n",
       "      <th>29814</th>\n",
       "      <td>好事</td>\n",
       "      <td>NN</td>\n",
       "      <td>1.0</td>\n",
       "      <td>3.0</td>\n",
       "    </tr>\n",
       "  </tbody>\n",
       "</table>\n",
       "</div>"
      ],
      "text/plain": [
       "      word emotion  intensity  polarity\n",
       "5689    好事      NN        5.0       2.0\n",
       "9633    好事      PH        5.0       1.0\n",
       "9659    好事      PA        3.0       3.0\n",
       "29814   好事      NN        1.0       3.0"
      ]
     },
     "execution_count": 19,
     "metadata": {},
     "output_type": "execute_result"
    }
   ],
   "source": [
    "pure_df[pure_df['word']=='好事']"
   ]
  },
  {
   "cell_type": "markdown",
   "metadata": {},
   "source": [
    "最多的词重复了3次，因此维度为 21 + 1 \\* 4 + 1 \\* 4 = 29"
   ]
  },
  {
   "cell_type": "code",
   "execution_count": 20,
   "metadata": {
    "ExecuteTime": {
     "end_time": "2021-02-26T09:17:34.707486Z",
     "start_time": "2021-02-26T09:17:34.643069Z"
    }
   },
   "outputs": [],
   "source": [
    "pure_df.to_csv('emotion_words_{}.csv'.format(len(pure_df)), index=None)"
   ]
  },
  {
   "cell_type": "markdown",
   "metadata": {},
   "source": [
    "### 导出 词语-矩阵"
   ]
  },
  {
   "cell_type": "code",
   "execution_count": 21,
   "metadata": {
    "ExecuteTime": {
     "end_time": "2021-02-26T09:17:34.712510Z",
     "start_time": "2021-02-26T09:17:34.710134Z"
    }
   },
   "outputs": [],
   "source": [
    "import pandas as pd\n",
    "import joblib\n",
    "import numpy as np"
   ]
  },
  {
   "cell_type": "code",
   "execution_count": 22,
   "metadata": {
    "ExecuteTime": {
     "end_time": "2021-02-26T09:17:34.734084Z",
     "start_time": "2021-02-26T09:17:34.714178Z"
    }
   },
   "outputs": [
    {
     "data": {
      "text/plain": [
       "31264"
      ]
     },
     "execution_count": 22,
     "metadata": {},
     "output_type": "execute_result"
    }
   ],
   "source": [
    "df = pd.read_csv('emotion_words_31264.csv', keep_default_na=False)\n",
    "len(df)"
   ]
  },
  {
   "cell_type": "code",
   "execution_count": 23,
   "metadata": {
    "ExecuteTime": {
     "end_time": "2021-02-26T09:17:34.742878Z",
     "start_time": "2021-02-26T09:17:34.735413Z"
    }
   },
   "outputs": [
    {
     "data": {
      "text/html": [
       "<div>\n",
       "<style scoped>\n",
       "    .dataframe tbody tr th:only-of-type {\n",
       "        vertical-align: middle;\n",
       "    }\n",
       "\n",
       "    .dataframe tbody tr th {\n",
       "        vertical-align: top;\n",
       "    }\n",
       "\n",
       "    .dataframe thead th {\n",
       "        text-align: right;\n",
       "    }\n",
       "</style>\n",
       "<table border=\"1\" class=\"dataframe\">\n",
       "  <thead>\n",
       "    <tr style=\"text-align: right;\">\n",
       "      <th></th>\n",
       "      <th>word</th>\n",
       "      <th>emotion</th>\n",
       "      <th>intensity</th>\n",
       "      <th>polarity</th>\n",
       "    </tr>\n",
       "  </thead>\n",
       "  <tbody>\n",
       "    <tr>\n",
       "      <th>0</th>\n",
       "      <td>脏乱</td>\n",
       "      <td>NN</td>\n",
       "      <td>7.0</td>\n",
       "      <td>2.0</td>\n",
       "    </tr>\n",
       "    <tr>\n",
       "      <th>1</th>\n",
       "      <td>糟报</td>\n",
       "      <td>NN</td>\n",
       "      <td>5.0</td>\n",
       "      <td>2.0</td>\n",
       "    </tr>\n",
       "    <tr>\n",
       "      <th>2</th>\n",
       "      <td>早衰</td>\n",
       "      <td>NE</td>\n",
       "      <td>5.0</td>\n",
       "      <td>2.0</td>\n",
       "    </tr>\n",
       "    <tr>\n",
       "      <th>3</th>\n",
       "      <td>责备</td>\n",
       "      <td>NN</td>\n",
       "      <td>5.0</td>\n",
       "      <td>2.0</td>\n",
       "    </tr>\n",
       "    <tr>\n",
       "      <th>4</th>\n",
       "      <td>贼眼</td>\n",
       "      <td>NN</td>\n",
       "      <td>5.0</td>\n",
       "      <td>2.0</td>\n",
       "    </tr>\n",
       "  </tbody>\n",
       "</table>\n",
       "</div>"
      ],
      "text/plain": [
       "  word emotion  intensity  polarity\n",
       "0   脏乱      NN        7.0       2.0\n",
       "1   糟报      NN        5.0       2.0\n",
       "2   早衰      NE        5.0       2.0\n",
       "3   责备      NN        5.0       2.0\n",
       "4   贼眼      NN        5.0       2.0"
      ]
     },
     "execution_count": 23,
     "metadata": {},
     "output_type": "execute_result"
    }
   ],
   "source": [
    "df.head()"
   ]
  },
  {
   "cell_type": "code",
   "execution_count": 24,
   "metadata": {
    "ExecuteTime": {
     "end_time": "2021-02-26T09:17:34.749275Z",
     "start_time": "2021-02-26T09:17:34.744155Z"
    }
   },
   "outputs": [
    {
     "name": "stdout",
     "output_type": "stream",
     "text": [
      "21\n"
     ]
    },
    {
     "data": {
      "text/plain": [
       "['NA',\n",
       " 'NB',\n",
       " 'NC',\n",
       " 'ND',\n",
       " 'NE',\n",
       " 'NG',\n",
       " 'NH',\n",
       " 'NI',\n",
       " 'NJ',\n",
       " 'NK',\n",
       " 'NL',\n",
       " 'NN',\n",
       " 'PA',\n",
       " 'PB',\n",
       " 'PC',\n",
       " 'PD',\n",
       " 'PE',\n",
       " 'PF',\n",
       " 'PG',\n",
       " 'PH',\n",
       " 'PK']"
      ]
     },
     "execution_count": 24,
     "metadata": {},
     "output_type": "execute_result"
    }
   ],
   "source": [
    "categories = list(set(df['emotion'].tolist()))\n",
    "categories.sort()\n",
    "print(len(categories))\n",
    "\n",
    "categories"
   ]
  },
  {
   "cell_type": "code",
   "execution_count": 25,
   "metadata": {
    "ExecuteTime": {
     "end_time": "2021-02-26T09:17:34.755043Z",
     "start_time": "2021-02-26T09:17:34.750561Z"
    }
   },
   "outputs": [],
   "source": [
    "category2name = dict()\n",
    "category2name['PA'] = '快乐'\n",
    "category2name['PE'] = '安心'\n",
    "category2name['PD'] = '尊敬'\n",
    "category2name['PH'] = '赞扬'\n",
    "category2name['PG'] = '相信'\n",
    "category2name['PB'] = '喜爱'\n",
    "category2name['PK'] = '祝愿'\n",
    "category2name['NA'] = '愤怒'\n",
    "category2name['NB'] = '悲伤'\n",
    "category2name['NJ'] = '失望'\n",
    "category2name['NH'] = '疚'\n",
    "category2name['PF'] = '思'\n",
    "category2name['NI'] = '慌'\n",
    "category2name['NC'] = '恐惧'\n",
    "category2name['NG'] = '羞'\n",
    "category2name['NE'] = '烦闷'\n",
    "category2name['ND'] = '憎恶'\n",
    "category2name['NN'] = '贬责'\n",
    "category2name['NK'] = '妒忌'\n",
    "category2name['NL'] = '怀疑'\n",
    "category2name['PC'] = '惊奇'"
   ]
  },
  {
   "cell_type": "code",
   "execution_count": 26,
   "metadata": {
    "ExecuteTime": {
     "end_time": "2021-02-26T09:17:34.759671Z",
     "start_time": "2021-02-26T09:17:34.756308Z"
    }
   },
   "outputs": [
    {
     "data": {
      "text/plain": [
       "(21,\n",
       " ['愤怒',\n",
       "  '悲伤',\n",
       "  '恐惧',\n",
       "  '憎恶',\n",
       "  '烦闷',\n",
       "  '羞',\n",
       "  '疚',\n",
       "  '慌',\n",
       "  '失望',\n",
       "  '妒忌',\n",
       "  '怀疑',\n",
       "  '贬责',\n",
       "  '快乐',\n",
       "  '喜爱',\n",
       "  '惊奇',\n",
       "  '尊敬',\n",
       "  '安心',\n",
       "  '思',\n",
       "  '相信',\n",
       "  '赞扬',\n",
       "  '祝愿'])"
      ]
     },
     "execution_count": 26,
     "metadata": {},
     "output_type": "execute_result"
    }
   ],
   "source": [
    "names = [category2name[c] for c in categories]\n",
    "len(names), names"
   ]
  },
  {
   "cell_type": "code",
   "execution_count": 27,
   "metadata": {
    "ExecuteTime": {
     "end_time": "2021-02-26T09:17:34.764352Z",
     "start_time": "2021-02-26T09:17:34.760773Z"
    }
   },
   "outputs": [
    {
     "data": {
      "text/plain": [
       "{'NA': 0,\n",
       " 'NB': 1,\n",
       " 'NC': 2,\n",
       " 'ND': 3,\n",
       " 'NE': 4,\n",
       " 'NG': 5,\n",
       " 'NH': 6,\n",
       " 'NI': 7,\n",
       " 'NJ': 8,\n",
       " 'NK': 9,\n",
       " 'NL': 10,\n",
       " 'NN': 11,\n",
       " 'PA': 12,\n",
       " 'PB': 13,\n",
       " 'PC': 14,\n",
       " 'PD': 15,\n",
       " 'PE': 16,\n",
       " 'PF': 17,\n",
       " 'PG': 18,\n",
       " 'PH': 19,\n",
       " 'PK': 20}"
      ]
     },
     "execution_count": 27,
     "metadata": {},
     "output_type": "execute_result"
    }
   ],
   "source": [
    "category2index = dict(zip(categories, [i for i in range(len(categories))]))\n",
    "\n",
    "category2index"
   ]
  },
  {
   "cell_type": "code",
   "execution_count": 28,
   "metadata": {
    "ExecuteTime": {
     "end_time": "2021-02-26T09:17:34.770300Z",
     "start_time": "2021-02-26T09:17:34.765424Z"
    }
   },
   "outputs": [],
   "source": [
    "words = df['word'].tolist()\n",
    "emotions = df['emotion'].tolist()\n",
    "intensities = df['intensity'].tolist()\n",
    "polarities = df['polarity'].tolist()"
   ]
  },
  {
   "cell_type": "code",
   "execution_count": 29,
   "metadata": {
    "ExecuteTime": {
     "end_time": "2021-02-26T09:17:34.838772Z",
     "start_time": "2021-02-26T09:17:34.771447Z"
    }
   },
   "outputs": [],
   "source": [
    "words2array = dict()\n",
    "words2occur = dict()\n",
    "\n",
    "for i, word in enumerate(words):\n",
    "    emotion = emotions[i]\n",
    "    intensity = intensities[i]\n",
    "    polarity = polarities[i]\n",
    "    \n",
    "    if word not in words2array.keys():\n",
    "        arr = np.zeros(29)\n",
    "        arr[category2index[emotion]] += 1\n",
    "        arr[21] = intensity\n",
    "        arr[25] = polarity\n",
    "        \n",
    "        words2array[word] = arr\n",
    "        words2occur[word] = 1\n",
    "        \n",
    "    else:\n",
    "        words2array[word][category2index[emotion]] += 1\n",
    "        words2array[word][21 + words2occur[word]] = intensity\n",
    "        words2array[word][25 + words2occur[word]] = polarity\n",
    "        \n",
    "        words2occur[word] += 1"
   ]
  },
  {
   "cell_type": "code",
   "execution_count": 30,
   "metadata": {
    "ExecuteTime": {
     "end_time": "2021-02-26T09:17:34.843572Z",
     "start_time": "2021-02-26T09:17:34.840261Z"
    }
   },
   "outputs": [
    {
     "data": {
      "text/plain": [
       "27351"
      ]
     },
     "execution_count": 30,
     "metadata": {},
     "output_type": "execute_result"
    }
   ],
   "source": [
    "len(words2array)"
   ]
  },
  {
   "cell_type": "code",
   "execution_count": 31,
   "metadata": {
    "ExecuteTime": {
     "end_time": "2021-02-26T09:17:34.861604Z",
     "start_time": "2021-02-26T09:17:34.844855Z"
    }
   },
   "outputs": [
    {
     "data": {
      "text/plain": [
       "好事      4\n",
       "内乱      3\n",
       "靠不住     3\n",
       "心虚      3\n",
       "暗送秋波    3\n",
       "Name: word, dtype: int64"
      ]
     },
     "execution_count": 31,
     "metadata": {},
     "output_type": "execute_result"
    }
   ],
   "source": [
    "df['word'].value_counts().head()"
   ]
  },
  {
   "cell_type": "code",
   "execution_count": 32,
   "metadata": {
    "ExecuteTime": {
     "end_time": "2021-02-26T09:17:34.872045Z",
     "start_time": "2021-02-26T09:17:34.862988Z"
    }
   },
   "outputs": [
    {
     "data": {
      "text/html": [
       "<div>\n",
       "<style scoped>\n",
       "    .dataframe tbody tr th:only-of-type {\n",
       "        vertical-align: middle;\n",
       "    }\n",
       "\n",
       "    .dataframe tbody tr th {\n",
       "        vertical-align: top;\n",
       "    }\n",
       "\n",
       "    .dataframe thead th {\n",
       "        text-align: right;\n",
       "    }\n",
       "</style>\n",
       "<table border=\"1\" class=\"dataframe\">\n",
       "  <thead>\n",
       "    <tr style=\"text-align: right;\">\n",
       "      <th></th>\n",
       "      <th>word</th>\n",
       "      <th>emotion</th>\n",
       "      <th>intensity</th>\n",
       "      <th>polarity</th>\n",
       "    </tr>\n",
       "  </thead>\n",
       "  <tbody>\n",
       "    <tr>\n",
       "      <th>2787</th>\n",
       "      <td>暗送秋波</td>\n",
       "      <td>PB</td>\n",
       "      <td>5.0</td>\n",
       "      <td>1.0</td>\n",
       "    </tr>\n",
       "    <tr>\n",
       "      <th>2788</th>\n",
       "      <td>暗送秋波</td>\n",
       "      <td>NN</td>\n",
       "      <td>5.0</td>\n",
       "      <td>2.0</td>\n",
       "    </tr>\n",
       "    <tr>\n",
       "      <th>28035</th>\n",
       "      <td>暗送秋波</td>\n",
       "      <td>ND</td>\n",
       "      <td>3.0</td>\n",
       "      <td>2.0</td>\n",
       "    </tr>\n",
       "  </tbody>\n",
       "</table>\n",
       "</div>"
      ],
      "text/plain": [
       "       word emotion  intensity  polarity\n",
       "2787   暗送秋波      PB        5.0       1.0\n",
       "2788   暗送秋波      NN        5.0       2.0\n",
       "28035  暗送秋波      ND        3.0       2.0"
      ]
     },
     "execution_count": 32,
     "metadata": {},
     "output_type": "execute_result"
    }
   ],
   "source": [
    "df[df['word']=='暗送秋波']"
   ]
  },
  {
   "cell_type": "code",
   "execution_count": 33,
   "metadata": {
    "ExecuteTime": {
     "end_time": "2021-02-26T09:17:34.876716Z",
     "start_time": "2021-02-26T09:17:34.873298Z"
    }
   },
   "outputs": [
    {
     "data": {
      "text/plain": [
       "array([0., 0., 0., 1., 0., 0., 0., 0., 0., 0., 0., 1., 0., 1., 0., 0., 0.,\n",
       "       0., 0., 0., 0., 5., 5., 3., 0., 1., 2., 2., 0.])"
      ]
     },
     "execution_count": 33,
     "metadata": {},
     "output_type": "execute_result"
    }
   ],
   "source": [
    "words2array['暗送秋波']"
   ]
  },
  {
   "cell_type": "code",
   "execution_count": 34,
   "metadata": {
    "ExecuteTime": {
     "end_time": "2021-02-26T09:17:34.884616Z",
     "start_time": "2021-02-26T09:17:34.877934Z"
    }
   },
   "outputs": [
    {
     "data": {
      "text/html": [
       "<div>\n",
       "<style scoped>\n",
       "    .dataframe tbody tr th:only-of-type {\n",
       "        vertical-align: middle;\n",
       "    }\n",
       "\n",
       "    .dataframe tbody tr th {\n",
       "        vertical-align: top;\n",
       "    }\n",
       "\n",
       "    .dataframe thead th {\n",
       "        text-align: right;\n",
       "    }\n",
       "</style>\n",
       "<table border=\"1\" class=\"dataframe\">\n",
       "  <thead>\n",
       "    <tr style=\"text-align: right;\">\n",
       "      <th></th>\n",
       "      <th>word</th>\n",
       "      <th>emotion</th>\n",
       "      <th>intensity</th>\n",
       "      <th>polarity</th>\n",
       "    </tr>\n",
       "  </thead>\n",
       "  <tbody>\n",
       "    <tr>\n",
       "      <th>0</th>\n",
       "      <td>脏乱</td>\n",
       "      <td>NN</td>\n",
       "      <td>7.0</td>\n",
       "      <td>2.0</td>\n",
       "    </tr>\n",
       "    <tr>\n",
       "      <th>1</th>\n",
       "      <td>糟报</td>\n",
       "      <td>NN</td>\n",
       "      <td>5.0</td>\n",
       "      <td>2.0</td>\n",
       "    </tr>\n",
       "    <tr>\n",
       "      <th>2</th>\n",
       "      <td>早衰</td>\n",
       "      <td>NE</td>\n",
       "      <td>5.0</td>\n",
       "      <td>2.0</td>\n",
       "    </tr>\n",
       "    <tr>\n",
       "      <th>3</th>\n",
       "      <td>责备</td>\n",
       "      <td>NN</td>\n",
       "      <td>5.0</td>\n",
       "      <td>2.0</td>\n",
       "    </tr>\n",
       "    <tr>\n",
       "      <th>4</th>\n",
       "      <td>贼眼</td>\n",
       "      <td>NN</td>\n",
       "      <td>5.0</td>\n",
       "      <td>2.0</td>\n",
       "    </tr>\n",
       "  </tbody>\n",
       "</table>\n",
       "</div>"
      ],
      "text/plain": [
       "  word emotion  intensity  polarity\n",
       "0   脏乱      NN        7.0       2.0\n",
       "1   糟报      NN        5.0       2.0\n",
       "2   早衰      NE        5.0       2.0\n",
       "3   责备      NN        5.0       2.0\n",
       "4   贼眼      NN        5.0       2.0"
      ]
     },
     "execution_count": 34,
     "metadata": {},
     "output_type": "execute_result"
    }
   ],
   "source": [
    "df.head()"
   ]
  },
  {
   "cell_type": "code",
   "execution_count": 35,
   "metadata": {
    "ExecuteTime": {
     "end_time": "2021-02-26T09:17:36.238499Z",
     "start_time": "2021-02-26T09:17:34.885838Z"
    }
   },
   "outputs": [
    {
     "data": {
      "text/plain": [
       "['words2array_27351.pkl']"
      ]
     },
     "execution_count": 35,
     "metadata": {},
     "output_type": "execute_result"
    }
   ],
   "source": [
    "joblib.dump((category2index, words2array),\n",
    "            'words2array_{}.pkl'.format(len(words2array)))"
   ]
  },
  {
   "cell_type": "code",
   "execution_count": 36,
   "metadata": {
    "ExecuteTime": {
     "end_time": "2021-02-26T09:17:37.215639Z",
     "start_time": "2021-02-26T09:17:36.240524Z"
    }
   },
   "outputs": [
    {
     "data": {
      "text/plain": [
       "{'NA': 0,\n",
       " 'NB': 1,\n",
       " 'NC': 2,\n",
       " 'ND': 3,\n",
       " 'NE': 4,\n",
       " 'NG': 5,\n",
       " 'NH': 6,\n",
       " 'NI': 7,\n",
       " 'NJ': 8,\n",
       " 'NK': 9,\n",
       " 'NL': 10,\n",
       " 'NN': 11,\n",
       " 'PA': 12,\n",
       " 'PB': 13,\n",
       " 'PC': 14,\n",
       " 'PD': 15,\n",
       " 'PE': 16,\n",
       " 'PF': 17,\n",
       " 'PG': 18,\n",
       " 'PH': 19,\n",
       " 'PK': 20}"
      ]
     },
     "execution_count": 36,
     "metadata": {},
     "output_type": "execute_result"
    }
   ],
   "source": [
    "a, b = joblib.load('words2array_27351.pkl')\n",
    "a"
   ]
  },
  {
   "cell_type": "code",
   "execution_count": 37,
   "metadata": {
    "ExecuteTime": {
     "end_time": "2021-02-26T09:17:37.224639Z",
     "start_time": "2021-02-26T09:17:37.217106Z"
    }
   },
   "outputs": [
    {
     "data": {
      "text/plain": [
       "[('脏乱',\n",
       "  array([0., 0., 0., 0., 0., 0., 0., 0., 0., 0., 0., 1., 0., 0., 0., 0., 0.,\n",
       "         0., 0., 0., 0., 7., 0., 0., 0., 2., 0., 0., 0.])),\n",
       " ('糟报',\n",
       "  array([0., 0., 0., 0., 0., 0., 0., 0., 0., 0., 0., 1., 0., 0., 0., 0., 0.,\n",
       "         0., 0., 0., 0., 5., 0., 0., 0., 2., 0., 0., 0.])),\n",
       " ('早衰',\n",
       "  array([0., 0., 0., 0., 1., 0., 0., 0., 0., 0., 0., 0., 0., 0., 0., 0., 0.,\n",
       "         0., 0., 0., 0., 5., 0., 0., 0., 2., 0., 0., 0.])),\n",
       " ('责备',\n",
       "  array([0., 0., 0., 0., 0., 0., 0., 0., 0., 0., 0., 1., 0., 0., 0., 0., 0.,\n",
       "         0., 0., 0., 0., 5., 0., 0., 0., 2., 0., 0., 0.])),\n",
       " ('贼眼',\n",
       "  array([0., 0., 0., 0., 0., 0., 0., 0., 0., 0., 0., 1., 0., 0., 0., 0., 0.,\n",
       "         0., 0., 0., 0., 5., 0., 0., 0., 2., 0., 0., 0.]))]"
      ]
     },
     "execution_count": 37,
     "metadata": {},
     "output_type": "execute_result"
    }
   ],
   "source": [
    "list(b.items())[:5]"
   ]
  },
  {
   "cell_type": "code",
   "execution_count": null,
   "metadata": {},
   "outputs": [],
   "source": []
  }
 ],
 "metadata": {
  "kernelspec": {
   "display_name": "Python 3",
   "language": "python",
   "name": "python3"
  },
  "language_info": {
   "codemirror_mode": {
    "name": "ipython",
    "version": 3
   },
   "file_extension": ".py",
   "mimetype": "text/x-python",
   "name": "python",
   "nbconvert_exporter": "python",
   "pygments_lexer": "ipython3",
   "version": "3.6.10"
  },
  "toc": {
   "base_numbering": 1,
   "nav_menu": {},
   "number_sections": true,
   "sideBar": true,
   "skip_h1_title": false,
   "title_cell": "Table of Contents",
   "title_sidebar": "Contents",
   "toc_cell": false,
   "toc_position": {},
   "toc_section_display": true,
   "toc_window_display": true
  }
 },
 "nbformat": 4,
 "nbformat_minor": 4
}
